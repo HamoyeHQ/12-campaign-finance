{
  "nbformat": 4,
  "nbformat_minor": 0,
  "metadata": {
    "colab": {
      "name": "logisticreg_first_model.ipynb",
      "provenance": []
    },
    "kernelspec": {
      "name": "python3",
      "display_name": "Python 3"
    }
  },
  "cells": [
    {
      "cell_type": "markdown",
      "metadata": {
        "id": "gkXqBT4os6aQ"
      },
      "source": [
        "# Summary\n",
        "This notebook makes use of logistic regression to determine if a candidate will win based on the following features\n",
        "\n",
        "1. 'ind_con'\n",
        "2. 'net_ope_exp'\n",
        "3. 'tot_con'\n",
        "4. 'tot_dis'\n",
        "5. 'net_con'\n",
        "6. 'ope_exp'\t\n",
        "7. 'tot_rec'\n",
        "\n",
        "logistic regression was used on\n",
        "\n",
        "1. The imbalanced data\n",
        "2. After undersampling the majority class ('N')\n",
        "3. After smoting both classes to get a balanced data\n",
        "4. Label encoding was used on 'can_off' and 'can_inc_cha_ope_sea' and added to the features of the balanced data."
      ]
    },
    {
      "cell_type": "code",
      "metadata": {
        "id": "FJazhZjmHJG9"
      },
      "source": [
        "import numpy as np\n",
        "import matplotlib.pyplot as plt\n",
        "import pandas as pd\n",
        "import seaborn as sns"
      ],
      "execution_count": 40,
      "outputs": []
    },
    {
      "cell_type": "code",
      "metadata": {
        "id": "s0yc0fqLHQDr"
      },
      "source": [
        "df = pd.read_csv('https://raw.githubusercontent.com/HamoyeHQ/12-campaign-finance/master/data/new_project_data1.csv')"
      ],
      "execution_count": 41,
      "outputs": []
    },
    {
      "cell_type": "code",
      "metadata": {
        "id": "EVox4OJ2HSbG",
        "outputId": "c686f207-8e92-4e2e-91c7-e2486f73fcd2",
        "colab": {
          "base_uri": "https://localhost:8080/",
          "height": 275
        }
      },
      "source": [
        "df.head()"
      ],
      "execution_count": 42,
      "outputs": [
        {
          "output_type": "execute_result",
          "data": {
            "text/html": [
              "<div>\n",
              "<style scoped>\n",
              "    .dataframe tbody tr th:only-of-type {\n",
              "        vertical-align: middle;\n",
              "    }\n",
              "\n",
              "    .dataframe tbody tr th {\n",
              "        vertical-align: top;\n",
              "    }\n",
              "\n",
              "    .dataframe thead th {\n",
              "        text-align: right;\n",
              "    }\n",
              "</style>\n",
              "<table border=\"1\" class=\"dataframe\">\n",
              "  <thead>\n",
              "    <tr style=\"text-align: right;\">\n",
              "      <th></th>\n",
              "      <th>can_id</th>\n",
              "      <th>can_nam</th>\n",
              "      <th>can_off</th>\n",
              "      <th>can_off_sta</th>\n",
              "      <th>can_off_dis</th>\n",
              "      <th>can_par_aff</th>\n",
              "      <th>can_inc_cha_ope_sea</th>\n",
              "      <th>can_cit</th>\n",
              "      <th>can_sta</th>\n",
              "      <th>can_zip</th>\n",
              "      <th>cov_sta_dat</th>\n",
              "      <th>cov_end_dat</th>\n",
              "      <th>ind_con</th>\n",
              "      <th>net_ope_exp</th>\n",
              "      <th>tot_con</th>\n",
              "      <th>tot_dis</th>\n",
              "      <th>net_con</th>\n",
              "      <th>ope_exp</th>\n",
              "      <th>tot_rec</th>\n",
              "      <th>winner</th>\n",
              "    </tr>\n",
              "  </thead>\n",
              "  <tbody>\n",
              "    <tr>\n",
              "      <th>0</th>\n",
              "      <td>H2GA12121</td>\n",
              "      <td>ALLEN, RICHARD W</td>\n",
              "      <td>H</td>\n",
              "      <td>GA</td>\n",
              "      <td>12.0</td>\n",
              "      <td>REP</td>\n",
              "      <td>INCUMBENT</td>\n",
              "      <td>AUGUSTA</td>\n",
              "      <td>GA</td>\n",
              "      <td>30904.0</td>\n",
              "      <td>1/1/2015</td>\n",
              "      <td>10/19/2016</td>\n",
              "      <td>601274.50</td>\n",
              "      <td>907156.21</td>\n",
              "      <td>1074949.50</td>\n",
              "      <td>978518.98</td>\n",
              "      <td>1074949.50</td>\n",
              "      <td>908518.98</td>\n",
              "      <td>1094022.76</td>\n",
              "      <td>Y</td>\n",
              "    </tr>\n",
              "    <tr>\n",
              "      <th>1</th>\n",
              "      <td>H6PA02171</td>\n",
              "      <td>EVANS, DWIGHT</td>\n",
              "      <td>H</td>\n",
              "      <td>PA</td>\n",
              "      <td>2.0</td>\n",
              "      <td>DEM</td>\n",
              "      <td>CHALLENGER</td>\n",
              "      <td>PHILADELPHIA</td>\n",
              "      <td>PA</td>\n",
              "      <td>19138.0</td>\n",
              "      <td>11/2/2015</td>\n",
              "      <td>10/19/2016</td>\n",
              "      <td>1114711.02</td>\n",
              "      <td>1298831.83</td>\n",
              "      <td>1417545.22</td>\n",
              "      <td>1313583.69</td>\n",
              "      <td>1406719.06</td>\n",
              "      <td>1300557.53</td>\n",
              "      <td>1419270.92</td>\n",
              "      <td>Y</td>\n",
              "    </tr>\n",
              "    <tr>\n",
              "      <th>2</th>\n",
              "      <td>H6FL04105</td>\n",
              "      <td>RUTHERFORD, JOHN</td>\n",
              "      <td>H</td>\n",
              "      <td>FL</td>\n",
              "      <td>4.0</td>\n",
              "      <td>REP</td>\n",
              "      <td>OPEN</td>\n",
              "      <td>JACKSONVILLE</td>\n",
              "      <td>FL</td>\n",
              "      <td>32224.0</td>\n",
              "      <td>4/1/2016</td>\n",
              "      <td>10/19/2016</td>\n",
              "      <td>542105.38</td>\n",
              "      <td>656210.29</td>\n",
              "      <td>650855.38</td>\n",
              "      <td>675642.76</td>\n",
              "      <td>650855.38</td>\n",
              "      <td>656642.76</td>\n",
              "      <td>711287.85</td>\n",
              "      <td>Y</td>\n",
              "    </tr>\n",
              "    <tr>\n",
              "      <th>3</th>\n",
              "      <td>H4MT01041</td>\n",
              "      <td>ZINKE, RYAN K</td>\n",
              "      <td>H</td>\n",
              "      <td>MT</td>\n",
              "      <td>0.0</td>\n",
              "      <td>REP</td>\n",
              "      <td>INCUMBENT</td>\n",
              "      <td>WHITEFISH</td>\n",
              "      <td>MT</td>\n",
              "      <td>599373010.0</td>\n",
              "      <td>1/1/2015</td>\n",
              "      <td>10/19/2016</td>\n",
              "      <td>4317331.58</td>\n",
              "      <td>5055942.15</td>\n",
              "      <td>4980915.41</td>\n",
              "      <td>5200630.00</td>\n",
              "      <td>4938943.74</td>\n",
              "      <td>5073110.33</td>\n",
              "      <td>5190887.78</td>\n",
              "      <td>Y</td>\n",
              "    </tr>\n",
              "    <tr>\n",
              "      <th>4</th>\n",
              "      <td>H8CA09060</td>\n",
              "      <td>LEE, BARBARA</td>\n",
              "      <td>H</td>\n",
              "      <td>CA</td>\n",
              "      <td>13.0</td>\n",
              "      <td>DEM</td>\n",
              "      <td>INCUMBENT</td>\n",
              "      <td>OAKLAND</td>\n",
              "      <td>CA</td>\n",
              "      <td>94612.0</td>\n",
              "      <td>1/1/2015</td>\n",
              "      <td>10/19/2016</td>\n",
              "      <td>897123.61</td>\n",
              "      <td>949488.98</td>\n",
              "      <td>1205863.61</td>\n",
              "      <td>1112163.94</td>\n",
              "      <td>1197676.61</td>\n",
              "      <td>953436.94</td>\n",
              "      <td>1209811.57</td>\n",
              "      <td>Y</td>\n",
              "    </tr>\n",
              "  </tbody>\n",
              "</table>\n",
              "</div>"
            ],
            "text/plain": [
              "      can_id           can_nam can_off  ...     ope_exp     tot_rec winner\n",
              "0  H2GA12121  ALLEN, RICHARD W       H  ...   908518.98  1094022.76      Y\n",
              "1  H6PA02171     EVANS, DWIGHT       H  ...  1300557.53  1419270.92      Y\n",
              "2  H6FL04105  RUTHERFORD, JOHN       H  ...   656642.76   711287.85      Y\n",
              "3  H4MT01041     ZINKE, RYAN K       H  ...  5073110.33  5190887.78      Y\n",
              "4  H8CA09060      LEE, BARBARA       H  ...   953436.94  1209811.57      Y\n",
              "\n",
              "[5 rows x 20 columns]"
            ]
          },
          "metadata": {
            "tags": []
          },
          "execution_count": 42
        }
      ]
    },
    {
      "cell_type": "markdown",
      "metadata": {
        "id": "xPiXLpp8i_rP"
      },
      "source": [
        "### Checking if data is balanced"
      ]
    },
    {
      "cell_type": "code",
      "metadata": {
        "id": "r_uqroYBPsVy",
        "outputId": "ed1bdb48-7504-486c-d415-d1a2a086a628",
        "colab": {
          "base_uri": "https://localhost:8080/",
          "height": 68
        }
      },
      "source": [
        "df.winner.value_counts()"
      ],
      "execution_count": 43,
      "outputs": [
        {
          "output_type": "execute_result",
          "data": {
            "text/plain": [
              "N    1087\n",
              "Y     464\n",
              "Name: winner, dtype: int64"
            ]
          },
          "metadata": {
            "tags": []
          },
          "execution_count": 43
        }
      ]
    },
    {
      "cell_type": "code",
      "metadata": {
        "id": "crX-aN3PKboT",
        "outputId": "4c9128db-1842-4bb3-a5e6-5512077a99f6",
        "colab": {
          "base_uri": "https://localhost:8080/",
          "height": 51
        }
      },
      "source": [
        "l,w=df.winner.value_counts()\n",
        "print('Winners',w)\n",
        "print('Loosers',l)"
      ],
      "execution_count": 44,
      "outputs": [
        {
          "output_type": "stream",
          "text": [
            "Winners 464\n",
            "Loosers 1087\n"
          ],
          "name": "stdout"
        }
      ]
    },
    {
      "cell_type": "code",
      "metadata": {
        "id": "298bNVnNRkr0",
        "outputId": "e6a51d98-497c-415d-88d6-04309a556e6d",
        "colab": {
          "base_uri": "https://localhost:8080/",
          "height": 279
        }
      },
      "source": [
        "sns.countplot(x='winner',data=df,palette='hls')\n",
        "plt.show()\n",
        "# The data is clearly imbalanced"
      ],
      "execution_count": 45,
      "outputs": [
        {
          "output_type": "display_data",
          "data": {
            "image/png": "[encoded data removed]",
            "text/plain": [
              "<Figure size 432x288 with 1 Axes>"
            ]
          },
          "metadata": {
            "tags": [],
            "needs_background": "light"
          }
        }
      ]
    },
    {
      "cell_type": "markdown",
      "metadata": {
        "id": "2lkrHqdZqjGP"
      },
      "source": [
        "### Modelling with the imbalanced data"
      ]
    },
    {
      "cell_type": "code",
      "metadata": {
        "id": "US-wxXCLjT_E",
        "outputId": "aab07741-6b9c-469f-bfe9-024beb8c5f26",
        "colab": {
          "base_uri": "https://localhost:8080/",
          "height": 119
        }
      },
      "source": [
        "# Converting values in the winner column to float values i.e Y=1.0 and N=0.0\n",
        "df['winner'] = df['winner'].apply(lambda val: float(int(val=='Y')))\n",
        "df.winner.head()"
      ],
      "execution_count": 46,
      "outputs": [
        {
          "output_type": "execute_result",
          "data": {
            "text/plain": [
              "0    1.0\n",
              "1    1.0\n",
              "2    1.0\n",
              "3    1.0\n",
              "4    1.0\n",
              "Name: winner, dtype: float64"
            ]
          },
          "metadata": {
            "tags": []
          },
          "execution_count": 46
        }
      ]
    },
    {
      "cell_type": "code",
      "metadata": {
        "id": "y6iCL3nrouf-"
      },
      "source": [
        "x_unbal=df[['ind_con','net_ope_exp',\t'tot_con', 'tot_dis',\t'net_con',\t'ope_exp',\t'tot_rec']]\n",
        "y_unbal = df.winner"
      ],
      "execution_count": 47,
      "outputs": []
    },
    {
      "cell_type": "code",
      "metadata": {
        "id": "_6zlRzKEpJWl",
        "outputId": "5406997c-d5a8-45fe-cdd5-2de28147a0fc",
        "colab": {
          "base_uri": "https://localhost:8080/",
          "height": 34
        }
      },
      "source": [
        "from sklearn.model_selection import train_test_split\n",
        "from sklearn.linear_model import LogisticRegression\n",
        "x_train, x_test, y_train, y_test = train_test_split(x_unbal, y_unbal, test_size=0.3, random_state=4)\n",
        "lreg = LogisticRegression()\n",
        "lreg.fit(x_train, y_train)\n",
        "y_pred = lreg.predict(x_test)\n",
        "print('Accuracy {:.2f}'.format(lreg.score(x_test, y_test)))"
      ],
      "execution_count": 48,
      "outputs": [
        {
          "output_type": "stream",
          "text": [
            "Accuracy 0.80\n"
          ],
          "name": "stdout"
        }
      ]
    },
    {
      "cell_type": "code",
      "metadata": {
        "id": "2X093SiZppR7",
        "outputId": "58eb1939-3a40-4370-8623-782cc050ee9f",
        "colab": {
          "base_uri": "https://localhost:8080/",
          "height": 170
        }
      },
      "source": [
        "from sklearn.metrics import classification_report\n",
        "print(classification_report(y_test, y_pred))"
      ],
      "execution_count": 49,
      "outputs": [
        {
          "output_type": "stream",
          "text": [
            "              precision    recall  f1-score   support\n",
            "\n",
            "         0.0       0.94      0.76      0.84       318\n",
            "         1.0       0.64      0.90      0.75       148\n",
            "\n",
            "    accuracy                           0.80       466\n",
            "   macro avg       0.79      0.83      0.79       466\n",
            "weighted avg       0.84      0.80      0.81       466\n",
            "\n"
          ],
          "name": "stdout"
        }
      ]
    },
    {
      "cell_type": "code",
      "metadata": {
        "id": "LJWp_2-5qCqP",
        "outputId": "9580d00d-335f-4c3f-a595-e18a603689a0",
        "colab": {
          "base_uri": "https://localhost:8080/",
          "height": 513
        }
      },
      "source": [
        "from sklearn.metrics import roc_auc_score\n",
        "from sklearn.metrics import roc_curve\n",
        "logit_roc_auc = roc_auc_score(y_test, lreg.predict(x_test))\n",
        "fpr, tpr, thresholds = roc_curve(y_test, lreg.predict_proba(x_test)[:,1])\n",
        "plt.figure(figsize=(13,8))\n",
        "plt.plot(fpr, tpr, label='Logistic Regression (area = %0.2f)' % logit_roc_auc)\n",
        "plt.plot([0, 1], [0, 1],'r--')\n",
        "plt.xlim([0.0, 1.0])\n",
        "plt.ylim([0.0, 1.05])\n",
        "plt.xlabel('False Positive Rate')\n",
        "plt.ylabel('True Positive Rate')\n",
        "plt.title('Receiver operating characteristic')\n",
        "plt.legend(loc=\"lower right\")\n",
        "plt.savefig('Log_ROC')\n",
        "plt.show()"
      ],
      "execution_count": 50,
      "outputs": [
        {
          "output_type": "display_data",
          "data": {
            "image/png": "[encoded data removed]",
            "text/plain": [
              "<Figure size 936x576 with 1 Axes>"
            ]
          },
          "metadata": {
            "tags": [],
            "needs_background": "light"
          }
        }
      ]
    },
    {
      "cell_type": "markdown",
      "metadata": {
        "id": "xRAB2gg2ow92"
      },
      "source": [
        "### Handling the imbalanced data by undersampling 'N'"
      ]
    },
    {
      "cell_type": "code",
      "metadata": {
        "id": "iu2OZVPlPtkh",
        "outputId": "e0923ee2-e703-4262-c5a5-c47ddbaebe24",
        "colab": {
          "base_uri": "https://localhost:8080/",
          "height": 34
        }
      },
      "source": [
        "# undersample the N class and shuffle\n",
        "s1 = df[df.winner == 0.0].sample(464)\n",
        "s2 = df[df.winner == 1.0].sample(464)\n",
        "\n",
        "print(len(s1),len(s2))\n",
        "df_train = pd.concat([s1,s2])"
      ],
      "execution_count": 51,
      "outputs": [
        {
          "output_type": "stream",
          "text": [
            "464 464\n"
          ],
          "name": "stdout"
        }
      ]
    },
    {
      "cell_type": "code",
      "metadata": {
        "id": "ySRql2Ctk826",
        "outputId": "ae13e024-2464-40b3-93b3-51a9796a9a5e",
        "colab": {
          "base_uri": "https://localhost:8080/",
          "height": 279
        }
      },
      "source": [
        "sns.countplot(x='winner',data=df_train,palette='hls')\n",
        "plt.show()"
      ],
      "execution_count": 52,
      "outputs": [
        {
          "output_type": "display_data",
          "data": {
            "image/png": "[encoded data removed]",
            "text/plain": [
              "<Figure size 432x288 with 1 Axes>"
            ]
          },
          "metadata": {
            "tags": [],
            "needs_background": "light"
          }
        }
      ]
    },
    {
      "cell_type": "code",
      "metadata": {
        "id": "6gwGhYS3SsXK",
        "outputId": "7cfd0a12-b944-48ef-fb3e-a48b0c78bc91",
        "colab": {
          "base_uri": "https://localhost:8080/",
          "height": 360
        }
      },
      "source": [
        "df_train.head()"
      ],
      "execution_count": 53,
      "outputs": [
        {
          "output_type": "execute_result",
          "data": {
            "text/html": [
              "<div>\n",
              "<style scoped>\n",
              "    .dataframe tbody tr th:only-of-type {\n",
              "        vertical-align: middle;\n",
              "    }\n",
              "\n",
              "    .dataframe tbody tr th {\n",
              "        vertical-align: top;\n",
              "    }\n",
              "\n",
              "    .dataframe thead th {\n",
              "        text-align: right;\n",
              "    }\n",
              "</style>\n",
              "<table border=\"1\" class=\"dataframe\">\n",
              "  <thead>\n",
              "    <tr style=\"text-align: right;\">\n",
              "      <th></th>\n",
              "      <th>can_id</th>\n",
              "      <th>can_nam</th>\n",
              "      <th>can_off</th>\n",
              "      <th>can_off_sta</th>\n",
              "      <th>can_off_dis</th>\n",
              "      <th>can_par_aff</th>\n",
              "      <th>can_inc_cha_ope_sea</th>\n",
              "      <th>can_cit</th>\n",
              "      <th>can_sta</th>\n",
              "      <th>can_zip</th>\n",
              "      <th>cov_sta_dat</th>\n",
              "      <th>cov_end_dat</th>\n",
              "      <th>ind_con</th>\n",
              "      <th>net_ope_exp</th>\n",
              "      <th>tot_con</th>\n",
              "      <th>tot_dis</th>\n",
              "      <th>net_con</th>\n",
              "      <th>ope_exp</th>\n",
              "      <th>tot_rec</th>\n",
              "      <th>winner</th>\n",
              "    </tr>\n",
              "  </thead>\n",
              "  <tbody>\n",
              "    <tr>\n",
              "      <th>1374</th>\n",
              "      <td>H6MN02198</td>\n",
              "      <td>MILLER, DARLENE</td>\n",
              "      <td>H</td>\n",
              "      <td>MN</td>\n",
              "      <td>2.0</td>\n",
              "      <td>REP</td>\n",
              "      <td>OPEN</td>\n",
              "      <td>PRIOR LAKE</td>\n",
              "      <td>MN</td>\n",
              "      <td>55372.0</td>\n",
              "      <td>1/1/2016</td>\n",
              "      <td>9/30/2016</td>\n",
              "      <td>334749.70</td>\n",
              "      <td>369722.70</td>\n",
              "      <td>411749.70</td>\n",
              "      <td>428258.47</td>\n",
              "      <td>355849.70</td>\n",
              "      <td>372358.47</td>\n",
              "      <td>431081.39</td>\n",
              "      <td>0.0</td>\n",
              "    </tr>\n",
              "    <tr>\n",
              "      <th>569</th>\n",
              "      <td>H6NC10158</td>\n",
              "      <td>MILLARD, CARL ANDREW</td>\n",
              "      <td>H</td>\n",
              "      <td>NC</td>\n",
              "      <td>10.0</td>\n",
              "      <td>DEM</td>\n",
              "      <td>CHALLENGER</td>\n",
              "      <td>TRYON</td>\n",
              "      <td>NC</td>\n",
              "      <td>28782.0</td>\n",
              "      <td>1/1/2015</td>\n",
              "      <td>10/19/2016</td>\n",
              "      <td>252348.92</td>\n",
              "      <td>267103.13</td>\n",
              "      <td>253848.92</td>\n",
              "      <td>269962.53</td>\n",
              "      <td>253348.92</td>\n",
              "      <td>267103.13</td>\n",
              "      <td>380754.77</td>\n",
              "      <td>0.0</td>\n",
              "    </tr>\n",
              "    <tr>\n",
              "      <th>822</th>\n",
              "      <td>S6CO00283</td>\n",
              "      <td>KEYSER, JON</td>\n",
              "      <td>S</td>\n",
              "      <td>CO</td>\n",
              "      <td>0.0</td>\n",
              "      <td>REP</td>\n",
              "      <td>CHALLENGER</td>\n",
              "      <td>GREENWOOD VILLAGE</td>\n",
              "      <td>CO</td>\n",
              "      <td>80111.0</td>\n",
              "      <td>1/1/2016</td>\n",
              "      <td>9/30/2016</td>\n",
              "      <td>416014.00</td>\n",
              "      <td>557621.00</td>\n",
              "      <td>438577.00</td>\n",
              "      <td>650704.00</td>\n",
              "      <td>345527.00</td>\n",
              "      <td>557654.00</td>\n",
              "      <td>650705.00</td>\n",
              "      <td>0.0</td>\n",
              "    </tr>\n",
              "    <tr>\n",
              "      <th>1340</th>\n",
              "      <td>H2FL14152</td>\n",
              "      <td>GOSS, CHAUNCEY P</td>\n",
              "      <td>H</td>\n",
              "      <td>FL</td>\n",
              "      <td>19.0</td>\n",
              "      <td>REP</td>\n",
              "      <td>OPEN</td>\n",
              "      <td>FORT MYERS</td>\n",
              "      <td>FL</td>\n",
              "      <td>33902.0</td>\n",
              "      <td>4/1/2016</td>\n",
              "      <td>9/30/2016</td>\n",
              "      <td>349253.79</td>\n",
              "      <td>386429.01</td>\n",
              "      <td>353253.79</td>\n",
              "      <td>392853.79</td>\n",
              "      <td>350553.79</td>\n",
              "      <td>386429.01</td>\n",
              "      <td>392853.79</td>\n",
              "      <td>0.0</td>\n",
              "    </tr>\n",
              "    <tr>\n",
              "      <th>538</th>\n",
              "      <td>H6OH09099</td>\n",
              "      <td>LARSON, DONALD PHILIP</td>\n",
              "      <td>H</td>\n",
              "      <td>OH</td>\n",
              "      <td>9.0</td>\n",
              "      <td>REP</td>\n",
              "      <td>CHALLENGER</td>\n",
              "      <td>LAKEWOOD</td>\n",
              "      <td>OH</td>\n",
              "      <td>44107.0</td>\n",
              "      <td>10/1/2015</td>\n",
              "      <td>10/19/2016</td>\n",
              "      <td>21785.00</td>\n",
              "      <td>24123.84</td>\n",
              "      <td>22659.39</td>\n",
              "      <td>25123.84</td>\n",
              "      <td>22659.39</td>\n",
              "      <td>24123.84</td>\n",
              "      <td>27859.39</td>\n",
              "      <td>0.0</td>\n",
              "    </tr>\n",
              "  </tbody>\n",
              "</table>\n",
              "</div>"
            ],
            "text/plain": [
              "         can_id                can_nam can_off  ...    ope_exp    tot_rec winner\n",
              "1374  H6MN02198        MILLER, DARLENE       H  ...  372358.47  431081.39    0.0\n",
              "569   H6NC10158   MILLARD, CARL ANDREW       H  ...  267103.13  380754.77    0.0\n",
              "822   S6CO00283            KEYSER, JON       S  ...  557654.00  650705.00    0.0\n",
              "1340  H2FL14152       GOSS, CHAUNCEY P       H  ...  386429.01  392853.79    0.0\n",
              "538   H6OH09099  LARSON, DONALD PHILIP       H  ...   24123.84   27859.39    0.0\n",
              "\n",
              "[5 rows x 20 columns]"
            ]
          },
          "metadata": {
            "tags": []
          },
          "execution_count": 53
        }
      ]
    },
    {
      "cell_type": "code",
      "metadata": {
        "id": "WC6ERmJUTQ0J",
        "outputId": "3270bd9c-f27a-4cbd-c9ec-449ef7c16067",
        "colab": {
          "base_uri": "https://localhost:8080/",
          "height": 204
        }
      },
      "source": [
        "x=df_train[['ind_con','net_ope_exp',\t'tot_con', 'tot_dis',\t'net_con',\t'ope_exp',\t'tot_rec']]\n",
        "x.head()"
      ],
      "execution_count": 54,
      "outputs": [
        {
          "output_type": "execute_result",
          "data": {
            "text/html": [
              "<div>\n",
              "<style scoped>\n",
              "    .dataframe tbody tr th:only-of-type {\n",
              "        vertical-align: middle;\n",
              "    }\n",
              "\n",
              "    .dataframe tbody tr th {\n",
              "        vertical-align: top;\n",
              "    }\n",
              "\n",
              "    .dataframe thead th {\n",
              "        text-align: right;\n",
              "    }\n",
              "</style>\n",
              "<table border=\"1\" class=\"dataframe\">\n",
              "  <thead>\n",
              "    <tr style=\"text-align: right;\">\n",
              "      <th></th>\n",
              "      <th>ind_con</th>\n",
              "      <th>net_ope_exp</th>\n",
              "      <th>tot_con</th>\n",
              "      <th>tot_dis</th>\n",
              "      <th>net_con</th>\n",
              "      <th>ope_exp</th>\n",
              "      <th>tot_rec</th>\n",
              "    </tr>\n",
              "  </thead>\n",
              "  <tbody>\n",
              "    <tr>\n",
              "      <th>1374</th>\n",
              "      <td>334749.70</td>\n",
              "      <td>369722.70</td>\n",
              "      <td>411749.70</td>\n",
              "      <td>428258.47</td>\n",
              "      <td>355849.70</td>\n",
              "      <td>372358.47</td>\n",
              "      <td>431081.39</td>\n",
              "    </tr>\n",
              "    <tr>\n",
              "      <th>569</th>\n",
              "      <td>252348.92</td>\n",
              "      <td>267103.13</td>\n",
              "      <td>253848.92</td>\n",
              "      <td>269962.53</td>\n",
              "      <td>253348.92</td>\n",
              "      <td>267103.13</td>\n",
              "      <td>380754.77</td>\n",
              "    </tr>\n",
              "    <tr>\n",
              "      <th>822</th>\n",
              "      <td>416014.00</td>\n",
              "      <td>557621.00</td>\n",
              "      <td>438577.00</td>\n",
              "      <td>650704.00</td>\n",
              "      <td>345527.00</td>\n",
              "      <td>557654.00</td>\n",
              "      <td>650705.00</td>\n",
              "    </tr>\n",
              "    <tr>\n",
              "      <th>1340</th>\n",
              "      <td>349253.79</td>\n",
              "      <td>386429.01</td>\n",
              "      <td>353253.79</td>\n",
              "      <td>392853.79</td>\n",
              "      <td>350553.79</td>\n",
              "      <td>386429.01</td>\n",
              "      <td>392853.79</td>\n",
              "    </tr>\n",
              "    <tr>\n",
              "      <th>538</th>\n",
              "      <td>21785.00</td>\n",
              "      <td>24123.84</td>\n",
              "      <td>22659.39</td>\n",
              "      <td>25123.84</td>\n",
              "      <td>22659.39</td>\n",
              "      <td>24123.84</td>\n",
              "      <td>27859.39</td>\n",
              "    </tr>\n",
              "  </tbody>\n",
              "</table>\n",
              "</div>"
            ],
            "text/plain": [
              "        ind_con  net_ope_exp    tot_con  ...    net_con    ope_exp    tot_rec\n",
              "1374  334749.70    369722.70  411749.70  ...  355849.70  372358.47  431081.39\n",
              "569   252348.92    267103.13  253848.92  ...  253348.92  267103.13  380754.77\n",
              "822   416014.00    557621.00  438577.00  ...  345527.00  557654.00  650705.00\n",
              "1340  349253.79    386429.01  353253.79  ...  350553.79  386429.01  392853.79\n",
              "538    21785.00     24123.84   22659.39  ...   22659.39   24123.84   27859.39\n",
              "\n",
              "[5 rows x 7 columns]"
            ]
          },
          "metadata": {
            "tags": []
          },
          "execution_count": 54
        }
      ]
    },
    {
      "cell_type": "code",
      "metadata": {
        "id": "3lNRd5r5VHDh",
        "outputId": "c342de34-6ec6-4d21-e84a-b51057de7d2a",
        "colab": {
          "base_uri": "https://localhost:8080/",
          "height": 119
        }
      },
      "source": [
        "y = df_train.winner\n",
        "y.head()"
      ],
      "execution_count": 55,
      "outputs": [
        {
          "output_type": "execute_result",
          "data": {
            "text/plain": [
              "1374    0.0\n",
              "569     0.0\n",
              "822     0.0\n",
              "1340    0.0\n",
              "538     0.0\n",
              "Name: winner, dtype: float64"
            ]
          },
          "metadata": {
            "tags": []
          },
          "execution_count": 55
        }
      ]
    },
    {
      "cell_type": "code",
      "metadata": {
        "id": "6G9jDz0yWfUw",
        "outputId": "81cf86f9-22f3-4b9f-bd9a-5dba7cf8f3f4",
        "colab": {
          "base_uri": "https://localhost:8080/",
          "height": 102
        }
      },
      "source": [
        "from sklearn.model_selection import train_test_split\n",
        "from sklearn.linear_model import LogisticRegression\n",
        "x_train, x_test, y_train, y_test = train_test_split(x, y, test_size=0.3, random_state=4)\n",
        "lreg = LogisticRegression()\n",
        "lreg.fit(x_train, y_train)"
      ],
      "execution_count": 56,
      "outputs": [
        {
          "output_type": "execute_result",
          "data": {
            "text/plain": [
              "LogisticRegression(C=1.0, class_weight=None, dual=False, fit_intercept=True,\n",
              "                   intercept_scaling=1, l1_ratio=None, max_iter=100,\n",
              "                   multi_class='auto', n_jobs=None, penalty='l2',\n",
              "                   random_state=None, solver='lbfgs', tol=0.0001, verbose=0,\n",
              "                   warm_start=False)"
            ]
          },
          "metadata": {
            "tags": []
          },
          "execution_count": 56
        }
      ]
    },
    {
      "cell_type": "code",
      "metadata": {
        "id": "Z6fB-Da8ZGwY",
        "outputId": "9b24a277-9bfc-4c0d-8fa0-4f77a29a6de3",
        "colab": {
          "base_uri": "https://localhost:8080/",
          "height": 34
        }
      },
      "source": [
        "y_pred = lreg.predict(x_test)\n",
        "print('Accuracy {:.2f}'.format(lreg.score(x_test, y_test)))"
      ],
      "execution_count": 57,
      "outputs": [
        {
          "output_type": "stream",
          "text": [
            "Accuracy 0.76\n"
          ],
          "name": "stdout"
        }
      ]
    },
    {
      "cell_type": "code",
      "metadata": {
        "id": "TamHfYurZfS4",
        "outputId": "b55646c6-695f-4d44-c2e6-4792a4691785",
        "colab": {
          "base_uri": "https://localhost:8080/",
          "height": 51
        }
      },
      "source": [
        "from sklearn.metrics import confusion_matrix\n",
        "confusion_matrix = confusion_matrix(y_test, y_pred)\n",
        "print(confusion_matrix)"
      ],
      "execution_count": 58,
      "outputs": [
        {
          "output_type": "stream",
          "text": [
            "[[ 76  60]\n",
            " [  7 136]]\n"
          ],
          "name": "stdout"
        }
      ]
    },
    {
      "cell_type": "code",
      "metadata": {
        "id": "P0WgebGhZQ24",
        "outputId": "b60bb8bd-4f68-4a7c-e18a-332b27c9263e",
        "colab": {
          "base_uri": "https://localhost:8080/",
          "height": 170
        }
      },
      "source": [
        "from sklearn.metrics import classification_report\n",
        "print(classification_report(y_test, y_pred))"
      ],
      "execution_count": 59,
      "outputs": [
        {
          "output_type": "stream",
          "text": [
            "              precision    recall  f1-score   support\n",
            "\n",
            "         0.0       0.92      0.56      0.69       136\n",
            "         1.0       0.69      0.95      0.80       143\n",
            "\n",
            "    accuracy                           0.76       279\n",
            "   macro avg       0.80      0.75      0.75       279\n",
            "weighted avg       0.80      0.76      0.75       279\n",
            "\n"
          ],
          "name": "stdout"
        }
      ]
    },
    {
      "cell_type": "code",
      "metadata": {
        "id": "fq8zu9vbg_EV",
        "outputId": "2adef0a5-10f8-421d-e5e3-34698fbe1739",
        "colab": {
          "base_uri": "https://localhost:8080/",
          "height": 513
        }
      },
      "source": [
        "from sklearn.metrics import roc_auc_score\n",
        "from sklearn.metrics import roc_curve\n",
        "logit_roc_auc = roc_auc_score(y_test, lreg.predict(x_test))\n",
        "fpr, tpr, thresholds = roc_curve(y_test, lreg.predict_proba(x_test)[:,1])\n",
        "plt.figure(figsize=(13,8))\n",
        "plt.plot(fpr, tpr, label='Logistic Regression (area = %0.2f)' % logit_roc_auc)\n",
        "plt.plot([0, 1], [0, 1],'r--')\n",
        "plt.xlim([0.0, 1.0])\n",
        "plt.ylim([0.0, 1.05])\n",
        "plt.xlabel('False Positive Rate')\n",
        "plt.ylabel('True Positive Rate')\n",
        "plt.title('Receiver operating characteristic')\n",
        "plt.legend(loc=\"lower right\")\n",
        "plt.savefig('Log_ROC')\n",
        "plt.show()"
      ],
      "execution_count": 60,
      "outputs": [
        {
          "output_type": "display_data",
          "data": {
            "image/png": "[encoded data removed]",
            "text/plain": [
              "<Figure size 936x576 with 1 Axes>"
            ]
          },
          "metadata": {
            "tags": [],
            "needs_background": "light"
          }
        }
      ]
    },
    {
      "cell_type": "markdown",
      "metadata": {
        "id": "HaIQkWqRrSmO"
      },
      "source": [
        "### Balancing the data by smoting both classes"
      ]
    },
    {
      "cell_type": "code",
      "metadata": {
        "id": "Y99EHYwfrYXF"
      },
      "source": [
        "x_train, x_test, y_train, y_test = train_test_split(x_unbal, y_unbal, test_size=0.3, random_state=4)\n",
        "lreg = LogisticRegression()"
      ],
      "execution_count": 61,
      "outputs": []
    },
    {
      "cell_type": "code",
      "metadata": {
        "id": "UzWQ1D0hrtBz",
        "outputId": "4a454ca6-0e0f-44cd-9a64-acf22b4d130f",
        "colab": {
          "base_uri": "https://localhost:8080/",
          "height": 71
        }
      },
      "source": [
        "from imblearn.over_sampling import SMOTE\n",
        "sm = SMOTE(random_state=0)\n",
        "columns = x_train.columns\n",
        "sm_x,sm_y=sm.fit_sample(x_train, y_train)\n",
        "sm_x = pd.DataFrame(data=sm_x,columns=columns )\n",
        "# sm_y= pd.DataFrame(data=sm_y,columns=['winner'])\n",
        "\n",
        "sm_y= pd.Series(data=sm_y)\n"
      ],
      "execution_count": 62,
      "outputs": [
        {
          "output_type": "stream",
          "text": [
            "/usr/local/lib/python3.6/dist-packages/sklearn/utils/deprecation.py:87: FutureWarning: Function safe_indexing is deprecated; safe_indexing is deprecated in version 0.22 and will be removed in version 0.24.\n",
            "  warnings.warn(msg, category=FutureWarning)\n"
          ],
          "name": "stderr"
        }
      ]
    },
    {
      "cell_type": "code",
      "metadata": {
        "id": "i3UHMQcx4dmn",
        "outputId": "04bd5046-1ff6-484c-f474-759fdcef68f4",
        "colab": {
          "base_uri": "https://localhost:8080/",
          "height": 68
        }
      },
      "source": [
        "sm_y.value_counts()"
      ],
      "execution_count": 63,
      "outputs": [
        {
          "output_type": "execute_result",
          "data": {
            "text/plain": [
              "1.0    769\n",
              "0.0    769\n",
              "dtype: int64"
            ]
          },
          "metadata": {
            "tags": []
          },
          "execution_count": 63
        }
      ]
    },
    {
      "cell_type": "code",
      "metadata": {
        "id": "uJCIMo7Br-hp",
        "outputId": "6b3bbd22-b921-4c8b-b039-8fcb7d3d09fb",
        "colab": {
          "base_uri": "https://localhost:8080/",
          "height": 34
        }
      },
      "source": [
        "lreg.fit(sm_x, sm_y)\n",
        "y_pred = lreg.predict(x_test)\n",
        "print('Accuracy {:.2f}'.format(lreg.score(x_test, y_test)))"
      ],
      "execution_count": 64,
      "outputs": [
        {
          "output_type": "stream",
          "text": [
            "Accuracy 0.76\n"
          ],
          "name": "stdout"
        }
      ]
    },
    {
      "cell_type": "code",
      "metadata": {
        "id": "2QAXRTZBsOUy",
        "outputId": "b718eec2-9418-4118-e57f-e34a0b683010",
        "colab": {
          "base_uri": "https://localhost:8080/",
          "height": 170
        }
      },
      "source": [
        "from sklearn.metrics import classification_report\n",
        "print(classification_report(y_test, y_pred))"
      ],
      "execution_count": 65,
      "outputs": [
        {
          "output_type": "stream",
          "text": [
            "              precision    recall  f1-score   support\n",
            "\n",
            "         0.0       0.96      0.68      0.80       318\n",
            "         1.0       0.58      0.94      0.71       148\n",
            "\n",
            "    accuracy                           0.76       466\n",
            "   macro avg       0.77      0.81      0.76       466\n",
            "weighted avg       0.84      0.76      0.77       466\n",
            "\n"
          ],
          "name": "stdout"
        }
      ]
    },
    {
      "cell_type": "code",
      "metadata": {
        "id": "zocUgP_6sczB",
        "outputId": "29146aa3-acf2-4147-d669-b0629be211f6",
        "colab": {
          "base_uri": "https://localhost:8080/",
          "height": 513
        }
      },
      "source": [
        "from sklearn.metrics import roc_auc_score\n",
        "from sklearn.metrics import roc_curve\n",
        "logit_roc_auc = roc_auc_score(y_test, lreg.predict(x_test))\n",
        "fpr, tpr, thresholds = roc_curve(y_test, lreg.predict_proba(x_test)[:,1])\n",
        "plt.figure(figsize=(13,8))\n",
        "plt.plot(fpr, tpr, label='Logistic Regression (area = %0.2f)' % logit_roc_auc)\n",
        "plt.plot([0, 1], [0, 1],'r--')\n",
        "plt.xlim([0.0, 1.0])\n",
        "plt.ylim([0.0, 1.05])\n",
        "plt.xlabel('False Positive Rate')\n",
        "plt.ylabel('True Positive Rate')\n",
        "plt.title('Receiver operating characteristic')\n",
        "plt.legend(loc=\"lower right\")\n",
        "plt.savefig('Log_ROC')\n",
        "plt.show()"
      ],
      "execution_count": 66,
      "outputs": [
        {
          "output_type": "display_data",
          "data": {
            "image/png": "[encoded data removed]",
            "text/plain": [
              "<Figure size 936x576 with 1 Axes>"
            ]
          },
          "metadata": {
            "tags": [],
            "needs_background": "light"
          }
        }
      ]
    },
    {
      "cell_type": "code",
      "metadata": {
        "id": "UwyXh5ALskjY",
        "outputId": "f740a356-428a-4977-eded-63a4f3625655",
        "colab": {
          "base_uri": "https://localhost:8080/",
          "height": 360
        }
      },
      "source": [
        "df_train.head()"
      ],
      "execution_count": 67,
      "outputs": [
        {
          "output_type": "execute_result",
          "data": {
            "text/html": [
              "<div>\n",
              "<style scoped>\n",
              "    .dataframe tbody tr th:only-of-type {\n",
              "        vertical-align: middle;\n",
              "    }\n",
              "\n",
              "    .dataframe tbody tr th {\n",
              "        vertical-align: top;\n",
              "    }\n",
              "\n",
              "    .dataframe thead th {\n",
              "        text-align: right;\n",
              "    }\n",
              "</style>\n",
              "<table border=\"1\" class=\"dataframe\">\n",
              "  <thead>\n",
              "    <tr style=\"text-align: right;\">\n",
              "      <th></th>\n",
              "      <th>can_id</th>\n",
              "      <th>can_nam</th>\n",
              "      <th>can_off</th>\n",
              "      <th>can_off_sta</th>\n",
              "      <th>can_off_dis</th>\n",
              "      <th>can_par_aff</th>\n",
              "      <th>can_inc_cha_ope_sea</th>\n",
              "      <th>can_cit</th>\n",
              "      <th>can_sta</th>\n",
              "      <th>can_zip</th>\n",
              "      <th>cov_sta_dat</th>\n",
              "      <th>cov_end_dat</th>\n",
              "      <th>ind_con</th>\n",
              "      <th>net_ope_exp</th>\n",
              "      <th>tot_con</th>\n",
              "      <th>tot_dis</th>\n",
              "      <th>net_con</th>\n",
              "      <th>ope_exp</th>\n",
              "      <th>tot_rec</th>\n",
              "      <th>winner</th>\n",
              "    </tr>\n",
              "  </thead>\n",
              "  <tbody>\n",
              "    <tr>\n",
              "      <th>1374</th>\n",
              "      <td>H6MN02198</td>\n",
              "      <td>MILLER, DARLENE</td>\n",
              "      <td>H</td>\n",
              "      <td>MN</td>\n",
              "      <td>2.0</td>\n",
              "      <td>REP</td>\n",
              "      <td>OPEN</td>\n",
              "      <td>PRIOR LAKE</td>\n",
              "      <td>MN</td>\n",
              "      <td>55372.0</td>\n",
              "      <td>1/1/2016</td>\n",
              "      <td>9/30/2016</td>\n",
              "      <td>334749.70</td>\n",
              "      <td>369722.70</td>\n",
              "      <td>411749.70</td>\n",
              "      <td>428258.47</td>\n",
              "      <td>355849.70</td>\n",
              "      <td>372358.47</td>\n",
              "      <td>431081.39</td>\n",
              "      <td>0.0</td>\n",
              "    </tr>\n",
              "    <tr>\n",
              "      <th>569</th>\n",
              "      <td>H6NC10158</td>\n",
              "      <td>MILLARD, CARL ANDREW</td>\n",
              "      <td>H</td>\n",
              "      <td>NC</td>\n",
              "      <td>10.0</td>\n",
              "      <td>DEM</td>\n",
              "      <td>CHALLENGER</td>\n",
              "      <td>TRYON</td>\n",
              "      <td>NC</td>\n",
              "      <td>28782.0</td>\n",
              "      <td>1/1/2015</td>\n",
              "      <td>10/19/2016</td>\n",
              "      <td>252348.92</td>\n",
              "      <td>267103.13</td>\n",
              "      <td>253848.92</td>\n",
              "      <td>269962.53</td>\n",
              "      <td>253348.92</td>\n",
              "      <td>267103.13</td>\n",
              "      <td>380754.77</td>\n",
              "      <td>0.0</td>\n",
              "    </tr>\n",
              "    <tr>\n",
              "      <th>822</th>\n",
              "      <td>S6CO00283</td>\n",
              "      <td>KEYSER, JON</td>\n",
              "      <td>S</td>\n",
              "      <td>CO</td>\n",
              "      <td>0.0</td>\n",
              "      <td>REP</td>\n",
              "      <td>CHALLENGER</td>\n",
              "      <td>GREENWOOD VILLAGE</td>\n",
              "      <td>CO</td>\n",
              "      <td>80111.0</td>\n",
              "      <td>1/1/2016</td>\n",
              "      <td>9/30/2016</td>\n",
              "      <td>416014.00</td>\n",
              "      <td>557621.00</td>\n",
              "      <td>438577.00</td>\n",
              "      <td>650704.00</td>\n",
              "      <td>345527.00</td>\n",
              "      <td>557654.00</td>\n",
              "      <td>650705.00</td>\n",
              "      <td>0.0</td>\n",
              "    </tr>\n",
              "    <tr>\n",
              "      <th>1340</th>\n",
              "      <td>H2FL14152</td>\n",
              "      <td>GOSS, CHAUNCEY P</td>\n",
              "      <td>H</td>\n",
              "      <td>FL</td>\n",
              "      <td>19.0</td>\n",
              "      <td>REP</td>\n",
              "      <td>OPEN</td>\n",
              "      <td>FORT MYERS</td>\n",
              "      <td>FL</td>\n",
              "      <td>33902.0</td>\n",
              "      <td>4/1/2016</td>\n",
              "      <td>9/30/2016</td>\n",
              "      <td>349253.79</td>\n",
              "      <td>386429.01</td>\n",
              "      <td>353253.79</td>\n",
              "      <td>392853.79</td>\n",
              "      <td>350553.79</td>\n",
              "      <td>386429.01</td>\n",
              "      <td>392853.79</td>\n",
              "      <td>0.0</td>\n",
              "    </tr>\n",
              "    <tr>\n",
              "      <th>538</th>\n",
              "      <td>H6OH09099</td>\n",
              "      <td>LARSON, DONALD PHILIP</td>\n",
              "      <td>H</td>\n",
              "      <td>OH</td>\n",
              "      <td>9.0</td>\n",
              "      <td>REP</td>\n",
              "      <td>CHALLENGER</td>\n",
              "      <td>LAKEWOOD</td>\n",
              "      <td>OH</td>\n",
              "      <td>44107.0</td>\n",
              "      <td>10/1/2015</td>\n",
              "      <td>10/19/2016</td>\n",
              "      <td>21785.00</td>\n",
              "      <td>24123.84</td>\n",
              "      <td>22659.39</td>\n",
              "      <td>25123.84</td>\n",
              "      <td>22659.39</td>\n",
              "      <td>24123.84</td>\n",
              "      <td>27859.39</td>\n",
              "      <td>0.0</td>\n",
              "    </tr>\n",
              "  </tbody>\n",
              "</table>\n",
              "</div>"
            ],
            "text/plain": [
              "         can_id                can_nam can_off  ...    ope_exp    tot_rec winner\n",
              "1374  H6MN02198        MILLER, DARLENE       H  ...  372358.47  431081.39    0.0\n",
              "569   H6NC10158   MILLARD, CARL ANDREW       H  ...  267103.13  380754.77    0.0\n",
              "822   S6CO00283            KEYSER, JON       S  ...  557654.00  650705.00    0.0\n",
              "1340  H2FL14152       GOSS, CHAUNCEY P       H  ...  386429.01  392853.79    0.0\n",
              "538   H6OH09099  LARSON, DONALD PHILIP       H  ...   24123.84   27859.39    0.0\n",
              "\n",
              "[5 rows x 20 columns]"
            ]
          },
          "metadata": {
            "tags": []
          },
          "execution_count": 67
        }
      ]
    },
    {
      "cell_type": "code",
      "metadata": {
        "id": "f3VrIkCK6oTz",
        "outputId": "3115ee7e-39bb-435b-c1d3-ace8dac79758",
        "colab": {
          "base_uri": "https://localhost:8080/",
          "height": 34
        }
      },
      "source": [
        "df.can_off.nunique()"
      ],
      "execution_count": 68,
      "outputs": [
        {
          "output_type": "execute_result",
          "data": {
            "text/plain": [
              "3"
            ]
          },
          "metadata": {
            "tags": []
          },
          "execution_count": 68
        }
      ]
    },
    {
      "cell_type": "code",
      "metadata": {
        "id": "kborSi8_7W4y",
        "outputId": "0c5fa14c-ee72-4ff3-d2e0-e18f4b0a00cb",
        "colab": {
          "base_uri": "https://localhost:8080/",
          "height": 360
        }
      },
      "source": [
        "# Import label encoder \n",
        "from sklearn import preprocessing\n",
        "label_encoder = preprocessing.LabelEncoder()\n",
        "df_train.can_off= label_encoder.fit_transform(df_train.can_off) \n",
        "df_train.head()"
      ],
      "execution_count": 69,
      "outputs": [
        {
          "output_type": "execute_result",
          "data": {
            "text/html": [
              "<div>\n",
              "<style scoped>\n",
              "    .dataframe tbody tr th:only-of-type {\n",
              "        vertical-align: middle;\n",
              "    }\n",
              "\n",
              "    .dataframe tbody tr th {\n",
              "        vertical-align: top;\n",
              "    }\n",
              "\n",
              "    .dataframe thead th {\n",
              "        text-align: right;\n",
              "    }\n",
              "</style>\n",
              "<table border=\"1\" class=\"dataframe\">\n",
              "  <thead>\n",
              "    <tr style=\"text-align: right;\">\n",
              "      <th></th>\n",
              "      <th>can_id</th>\n",
              "      <th>can_nam</th>\n",
              "      <th>can_off</th>\n",
              "      <th>can_off_sta</th>\n",
              "      <th>can_off_dis</th>\n",
              "      <th>can_par_aff</th>\n",
              "      <th>can_inc_cha_ope_sea</th>\n",
              "      <th>can_cit</th>\n",
              "      <th>can_sta</th>\n",
              "      <th>can_zip</th>\n",
              "      <th>cov_sta_dat</th>\n",
              "      <th>cov_end_dat</th>\n",
              "      <th>ind_con</th>\n",
              "      <th>net_ope_exp</th>\n",
              "      <th>tot_con</th>\n",
              "      <th>tot_dis</th>\n",
              "      <th>net_con</th>\n",
              "      <th>ope_exp</th>\n",
              "      <th>tot_rec</th>\n",
              "      <th>winner</th>\n",
              "    </tr>\n",
              "  </thead>\n",
              "  <tbody>\n",
              "    <tr>\n",
              "      <th>1374</th>\n",
              "      <td>H6MN02198</td>\n",
              "      <td>MILLER, DARLENE</td>\n",
              "      <td>0</td>\n",
              "      <td>MN</td>\n",
              "      <td>2.0</td>\n",
              "      <td>REP</td>\n",
              "      <td>OPEN</td>\n",
              "      <td>PRIOR LAKE</td>\n",
              "      <td>MN</td>\n",
              "      <td>55372.0</td>\n",
              "      <td>1/1/2016</td>\n",
              "      <td>9/30/2016</td>\n",
              "      <td>334749.70</td>\n",
              "      <td>369722.70</td>\n",
              "      <td>411749.70</td>\n",
              "      <td>428258.47</td>\n",
              "      <td>355849.70</td>\n",
              "      <td>372358.47</td>\n",
              "      <td>431081.39</td>\n",
              "      <td>0.0</td>\n",
              "    </tr>\n",
              "    <tr>\n",
              "      <th>569</th>\n",
              "      <td>H6NC10158</td>\n",
              "      <td>MILLARD, CARL ANDREW</td>\n",
              "      <td>0</td>\n",
              "      <td>NC</td>\n",
              "      <td>10.0</td>\n",
              "      <td>DEM</td>\n",
              "      <td>CHALLENGER</td>\n",
              "      <td>TRYON</td>\n",
              "      <td>NC</td>\n",
              "      <td>28782.0</td>\n",
              "      <td>1/1/2015</td>\n",
              "      <td>10/19/2016</td>\n",
              "      <td>252348.92</td>\n",
              "      <td>267103.13</td>\n",
              "      <td>253848.92</td>\n",
              "      <td>269962.53</td>\n",
              "      <td>253348.92</td>\n",
              "      <td>267103.13</td>\n",
              "      <td>380754.77</td>\n",
              "      <td>0.0</td>\n",
              "    </tr>\n",
              "    <tr>\n",
              "      <th>822</th>\n",
              "      <td>S6CO00283</td>\n",
              "      <td>KEYSER, JON</td>\n",
              "      <td>2</td>\n",
              "      <td>CO</td>\n",
              "      <td>0.0</td>\n",
              "      <td>REP</td>\n",
              "      <td>CHALLENGER</td>\n",
              "      <td>GREENWOOD VILLAGE</td>\n",
              "      <td>CO</td>\n",
              "      <td>80111.0</td>\n",
              "      <td>1/1/2016</td>\n",
              "      <td>9/30/2016</td>\n",
              "      <td>416014.00</td>\n",
              "      <td>557621.00</td>\n",
              "      <td>438577.00</td>\n",
              "      <td>650704.00</td>\n",
              "      <td>345527.00</td>\n",
              "      <td>557654.00</td>\n",
              "      <td>650705.00</td>\n",
              "      <td>0.0</td>\n",
              "    </tr>\n",
              "    <tr>\n",
              "      <th>1340</th>\n",
              "      <td>H2FL14152</td>\n",
              "      <td>GOSS, CHAUNCEY P</td>\n",
              "      <td>0</td>\n",
              "      <td>FL</td>\n",
              "      <td>19.0</td>\n",
              "      <td>REP</td>\n",
              "      <td>OPEN</td>\n",
              "      <td>FORT MYERS</td>\n",
              "      <td>FL</td>\n",
              "      <td>33902.0</td>\n",
              "      <td>4/1/2016</td>\n",
              "      <td>9/30/2016</td>\n",
              "      <td>349253.79</td>\n",
              "      <td>386429.01</td>\n",
              "      <td>353253.79</td>\n",
              "      <td>392853.79</td>\n",
              "      <td>350553.79</td>\n",
              "      <td>386429.01</td>\n",
              "      <td>392853.79</td>\n",
              "      <td>0.0</td>\n",
              "    </tr>\n",
              "    <tr>\n",
              "      <th>538</th>\n",
              "      <td>H6OH09099</td>\n",
              "      <td>LARSON, DONALD PHILIP</td>\n",
              "      <td>0</td>\n",
              "      <td>OH</td>\n",
              "      <td>9.0</td>\n",
              "      <td>REP</td>\n",
              "      <td>CHALLENGER</td>\n",
              "      <td>LAKEWOOD</td>\n",
              "      <td>OH</td>\n",
              "      <td>44107.0</td>\n",
              "      <td>10/1/2015</td>\n",
              "      <td>10/19/2016</td>\n",
              "      <td>21785.00</td>\n",
              "      <td>24123.84</td>\n",
              "      <td>22659.39</td>\n",
              "      <td>25123.84</td>\n",
              "      <td>22659.39</td>\n",
              "      <td>24123.84</td>\n",
              "      <td>27859.39</td>\n",
              "      <td>0.0</td>\n",
              "    </tr>\n",
              "  </tbody>\n",
              "</table>\n",
              "</div>"
            ],
            "text/plain": [
              "         can_id                can_nam  can_off  ...    ope_exp    tot_rec winner\n",
              "1374  H6MN02198        MILLER, DARLENE        0  ...  372358.47  431081.39    0.0\n",
              "569   H6NC10158   MILLARD, CARL ANDREW        0  ...  267103.13  380754.77    0.0\n",
              "822   S6CO00283            KEYSER, JON        2  ...  557654.00  650705.00    0.0\n",
              "1340  H2FL14152       GOSS, CHAUNCEY P        0  ...  386429.01  392853.79    0.0\n",
              "538   H6OH09099  LARSON, DONALD PHILIP        0  ...   24123.84   27859.39    0.0\n",
              "\n",
              "[5 rows x 20 columns]"
            ]
          },
          "metadata": {
            "tags": []
          },
          "execution_count": 69
        }
      ]
    },
    {
      "cell_type": "code",
      "metadata": {
        "id": "EwxtUK3R9eJQ",
        "outputId": "06dbfe8f-b3ac-409c-c75c-cf8489f0c733",
        "colab": {
          "base_uri": "https://localhost:8080/",
          "height": 71
        }
      },
      "source": [
        "x = df_train[['ind_con','net_ope_exp',\t'tot_con', 'tot_dis',\t'net_con',\t'ope_exp','tot_rec','can_off']]\n",
        "y = df_train.winner\n",
        "x_train, x_test, y_train, y_test = train_test_split(x, y, test_size=0.3, random_state=1)\n",
        "from imblearn.over_sampling import SMOTE\n",
        "sm = SMOTE(random_state=0)\n",
        "columns = x_train.columns\n",
        "sm_x,sm_y=sm.fit_sample(x_train, y_train)\n",
        "sm_x = pd.DataFrame(data=sm_x,columns=columns )\n",
        "# sm_y= pd.DataFrame(data=sm_y,columns=['winner'])\n",
        "\n",
        "sm_y= pd.Series(data=sm_y)"
      ],
      "execution_count": 70,
      "outputs": [
        {
          "output_type": "stream",
          "text": [
            "/usr/local/lib/python3.6/dist-packages/sklearn/utils/deprecation.py:87: FutureWarning: Function safe_indexing is deprecated; safe_indexing is deprecated in version 0.22 and will be removed in version 0.24.\n",
            "  warnings.warn(msg, category=FutureWarning)\n"
          ],
          "name": "stderr"
        }
      ]
    },
    {
      "cell_type": "code",
      "metadata": {
        "id": "KS4lSqr69kbu",
        "outputId": "aea1d32b-4ba8-4a83-d99c-dbe1a1277cb3",
        "colab": {
          "base_uri": "https://localhost:8080/",
          "height": 187
        }
      },
      "source": [
        "lreg.fit(sm_x, sm_y)\n",
        "y_pred = lreg.predict(x_test)\n",
        "print('Accuracy {:.2f}'.format(lreg.score(x_test, y_test)))\n",
        "from sklearn.metrics import classification_report\n",
        "print(classification_report(y_test, y_pred))"
      ],
      "execution_count": 71,
      "outputs": [
        {
          "output_type": "stream",
          "text": [
            "Accuracy 0.76\n",
            "              precision    recall  f1-score   support\n",
            "\n",
            "         0.0       0.93      0.53      0.67       131\n",
            "         1.0       0.70      0.97      0.81       148\n",
            "\n",
            "    accuracy                           0.76       279\n",
            "   macro avg       0.81      0.75      0.74       279\n",
            "weighted avg       0.81      0.76      0.75       279\n",
            "\n"
          ],
          "name": "stdout"
        }
      ]
    },
    {
      "cell_type": "code",
      "metadata": {
        "id": "05AtvntzAzyX",
        "outputId": "c3c25409-b3d2-498e-92a4-52c4759abc4e",
        "colab": {
          "base_uri": "https://localhost:8080/",
          "height": 34
        }
      },
      "source": [
        "df_train.can_inc_cha_ope_sea.nunique()"
      ],
      "execution_count": 72,
      "outputs": [
        {
          "output_type": "execute_result",
          "data": {
            "text/plain": [
              "3"
            ]
          },
          "metadata": {
            "tags": []
          },
          "execution_count": 72
        }
      ]
    },
    {
      "cell_type": "code",
      "metadata": {
        "id": "PSaoRgOYBETG",
        "outputId": "05eb8730-88f0-45ea-92b3-819b592da306",
        "colab": {
          "base_uri": "https://localhost:8080/",
          "height": 360
        }
      },
      "source": [
        "df_train2 = df_train.copy()\n",
        "\n",
        "# Import label encoder \n",
        "from sklearn import preprocessing\n",
        "label_encoder = preprocessing.LabelEncoder()\n",
        "df_train2.can_inc_cha_ope_sea= label_encoder.fit_transform(df_train2.can_inc_cha_ope_sea) \n",
        "df_train2.head()"
      ],
      "execution_count": 73,
      "outputs": [
        {
          "output_type": "execute_result",
          "data": {
            "text/html": [
              "<div>\n",
              "<style scoped>\n",
              "    .dataframe tbody tr th:only-of-type {\n",
              "        vertical-align: middle;\n",
              "    }\n",
              "\n",
              "    .dataframe tbody tr th {\n",
              "        vertical-align: top;\n",
              "    }\n",
              "\n",
              "    .dataframe thead th {\n",
              "        text-align: right;\n",
              "    }\n",
              "</style>\n",
              "<table border=\"1\" class=\"dataframe\">\n",
              "  <thead>\n",
              "    <tr style=\"text-align: right;\">\n",
              "      <th></th>\n",
              "      <th>can_id</th>\n",
              "      <th>can_nam</th>\n",
              "      <th>can_off</th>\n",
              "      <th>can_off_sta</th>\n",
              "      <th>can_off_dis</th>\n",
              "      <th>can_par_aff</th>\n",
              "      <th>can_inc_cha_ope_sea</th>\n",
              "      <th>can_cit</th>\n",
              "      <th>can_sta</th>\n",
              "      <th>can_zip</th>\n",
              "      <th>cov_sta_dat</th>\n",
              "      <th>cov_end_dat</th>\n",
              "      <th>ind_con</th>\n",
              "      <th>net_ope_exp</th>\n",
              "      <th>tot_con</th>\n",
              "      <th>tot_dis</th>\n",
              "      <th>net_con</th>\n",
              "      <th>ope_exp</th>\n",
              "      <th>tot_rec</th>\n",
              "      <th>winner</th>\n",
              "    </tr>\n",
              "  </thead>\n",
              "  <tbody>\n",
              "    <tr>\n",
              "      <th>1374</th>\n",
              "      <td>H6MN02198</td>\n",
              "      <td>MILLER, DARLENE</td>\n",
              "      <td>0</td>\n",
              "      <td>MN</td>\n",
              "      <td>2.0</td>\n",
              "      <td>REP</td>\n",
              "      <td>2</td>\n",
              "      <td>PRIOR LAKE</td>\n",
              "      <td>MN</td>\n",
              "      <td>55372.0</td>\n",
              "      <td>1/1/2016</td>\n",
              "      <td>9/30/2016</td>\n",
              "      <td>334749.70</td>\n",
              "      <td>369722.70</td>\n",
              "      <td>411749.70</td>\n",
              "      <td>428258.47</td>\n",
              "      <td>355849.70</td>\n",
              "      <td>372358.47</td>\n",
              "      <td>431081.39</td>\n",
              "      <td>0.0</td>\n",
              "    </tr>\n",
              "    <tr>\n",
              "      <th>569</th>\n",
              "      <td>H6NC10158</td>\n",
              "      <td>MILLARD, CARL ANDREW</td>\n",
              "      <td>0</td>\n",
              "      <td>NC</td>\n",
              "      <td>10.0</td>\n",
              "      <td>DEM</td>\n",
              "      <td>0</td>\n",
              "      <td>TRYON</td>\n",
              "      <td>NC</td>\n",
              "      <td>28782.0</td>\n",
              "      <td>1/1/2015</td>\n",
              "      <td>10/19/2016</td>\n",
              "      <td>252348.92</td>\n",
              "      <td>267103.13</td>\n",
              "      <td>253848.92</td>\n",
              "      <td>269962.53</td>\n",
              "      <td>253348.92</td>\n",
              "      <td>267103.13</td>\n",
              "      <td>380754.77</td>\n",
              "      <td>0.0</td>\n",
              "    </tr>\n",
              "    <tr>\n",
              "      <th>822</th>\n",
              "      <td>S6CO00283</td>\n",
              "      <td>KEYSER, JON</td>\n",
              "      <td>2</td>\n",
              "      <td>CO</td>\n",
              "      <td>0.0</td>\n",
              "      <td>REP</td>\n",
              "      <td>0</td>\n",
              "      <td>GREENWOOD VILLAGE</td>\n",
              "      <td>CO</td>\n",
              "      <td>80111.0</td>\n",
              "      <td>1/1/2016</td>\n",
              "      <td>9/30/2016</td>\n",
              "      <td>416014.00</td>\n",
              "      <td>557621.00</td>\n",
              "      <td>438577.00</td>\n",
              "      <td>650704.00</td>\n",
              "      <td>345527.00</td>\n",
              "      <td>557654.00</td>\n",
              "      <td>650705.00</td>\n",
              "      <td>0.0</td>\n",
              "    </tr>\n",
              "    <tr>\n",
              "      <th>1340</th>\n",
              "      <td>H2FL14152</td>\n",
              "      <td>GOSS, CHAUNCEY P</td>\n",
              "      <td>0</td>\n",
              "      <td>FL</td>\n",
              "      <td>19.0</td>\n",
              "      <td>REP</td>\n",
              "      <td>2</td>\n",
              "      <td>FORT MYERS</td>\n",
              "      <td>FL</td>\n",
              "      <td>33902.0</td>\n",
              "      <td>4/1/2016</td>\n",
              "      <td>9/30/2016</td>\n",
              "      <td>349253.79</td>\n",
              "      <td>386429.01</td>\n",
              "      <td>353253.79</td>\n",
              "      <td>392853.79</td>\n",
              "      <td>350553.79</td>\n",
              "      <td>386429.01</td>\n",
              "      <td>392853.79</td>\n",
              "      <td>0.0</td>\n",
              "    </tr>\n",
              "    <tr>\n",
              "      <th>538</th>\n",
              "      <td>H6OH09099</td>\n",
              "      <td>LARSON, DONALD PHILIP</td>\n",
              "      <td>0</td>\n",
              "      <td>OH</td>\n",
              "      <td>9.0</td>\n",
              "      <td>REP</td>\n",
              "      <td>0</td>\n",
              "      <td>LAKEWOOD</td>\n",
              "      <td>OH</td>\n",
              "      <td>44107.0</td>\n",
              "      <td>10/1/2015</td>\n",
              "      <td>10/19/2016</td>\n",
              "      <td>21785.00</td>\n",
              "      <td>24123.84</td>\n",
              "      <td>22659.39</td>\n",
              "      <td>25123.84</td>\n",
              "      <td>22659.39</td>\n",
              "      <td>24123.84</td>\n",
              "      <td>27859.39</td>\n",
              "      <td>0.0</td>\n",
              "    </tr>\n",
              "  </tbody>\n",
              "</table>\n",
              "</div>"
            ],
            "text/plain": [
              "         can_id                can_nam  can_off  ...    ope_exp    tot_rec winner\n",
              "1374  H6MN02198        MILLER, DARLENE        0  ...  372358.47  431081.39    0.0\n",
              "569   H6NC10158   MILLARD, CARL ANDREW        0  ...  267103.13  380754.77    0.0\n",
              "822   S6CO00283            KEYSER, JON        2  ...  557654.00  650705.00    0.0\n",
              "1340  H2FL14152       GOSS, CHAUNCEY P        0  ...  386429.01  392853.79    0.0\n",
              "538   H6OH09099  LARSON, DONALD PHILIP        0  ...   24123.84   27859.39    0.0\n",
              "\n",
              "[5 rows x 20 columns]"
            ]
          },
          "metadata": {
            "tags": []
          },
          "execution_count": 73
        }
      ]
    },
    {
      "cell_type": "code",
      "metadata": {
        "id": "mYjML_rw_tHS",
        "outputId": "37865fb4-80cf-438d-a8f0-4fb2a80f3fae",
        "colab": {
          "base_uri": "https://localhost:8080/",
          "height": 241
        }
      },
      "source": [
        "\n",
        "x=df_train2[['ind_con','net_ope_exp',\t'tot_con', 'tot_dis',\t'net_con',\t'ope_exp',\t'tot_rec','can_off','can_inc_cha_ope_sea']]\n",
        "y = df_train2.winner\n",
        "\n",
        "x_train, x_test, y_train, y_test = train_test_split(x, y, test_size=0.3, random_state=1)\n",
        "from imblearn.over_sampling import SMOTE\n",
        "sm = SMOTE(random_state=0)\n",
        "columns = x_train.columns\n",
        "sm_x,sm_y=sm.fit_sample(x_train, y_train)\n",
        "sm_x = pd.DataFrame(data=sm_x,columns=columns )\n",
        "# sm_y= pd.DataFrame(data=sm_y,columns=['winner'])\n",
        "\n",
        "sm_y= pd.Series(data=sm_y)\n",
        "\n",
        "lreg.fit(sm_x, sm_y)\n",
        "\n",
        "y_pred = lreg.predict(x_test)\n",
        "print('Accuracy {:.2f}'.format(lreg.score(x_test, y_test)))\n",
        "from sklearn.metrics import classification_report\n",
        "print(classification_report(y_test, y_pred)) "
      ],
      "execution_count": 76,
      "outputs": [
        {
          "output_type": "stream",
          "text": [
            "Accuracy 0.76\n",
            "              precision    recall  f1-score   support\n",
            "\n",
            "         0.0       0.93      0.53      0.67       131\n",
            "         1.0       0.70      0.97      0.81       148\n",
            "\n",
            "    accuracy                           0.76       279\n",
            "   macro avg       0.81      0.75      0.74       279\n",
            "weighted avg       0.81      0.76      0.75       279\n",
            "\n"
          ],
          "name": "stdout"
        },
        {
          "output_type": "stream",
          "text": [
            "/usr/local/lib/python3.6/dist-packages/sklearn/utils/deprecation.py:87: FutureWarning: Function safe_indexing is deprecated; safe_indexing is deprecated in version 0.22 and will be removed in version 0.24.\n",
            "  warnings.warn(msg, category=FutureWarning)\n"
          ],
          "name": "stderr"
        }
      ]
    },
    {
      "cell_type": "code",
      "metadata": {
        "id": "3wl60Q3dAiq8"
      },
      "source": [
        ""
      ],
      "execution_count": null,
      "outputs": []
    }
  ]
}