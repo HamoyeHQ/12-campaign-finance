{
  "nbformat": 4,
  "nbformat_minor": 0,
  "metadata": {
    "kernelspec": {
      "display_name": "Python 3",
      "language": "python",
      "name": "python3"
    },
    "language_info": {
      "codemirror_mode": {
        "name": "ipython",
        "version": 3
      },
      "file_extension": ".py",
      "mimetype": "text/x-python",
      "name": "python",
      "nbconvert_exporter": "python",
      "pygments_lexer": "ipython3",
      "version": "3.7.6"
    },
    "colab": {
      "name": "Campaign_Model.ipynb",
      "provenance": [],
      "collapsed_sections": []
    }
  },
  "cells": [
    {
      "cell_type": "code",
      "metadata": {
        "id": "G3x-6Oon9B89",
        "outputId": "83e53153-0037-4c94-feb0-b02db353c3b9",
        "colab": {
          "base_uri": "https://localhost:8080/"
        }
      },
      "source": [
        "# Mount your Google drive folder on Colab\n",
        "from google.colab import drive\n",
        "drive.mount('/content/gdrive/My_Drive', force_remount=True)"
      ],
      "execution_count": 1,
      "outputs": [
        {
          "output_type": "stream",
          "text": [
            "Mounted at /content/gdrive/My_Drive\n"
          ],
          "name": "stdout"
        }
      ]
    },
    {
      "cell_type": "markdown",
      "metadata": {
        "id": "i9nc9uR2Zlqp"
      },
      "source": [
        "#Import the Necessary Libraries"
      ]
    },
    {
      "cell_type": "code",
      "metadata": {
        "id": "x1nmEppiYMBO"
      },
      "source": [
        "import numpy as np\n",
        "import pandas as pd\n",
        "import matplotlib.pyplot as plt"
      ],
      "execution_count": 2,
      "outputs": []
    },
    {
      "cell_type": "markdown",
      "metadata": {
        "id": "m4gsNn2YZ7h2"
      },
      "source": [
        "#Load CSV file and Read with Pandas Library"
      ]
    },
    {
      "cell_type": "code",
      "metadata": {
        "id": "XLP4xnsgYMBa"
      },
      "source": [
        "data = \"https://raw.githubusercontent.com/Fitzpatrique/stage-f-09-campaign-finance/master/data/new_project_data1.csv\"\n",
        "df = pd.read_csv(data)"
      ],
      "execution_count": 3,
      "outputs": []
    },
    {
      "cell_type": "markdown",
      "metadata": {
        "id": "mitdyeYuaVA3"
      },
      "source": [
        "#Perform Exploratory Data Analysis on the DataFrame"
      ]
    },
    {
      "cell_type": "code",
      "metadata": {
        "id": "lhvncDXiYMBm",
        "outputId": "fcd08b92-a0b7-4f16-da29-01d0fd7335d9",
        "colab": {
          "base_uri": "https://localhost:8080/",
          "height": 260
        }
      },
      "source": [
        "df.head()"
      ],
      "execution_count": 4,
      "outputs": [
        {
          "output_type": "execute_result",
          "data": {
            "text/html": [
              "<div>\n",
              "<style scoped>\n",
              "    .dataframe tbody tr th:only-of-type {\n",
              "        vertical-align: middle;\n",
              "    }\n",
              "\n",
              "    .dataframe tbody tr th {\n",
              "        vertical-align: top;\n",
              "    }\n",
              "\n",
              "    .dataframe thead th {\n",
              "        text-align: right;\n",
              "    }\n",
              "</style>\n",
              "<table border=\"1\" class=\"dataframe\">\n",
              "  <thead>\n",
              "    <tr style=\"text-align: right;\">\n",
              "      <th></th>\n",
              "      <th>can_id</th>\n",
              "      <th>can_nam</th>\n",
              "      <th>can_off</th>\n",
              "      <th>can_off_sta</th>\n",
              "      <th>can_off_dis</th>\n",
              "      <th>can_par_aff</th>\n",
              "      <th>can_inc_cha_ope_sea</th>\n",
              "      <th>can_cit</th>\n",
              "      <th>can_sta</th>\n",
              "      <th>can_zip</th>\n",
              "      <th>cov_sta_dat</th>\n",
              "      <th>cov_end_dat</th>\n",
              "      <th>ind_con</th>\n",
              "      <th>net_ope_exp</th>\n",
              "      <th>tot_con</th>\n",
              "      <th>tot_dis</th>\n",
              "      <th>net_con</th>\n",
              "      <th>ope_exp</th>\n",
              "      <th>tot_rec</th>\n",
              "      <th>winner</th>\n",
              "    </tr>\n",
              "  </thead>\n",
              "  <tbody>\n",
              "    <tr>\n",
              "      <th>0</th>\n",
              "      <td>H2GA12121</td>\n",
              "      <td>ALLEN, RICHARD W</td>\n",
              "      <td>H</td>\n",
              "      <td>GA</td>\n",
              "      <td>12.0</td>\n",
              "      <td>REP</td>\n",
              "      <td>INCUMBENT</td>\n",
              "      <td>AUGUSTA</td>\n",
              "      <td>GA</td>\n",
              "      <td>30904.0</td>\n",
              "      <td>1/1/2015</td>\n",
              "      <td>10/19/2016</td>\n",
              "      <td>601274.50</td>\n",
              "      <td>907156.21</td>\n",
              "      <td>1074949.50</td>\n",
              "      <td>978518.98</td>\n",
              "      <td>1074949.50</td>\n",
              "      <td>908518.98</td>\n",
              "      <td>1094022.76</td>\n",
              "      <td>Y</td>\n",
              "    </tr>\n",
              "    <tr>\n",
              "      <th>1</th>\n",
              "      <td>H6PA02171</td>\n",
              "      <td>EVANS, DWIGHT</td>\n",
              "      <td>H</td>\n",
              "      <td>PA</td>\n",
              "      <td>2.0</td>\n",
              "      <td>DEM</td>\n",
              "      <td>CHALLENGER</td>\n",
              "      <td>PHILADELPHIA</td>\n",
              "      <td>PA</td>\n",
              "      <td>19138.0</td>\n",
              "      <td>11/2/2015</td>\n",
              "      <td>10/19/2016</td>\n",
              "      <td>1114711.02</td>\n",
              "      <td>1298831.83</td>\n",
              "      <td>1417545.22</td>\n",
              "      <td>1313583.69</td>\n",
              "      <td>1406719.06</td>\n",
              "      <td>1300557.53</td>\n",
              "      <td>1419270.92</td>\n",
              "      <td>Y</td>\n",
              "    </tr>\n",
              "    <tr>\n",
              "      <th>2</th>\n",
              "      <td>H6FL04105</td>\n",
              "      <td>RUTHERFORD, JOHN</td>\n",
              "      <td>H</td>\n",
              "      <td>FL</td>\n",
              "      <td>4.0</td>\n",
              "      <td>REP</td>\n",
              "      <td>OPEN</td>\n",
              "      <td>JACKSONVILLE</td>\n",
              "      <td>FL</td>\n",
              "      <td>32224.0</td>\n",
              "      <td>4/1/2016</td>\n",
              "      <td>10/19/2016</td>\n",
              "      <td>542105.38</td>\n",
              "      <td>656210.29</td>\n",
              "      <td>650855.38</td>\n",
              "      <td>675642.76</td>\n",
              "      <td>650855.38</td>\n",
              "      <td>656642.76</td>\n",
              "      <td>711287.85</td>\n",
              "      <td>Y</td>\n",
              "    </tr>\n",
              "    <tr>\n",
              "      <th>3</th>\n",
              "      <td>H4MT01041</td>\n",
              "      <td>ZINKE, RYAN K</td>\n",
              "      <td>H</td>\n",
              "      <td>MT</td>\n",
              "      <td>0.0</td>\n",
              "      <td>REP</td>\n",
              "      <td>INCUMBENT</td>\n",
              "      <td>WHITEFISH</td>\n",
              "      <td>MT</td>\n",
              "      <td>599373010.0</td>\n",
              "      <td>1/1/2015</td>\n",
              "      <td>10/19/2016</td>\n",
              "      <td>4317331.58</td>\n",
              "      <td>5055942.15</td>\n",
              "      <td>4980915.41</td>\n",
              "      <td>5200630.00</td>\n",
              "      <td>4938943.74</td>\n",
              "      <td>5073110.33</td>\n",
              "      <td>5190887.78</td>\n",
              "      <td>Y</td>\n",
              "    </tr>\n",
              "    <tr>\n",
              "      <th>4</th>\n",
              "      <td>H8CA09060</td>\n",
              "      <td>LEE, BARBARA</td>\n",
              "      <td>H</td>\n",
              "      <td>CA</td>\n",
              "      <td>13.0</td>\n",
              "      <td>DEM</td>\n",
              "      <td>INCUMBENT</td>\n",
              "      <td>OAKLAND</td>\n",
              "      <td>CA</td>\n",
              "      <td>94612.0</td>\n",
              "      <td>1/1/2015</td>\n",
              "      <td>10/19/2016</td>\n",
              "      <td>897123.61</td>\n",
              "      <td>949488.98</td>\n",
              "      <td>1205863.61</td>\n",
              "      <td>1112163.94</td>\n",
              "      <td>1197676.61</td>\n",
              "      <td>953436.94</td>\n",
              "      <td>1209811.57</td>\n",
              "      <td>Y</td>\n",
              "    </tr>\n",
              "  </tbody>\n",
              "</table>\n",
              "</div>"
            ],
            "text/plain": [
              "      can_id           can_nam can_off  ...     ope_exp     tot_rec winner\n",
              "0  H2GA12121  ALLEN, RICHARD W       H  ...   908518.98  1094022.76      Y\n",
              "1  H6PA02171     EVANS, DWIGHT       H  ...  1300557.53  1419270.92      Y\n",
              "2  H6FL04105  RUTHERFORD, JOHN       H  ...   656642.76   711287.85      Y\n",
              "3  H4MT01041     ZINKE, RYAN K       H  ...  5073110.33  5190887.78      Y\n",
              "4  H8CA09060      LEE, BARBARA       H  ...   953436.94  1209811.57      Y\n",
              "\n",
              "[5 rows x 20 columns]"
            ]
          },
          "metadata": {
            "tags": []
          },
          "execution_count": 4
        }
      ]
    },
    {
      "cell_type": "code",
      "metadata": {
        "id": "6NZV02wFYMBx",
        "outputId": "534a513a-9b3f-42da-c9ac-2bb8f6a0040e",
        "colab": {
          "base_uri": "https://localhost:8080/"
        }
      },
      "source": [
        "df.info()"
      ],
      "execution_count": 5,
      "outputs": [
        {
          "output_type": "stream",
          "text": [
            "<class 'pandas.core.frame.DataFrame'>\n",
            "RangeIndex: 1551 entries, 0 to 1550\n",
            "Data columns (total 20 columns):\n",
            " #   Column               Non-Null Count  Dtype  \n",
            "---  ------               --------------  -----  \n",
            " 0   can_id               1551 non-null   object \n",
            " 1   can_nam              1551 non-null   object \n",
            " 2   can_off              1551 non-null   object \n",
            " 3   can_off_sta          1551 non-null   object \n",
            " 4   can_off_dis          1551 non-null   float64\n",
            " 5   can_par_aff          1551 non-null   object \n",
            " 6   can_inc_cha_ope_sea  1551 non-null   object \n",
            " 7   can_cit              1551 non-null   object \n",
            " 8   can_sta              1551 non-null   object \n",
            " 9   can_zip              1551 non-null   float64\n",
            " 10  cov_sta_dat          1551 non-null   object \n",
            " 11  cov_end_dat          1551 non-null   object \n",
            " 12  ind_con              1551 non-null   float64\n",
            " 13  net_ope_exp          1551 non-null   float64\n",
            " 14  tot_con              1551 non-null   float64\n",
            " 15  tot_dis              1551 non-null   float64\n",
            " 16  net_con              1551 non-null   float64\n",
            " 17  ope_exp              1551 non-null   float64\n",
            " 18  tot_rec              1551 non-null   float64\n",
            " 19  winner               1551 non-null   object \n",
            "dtypes: float64(9), object(11)\n",
            "memory usage: 242.5+ KB\n"
          ],
          "name": "stdout"
        }
      ]
    },
    {
      "cell_type": "markdown",
      "metadata": {
        "id": "zBl6zvvmnjvm"
      },
      "source": [
        "#Perform Data Transformation on the DataFrame"
      ]
    },
    {
      "cell_type": "code",
      "metadata": {
        "id": "qjwcPnCbl3qA"
      },
      "source": [
        "df.drop('can_id', axis=1, inplace=True)"
      ],
      "execution_count": 6,
      "outputs": []
    },
    {
      "cell_type": "code",
      "metadata": {
        "id": "DF8k3WOGYMB5"
      },
      "source": [
        "can_off_id = list(df['can_off'].unique())\n",
        "can_nam_id = list(df['can_nam'].unique())\n",
        "can_off_sta_id = list(df['can_off_sta'].unique())\n",
        "can_par_aff_id = list(df['can_par_aff'].unique())\n",
        "can_inc_id = list(df['can_inc_cha_ope_sea'].unique())\n",
        "can_cit_id = list(df['can_cit'].unique())\n",
        "can_sta_id = list(df['can_sta'].unique())\n",
        "winner_id = list(df['winner'].unique())"
      ],
      "execution_count": 7,
      "outputs": []
    },
    {
      "cell_type": "code",
      "metadata": {
        "id": "QSoPuDwaiw6j"
      },
      "source": [
        "def Can_off(text):\n",
        "  for i in range(len(can_off_id)):\n",
        "    if can_off_id[i] == text:\n",
        "      return i\n",
        "\n",
        "def Can_nam(text):\n",
        "  for i in range(len(can_nam_id)):\n",
        "    if can_nam_id[i] == text:\n",
        "      return i\n",
        "\n",
        "def Can_off_sta(text):\n",
        "  for i in range(len(can_off_sta_id)):\n",
        "    if can_off_sta_id[i] == text:\n",
        "      return i\n",
        "\n",
        "def Can_par(text):\n",
        "  for i in range(len(can_par_aff_id)):\n",
        "    if can_par_aff_id[i] == text:\n",
        "      return i\n",
        "\n",
        "def Can_inc(text):\n",
        "  for i in range(len(can_inc_id)):\n",
        "    if can_inc_id[i] == text:\n",
        "      return i\n",
        "\n",
        "def Can_cit(text):\n",
        "  for i in range(len(can_cit_id)):\n",
        "    if can_cit_id[i] == text:\n",
        "      return i\n",
        "\n",
        "def Can_sta(text):\n",
        "  for i in range(len(can_sta_id)):\n",
        "    if can_sta_id[i] == text:\n",
        "      return i\n",
        "\n",
        "def Winner(text):\n",
        "  for i in range(len(winner_id)):\n",
        "    if winner_id[i] == text:\n",
        "      return i"
      ],
      "execution_count": 8,
      "outputs": []
    },
    {
      "cell_type": "code",
      "metadata": {
        "id": "ZQTagytSjBU0"
      },
      "source": [
        "df['can_off_id'] = df['can_off'].apply(Can_off)"
      ],
      "execution_count": 9,
      "outputs": []
    },
    {
      "cell_type": "code",
      "metadata": {
        "id": "XRx6b0hRrQx7"
      },
      "source": [
        "df['can_nam_id'] = df['can_nam'].apply(Can_nam)"
      ],
      "execution_count": 10,
      "outputs": []
    },
    {
      "cell_type": "code",
      "metadata": {
        "id": "jPGHAjU6rgjs"
      },
      "source": [
        "df['can_off_sta_id'] = df['can_off_sta'].apply(Can_off_sta)"
      ],
      "execution_count": 11,
      "outputs": []
    },
    {
      "cell_type": "code",
      "metadata": {
        "id": "vJT9Bw1hrxUQ"
      },
      "source": [
        "df['can_par_aff_id'] = df['can_par_aff'].apply(Can_par)"
      ],
      "execution_count": 12,
      "outputs": []
    },
    {
      "cell_type": "code",
      "metadata": {
        "id": "_jT2wRFer_gd"
      },
      "source": [
        "df['can_inc_cha_ope_sea_id'] = df['can_inc_cha_ope_sea'].apply(Can_inc)"
      ],
      "execution_count": 13,
      "outputs": []
    },
    {
      "cell_type": "code",
      "metadata": {
        "id": "Bx4lJp_ZsQNJ"
      },
      "source": [
        "df['can_cit_id'] = df['can_cit'].apply(Can_cit)"
      ],
      "execution_count": 14,
      "outputs": []
    },
    {
      "cell_type": "code",
      "metadata": {
        "id": "bg2QUQo9sbu-"
      },
      "source": [
        "df['can_sta_id'] = df['can_sta'].apply(Can_sta)"
      ],
      "execution_count": 15,
      "outputs": []
    },
    {
      "cell_type": "code",
      "metadata": {
        "id": "FIvHfFHIsrBz"
      },
      "source": [
        "df['winner_id'] = df['winner'].apply(Winner)"
      ],
      "execution_count": 16,
      "outputs": []
    },
    {
      "cell_type": "code",
      "metadata": {
        "id": "MmEIukUes3Th"
      },
      "source": [
        "df.drop('can_off', axis=1, inplace=True)\n",
        "df.drop('can_nam', axis=1, inplace=True)\n",
        "df.drop('can_off_sta', axis=1, inplace=True)\n",
        "df.drop('can_par_aff', axis=1, inplace=True)\n",
        "df.drop('can_inc_cha_ope_sea', axis=1, inplace=True)\n",
        "df.drop('can_cit', axis=1, inplace=True)\n",
        "df.drop('can_sta', axis=1, inplace=True)\n",
        "df.drop('winner', axis=1, inplace=True)"
      ],
      "execution_count": 17,
      "outputs": []
    },
    {
      "cell_type": "code",
      "metadata": {
        "id": "MQv91R7utWln"
      },
      "source": [
        "df['cov_sta_dat'] = pd.to_datetime(df['cov_sta_dat'])"
      ],
      "execution_count": 18,
      "outputs": []
    },
    {
      "cell_type": "code",
      "metadata": {
        "id": "SvuF4scBw1rJ"
      },
      "source": [
        "df['cov_end_dat'] = pd.to_datetime(df['cov_end_dat'])"
      ],
      "execution_count": 19,
      "outputs": []
    },
    {
      "cell_type": "code",
      "metadata": {
        "id": "GTRHqr2Cw_VN"
      },
      "source": [
        "df['cov_dur'] = df['cov_end_dat'] - df['cov_sta_dat']"
      ],
      "execution_count": 20,
      "outputs": []
    },
    {
      "cell_type": "code",
      "metadata": {
        "id": "ByK7mAhXxuCx"
      },
      "source": [
        "df['cov_dur'] = df['cov_dur'].dt.total_seconds()"
      ],
      "execution_count": 21,
      "outputs": []
    },
    {
      "cell_type": "code",
      "metadata": {
        "id": "BvcNPYeExaSA"
      },
      "source": [
        "df.drop('cov_end_dat', axis=1, inplace=True)\n",
        "df.drop('cov_sta_dat', axis=1, inplace=True)"
      ],
      "execution_count": 22,
      "outputs": []
    },
    {
      "cell_type": "markdown",
      "metadata": {
        "id": "qXLQ8UO5--PG"
      },
      "source": [
        "#Perform Data Splitting"
      ]
    },
    {
      "cell_type": "code",
      "metadata": {
        "id": "5IWt80wq0Dm2"
      },
      "source": [
        "X = df[['can_off_dis', 'can_zip', 'ind_con', 'net_ope_exp', 'tot_con',\n",
        "       'tot_dis', 'net_con', 'ope_exp', 'tot_rec', 'can_off_id', 'can_nam_id',\n",
        "       'can_off_sta_id', 'can_par_aff_id', 'can_inc_cha_ope_sea_id',\n",
        "       'can_cit_id', 'can_sta_id', 'cov_dur']]\n",
        "y = df[['winner_id']]"
      ],
      "execution_count": 23,
      "outputs": []
    },
    {
      "cell_type": "code",
      "metadata": {
        "id": "hj8Ze8OGx3rN"
      },
      "source": [
        "from sklearn.model_selection import train_test_split\n",
        "X_train, X_test, y_train, y_test = train_test_split(X, y, test_size=0.2, random_state=101)"
      ],
      "execution_count": 24,
      "outputs": []
    },
    {
      "cell_type": "markdown",
      "metadata": {
        "id": "cFwUV4f8_VSm"
      },
      "source": [
        "#Build a Deep Learning Model"
      ]
    },
    {
      "cell_type": "code",
      "metadata": {
        "id": "kHc5po9p2Kwm"
      },
      "source": [
        "import tensorflow as tf"
      ],
      "execution_count": 25,
      "outputs": []
    },
    {
      "cell_type": "code",
      "metadata": {
        "id": "8O8Hnnfj0qJu",
        "outputId": "11cc8e7d-f3cc-4ade-9b06-48adcaa0df59",
        "colab": {
          "base_uri": "https://localhost:8080/"
        }
      },
      "source": [
        "# creating a model for predicting deep learning model\n",
        "model  = tf.keras.Sequential([\n",
        "                tf.keras.layers.Flatten(input_shape=(1,17)),\n",
        "                tf.keras.layers.Dense(8, activation = 'relu'),\n",
        "                tf.keras.layers.Dense(1, activation = 'sigmoid')\n",
        "])\n",
        "\n",
        "model.compile(optimizer = 'adam', loss='binary_crossentropy', metrics =['accuracy'])\n",
        "\n",
        "\n",
        "num_epochs = 170\n",
        "\n",
        "history = model.fit(X_train, y_train, epochs = num_epochs,\n",
        "                    validation_data = (X_test,y_test))"
      ],
      "execution_count": 26,
      "outputs": [
        {
          "output_type": "stream",
          "text": [
            "Epoch 1/170\n",
            "WARNING:tensorflow:Model was constructed with shape (None, 1, 17) for input Tensor(\"flatten_input:0\", shape=(None, 1, 17), dtype=float32), but it was called on an input with incompatible shape (None, 17).\n",
            "WARNING:tensorflow:Model was constructed with shape (None, 1, 17) for input Tensor(\"flatten_input:0\", shape=(None, 1, 17), dtype=float32), but it was called on an input with incompatible shape (None, 17).\n",
            " 1/39 [..............................] - ETA: 0s - loss: 14320654.0000 - accuracy: 0.7812WARNING:tensorflow:Model was constructed with shape (None, 1, 17) for input Tensor(\"flatten_input:0\", shape=(None, 1, 17), dtype=float32), but it was called on an input with incompatible shape (None, 17).\n",
            "39/39 [==============================] - 0s 6ms/step - loss: 13433568.0000 - accuracy: 0.7089 - val_loss: 9752707.0000 - val_accuracy: 0.6656\n",
            "Epoch 2/170\n",
            "39/39 [==============================] - 0s 1ms/step - loss: 8273870.5000 - accuracy: 0.7097 - val_loss: 4977802.0000 - val_accuracy: 0.6624\n",
            "Epoch 3/170\n",
            "39/39 [==============================] - 0s 2ms/step - loss: 3076275.5000 - accuracy: 0.7161 - val_loss: 489898.4375 - val_accuracy: 0.8039\n",
            "Epoch 4/170\n",
            "39/39 [==============================] - 0s 2ms/step - loss: 320555.6875 - accuracy: 0.7944 - val_loss: 240069.1719 - val_accuracy: 0.8071\n",
            "Epoch 5/170\n",
            "39/39 [==============================] - 0s 2ms/step - loss: 226022.0312 - accuracy: 0.8024 - val_loss: 223711.1250 - val_accuracy: 0.8071\n",
            "Epoch 6/170\n",
            "39/39 [==============================] - 0s 1ms/step - loss: 219245.2344 - accuracy: 0.8089 - val_loss: 209090.9062 - val_accuracy: 0.8039\n",
            "Epoch 7/170\n",
            "39/39 [==============================] - 0s 2ms/step - loss: 206296.1406 - accuracy: 0.8105 - val_loss: 229839.1719 - val_accuracy: 0.7717\n",
            "Epoch 8/170\n",
            "39/39 [==============================] - 0s 1ms/step - loss: 214463.7969 - accuracy: 0.8145 - val_loss: 224405.5625 - val_accuracy: 0.8071\n",
            "Epoch 9/170\n",
            "39/39 [==============================] - 0s 1ms/step - loss: 208617.5000 - accuracy: 0.8169 - val_loss: 194243.9688 - val_accuracy: 0.7974\n",
            "Epoch 10/170\n",
            "39/39 [==============================] - 0s 1ms/step - loss: 182810.5000 - accuracy: 0.8129 - val_loss: 180364.3594 - val_accuracy: 0.8232\n",
            "Epoch 11/170\n",
            "39/39 [==============================] - 0s 1ms/step - loss: 167212.7031 - accuracy: 0.8161 - val_loss: 174829.2031 - val_accuracy: 0.7814\n",
            "Epoch 12/170\n",
            "39/39 [==============================] - 0s 1ms/step - loss: 146821.6250 - accuracy: 0.8258 - val_loss: 150195.6406 - val_accuracy: 0.8103\n",
            "Epoch 13/170\n",
            "39/39 [==============================] - 0s 2ms/step - loss: 139270.7500 - accuracy: 0.8315 - val_loss: 136995.6719 - val_accuracy: 0.8039\n",
            "Epoch 14/170\n",
            "39/39 [==============================] - 0s 1ms/step - loss: 123414.1328 - accuracy: 0.8339 - val_loss: 90858.1875 - val_accuracy: 0.8264\n",
            "Epoch 15/170\n",
            "39/39 [==============================] - 0s 1ms/step - loss: 105781.6875 - accuracy: 0.8476 - val_loss: 70260.8984 - val_accuracy: 0.8199\n",
            "Epoch 16/170\n",
            "39/39 [==============================] - 0s 1ms/step - loss: 88274.9688 - accuracy: 0.8492 - val_loss: 77199.7266 - val_accuracy: 0.8135\n",
            "Epoch 17/170\n",
            "39/39 [==============================] - 0s 1ms/step - loss: 74889.6406 - accuracy: 0.8581 - val_loss: 44131.2266 - val_accuracy: 0.8360\n",
            "Epoch 18/170\n",
            "39/39 [==============================] - 0s 1ms/step - loss: 71043.9062 - accuracy: 0.8492 - val_loss: 33096.2578 - val_accuracy: 0.8746\n",
            "Epoch 19/170\n",
            "39/39 [==============================] - 0s 1ms/step - loss: 63813.2969 - accuracy: 0.8702 - val_loss: 30039.6582 - val_accuracy: 0.7974\n",
            "Epoch 20/170\n",
            "39/39 [==============================] - 0s 2ms/step - loss: 59660.0664 - accuracy: 0.8315 - val_loss: 55621.8398 - val_accuracy: 0.8135\n",
            "Epoch 21/170\n",
            "39/39 [==============================] - 0s 2ms/step - loss: 57901.0469 - accuracy: 0.8532 - val_loss: 35028.8203 - val_accuracy: 0.8585\n",
            "Epoch 22/170\n",
            "39/39 [==============================] - 0s 2ms/step - loss: 54651.2305 - accuracy: 0.8629 - val_loss: 23996.5879 - val_accuracy: 0.8714\n",
            "Epoch 23/170\n",
            "39/39 [==============================] - 0s 2ms/step - loss: 53583.8164 - accuracy: 0.8331 - val_loss: 47692.4531 - val_accuracy: 0.8617\n",
            "Epoch 24/170\n",
            "39/39 [==============================] - 0s 1ms/step - loss: 80589.5703 - accuracy: 0.8218 - val_loss: 35052.7539 - val_accuracy: 0.6174\n",
            "Epoch 25/170\n",
            "39/39 [==============================] - 0s 2ms/step - loss: 46134.6758 - accuracy: 0.8508 - val_loss: 23962.5918 - val_accuracy: 0.8328\n",
            "Epoch 26/170\n",
            "39/39 [==============================] - 0s 1ms/step - loss: 53876.1094 - accuracy: 0.8411 - val_loss: 35851.8281 - val_accuracy: 0.8296\n",
            "Epoch 27/170\n",
            "39/39 [==============================] - 0s 2ms/step - loss: 54203.9336 - accuracy: 0.8298 - val_loss: 19151.7520 - val_accuracy: 0.8842\n",
            "Epoch 28/170\n",
            "39/39 [==============================] - 0s 1ms/step - loss: 68170.2812 - accuracy: 0.8331 - val_loss: 21381.2402 - val_accuracy: 0.8810\n",
            "Epoch 29/170\n",
            "39/39 [==============================] - 0s 1ms/step - loss: 65339.3594 - accuracy: 0.8468 - val_loss: 31171.8906 - val_accuracy: 0.8296\n",
            "Epoch 30/170\n",
            "39/39 [==============================] - 0s 1ms/step - loss: 45436.2422 - accuracy: 0.8250 - val_loss: 37222.5625 - val_accuracy: 0.8199\n",
            "Epoch 31/170\n",
            "39/39 [==============================] - 0s 1ms/step - loss: 44006.3242 - accuracy: 0.8387 - val_loss: 27701.3633 - val_accuracy: 0.8199\n",
            "Epoch 32/170\n",
            "39/39 [==============================] - 0s 1ms/step - loss: 53014.1406 - accuracy: 0.8210 - val_loss: 27210.9844 - val_accuracy: 0.8135\n",
            "Epoch 33/170\n",
            "39/39 [==============================] - 0s 2ms/step - loss: 45749.9727 - accuracy: 0.7944 - val_loss: 41523.7500 - val_accuracy: 0.7846\n",
            "Epoch 34/170\n",
            "39/39 [==============================] - 0s 1ms/step - loss: 40740.7383 - accuracy: 0.8161 - val_loss: 23299.6191 - val_accuracy: 0.8264\n",
            "Epoch 35/170\n",
            "39/39 [==============================] - 0s 2ms/step - loss: 26607.2344 - accuracy: 0.8871 - val_loss: 19782.3496 - val_accuracy: 0.8778\n",
            "Epoch 36/170\n",
            "39/39 [==============================] - 0s 2ms/step - loss: 44062.6680 - accuracy: 0.8468 - val_loss: 27711.0000 - val_accuracy: 0.8521\n",
            "Epoch 37/170\n",
            "39/39 [==============================] - 0s 2ms/step - loss: 40627.7031 - accuracy: 0.8669 - val_loss: 32644.1992 - val_accuracy: 0.8489\n",
            "Epoch 38/170\n",
            "39/39 [==============================] - 0s 1ms/step - loss: 42862.8281 - accuracy: 0.8661 - val_loss: 20215.9766 - val_accuracy: 0.8296\n",
            "Epoch 39/170\n",
            "39/39 [==============================] - 0s 1ms/step - loss: 45012.4336 - accuracy: 0.8484 - val_loss: 80825.5391 - val_accuracy: 0.8392\n",
            "Epoch 40/170\n",
            "39/39 [==============================] - 0s 1ms/step - loss: 77280.8359 - accuracy: 0.8540 - val_loss: 46710.5820 - val_accuracy: 0.8810\n",
            "Epoch 41/170\n",
            "39/39 [==============================] - 0s 1ms/step - loss: 110671.0703 - accuracy: 0.8315 - val_loss: 29625.3535 - val_accuracy: 0.7492\n",
            "Epoch 42/170\n",
            "39/39 [==============================] - 0s 2ms/step - loss: 45810.3047 - accuracy: 0.8702 - val_loss: 14068.3838 - val_accuracy: 0.8810\n",
            "Epoch 43/170\n",
            "39/39 [==============================] - 0s 2ms/step - loss: 28214.2363 - accuracy: 0.8903 - val_loss: 22600.6719 - val_accuracy: 0.8006\n",
            "Epoch 44/170\n",
            "39/39 [==============================] - 0s 1ms/step - loss: 68557.9453 - accuracy: 0.8153 - val_loss: 27994.0703 - val_accuracy: 0.8264\n",
            "Epoch 45/170\n",
            "39/39 [==============================] - 0s 1ms/step - loss: 35859.9297 - accuracy: 0.8129 - val_loss: 30698.4473 - val_accuracy: 0.8971\n",
            "Epoch 46/170\n",
            "39/39 [==============================] - 0s 1ms/step - loss: 40014.9180 - accuracy: 0.8573 - val_loss: 37319.0508 - val_accuracy: 0.8424\n",
            "Epoch 47/170\n",
            "39/39 [==============================] - 0s 1ms/step - loss: 36500.3828 - accuracy: 0.8742 - val_loss: 23715.4355 - val_accuracy: 0.8617\n",
            "Epoch 48/170\n",
            "39/39 [==============================] - 0s 1ms/step - loss: 45830.8594 - accuracy: 0.8371 - val_loss: 22857.2871 - val_accuracy: 0.8167\n",
            "Epoch 49/170\n",
            "39/39 [==============================] - 0s 1ms/step - loss: 53718.0742 - accuracy: 0.8411 - val_loss: 45369.2266 - val_accuracy: 0.7781\n",
            "Epoch 50/170\n",
            "39/39 [==============================] - 0s 1ms/step - loss: 37934.5039 - accuracy: 0.8097 - val_loss: 47421.9297 - val_accuracy: 0.8103\n",
            "Epoch 51/170\n",
            "39/39 [==============================] - 0s 2ms/step - loss: 30946.3320 - accuracy: 0.8363 - val_loss: 13422.2334 - val_accuracy: 0.8907\n",
            "Epoch 52/170\n",
            "39/39 [==============================] - 0s 1ms/step - loss: 32231.9004 - accuracy: 0.8492 - val_loss: 25940.3711 - val_accuracy: 0.8971\n",
            "Epoch 53/170\n",
            "39/39 [==============================] - 0s 1ms/step - loss: 45130.5273 - accuracy: 0.8210 - val_loss: 49456.6055 - val_accuracy: 0.7878\n",
            "Epoch 54/170\n",
            "39/39 [==============================] - 0s 2ms/step - loss: 72626.4922 - accuracy: 0.8363 - val_loss: 29634.8848 - val_accuracy: 0.8457\n",
            "Epoch 55/170\n",
            "39/39 [==============================] - 0s 2ms/step - loss: 35393.5781 - accuracy: 0.8605 - val_loss: 34253.3477 - val_accuracy: 0.7942\n",
            "Epoch 56/170\n",
            "39/39 [==============================] - 0s 2ms/step - loss: 29283.8008 - accuracy: 0.8798 - val_loss: 13445.2041 - val_accuracy: 0.8682\n",
            "Epoch 57/170\n",
            "39/39 [==============================] - 0s 2ms/step - loss: 26443.6875 - accuracy: 0.8484 - val_loss: 21499.2598 - val_accuracy: 0.8103\n",
            "Epoch 58/170\n",
            "39/39 [==============================] - 0s 1ms/step - loss: 30387.0410 - accuracy: 0.8565 - val_loss: 11562.1797 - val_accuracy: 0.8006\n",
            "Epoch 59/170\n",
            "39/39 [==============================] - 0s 1ms/step - loss: 38669.1680 - accuracy: 0.8468 - val_loss: 11110.3271 - val_accuracy: 0.8971\n",
            "Epoch 60/170\n",
            "39/39 [==============================] - 0s 1ms/step - loss: 35854.8516 - accuracy: 0.8161 - val_loss: 12188.0957 - val_accuracy: 0.9068\n",
            "Epoch 61/170\n",
            "39/39 [==============================] - 0s 1ms/step - loss: 30016.2910 - accuracy: 0.8484 - val_loss: 12378.3662 - val_accuracy: 0.9100\n",
            "Epoch 62/170\n",
            "39/39 [==============================] - 0s 1ms/step - loss: 52055.1914 - accuracy: 0.8395 - val_loss: 15505.1660 - val_accuracy: 0.8585\n",
            "Epoch 63/170\n",
            "39/39 [==============================] - 0s 1ms/step - loss: 26512.0898 - accuracy: 0.8774 - val_loss: 12084.8037 - val_accuracy: 0.8810\n",
            "Epoch 64/170\n",
            "39/39 [==============================] - 0s 1ms/step - loss: 30841.3457 - accuracy: 0.8694 - val_loss: 14525.6221 - val_accuracy: 0.8907\n",
            "Epoch 65/170\n",
            "39/39 [==============================] - 0s 1ms/step - loss: 32056.9746 - accuracy: 0.8823 - val_loss: 15084.1816 - val_accuracy: 0.8714\n",
            "Epoch 66/170\n",
            "39/39 [==============================] - 0s 2ms/step - loss: 21449.6602 - accuracy: 0.8677 - val_loss: 9998.8047 - val_accuracy: 0.9035\n",
            "Epoch 67/170\n",
            "39/39 [==============================] - 0s 2ms/step - loss: 29477.1426 - accuracy: 0.8645 - val_loss: 24024.0664 - val_accuracy: 0.8360\n",
            "Epoch 68/170\n",
            "39/39 [==============================] - 0s 2ms/step - loss: 47451.5625 - accuracy: 0.8476 - val_loss: 11078.3379 - val_accuracy: 0.9068\n",
            "Epoch 69/170\n",
            "39/39 [==============================] - 0s 2ms/step - loss: 30156.4512 - accuracy: 0.8645 - val_loss: 22345.1230 - val_accuracy: 0.9003\n",
            "Epoch 70/170\n",
            "39/39 [==============================] - 0s 2ms/step - loss: 47044.0078 - accuracy: 0.8726 - val_loss: 29821.3887 - val_accuracy: 0.5659\n",
            "Epoch 71/170\n",
            "39/39 [==============================] - 0s 1ms/step - loss: 31295.8965 - accuracy: 0.8347 - val_loss: 20529.5488 - val_accuracy: 0.8778\n",
            "Epoch 72/170\n",
            "39/39 [==============================] - 0s 1ms/step - loss: 43259.3008 - accuracy: 0.8411 - val_loss: 21419.8086 - val_accuracy: 0.8939\n",
            "Epoch 73/170\n",
            "39/39 [==============================] - 0s 2ms/step - loss: 29675.9258 - accuracy: 0.8653 - val_loss: 11634.3613 - val_accuracy: 0.8424\n",
            "Epoch 74/170\n",
            "39/39 [==============================] - 0s 2ms/step - loss: 20951.9160 - accuracy: 0.8653 - val_loss: 12206.0928 - val_accuracy: 0.8907\n",
            "Epoch 75/170\n",
            "39/39 [==============================] - 0s 1ms/step - loss: 24774.8789 - accuracy: 0.8589 - val_loss: 24429.2930 - val_accuracy: 0.8553\n",
            "Epoch 76/170\n",
            "39/39 [==============================] - 0s 1ms/step - loss: 24541.5332 - accuracy: 0.8782 - val_loss: 11387.7480 - val_accuracy: 0.8682\n",
            "Epoch 77/170\n",
            "39/39 [==============================] - 0s 2ms/step - loss: 17118.2539 - accuracy: 0.8782 - val_loss: 9546.7168 - val_accuracy: 0.9035\n",
            "Epoch 78/170\n",
            "39/39 [==============================] - 0s 2ms/step - loss: 47223.2812 - accuracy: 0.8734 - val_loss: 27901.0488 - val_accuracy: 0.8810\n",
            "Epoch 79/170\n",
            "39/39 [==============================] - 0s 2ms/step - loss: 63310.7812 - accuracy: 0.8395 - val_loss: 25418.1270 - val_accuracy: 0.8617\n",
            "Epoch 80/170\n",
            "39/39 [==============================] - 0s 1ms/step - loss: 26538.4648 - accuracy: 0.8766 - val_loss: 12582.0244 - val_accuracy: 0.8939\n",
            "Epoch 81/170\n",
            "39/39 [==============================] - 0s 1ms/step - loss: 34233.0078 - accuracy: 0.8879 - val_loss: 31839.5527 - val_accuracy: 0.7395\n",
            "Epoch 82/170\n",
            "39/39 [==============================] - 0s 2ms/step - loss: 30438.2773 - accuracy: 0.8581 - val_loss: 13261.6924 - val_accuracy: 0.8360\n",
            "Epoch 83/170\n",
            "39/39 [==============================] - 0s 2ms/step - loss: 42489.3398 - accuracy: 0.8637 - val_loss: 38181.9375 - val_accuracy: 0.8328\n",
            "Epoch 84/170\n",
            "39/39 [==============================] - 0s 1ms/step - loss: 33110.9570 - accuracy: 0.8694 - val_loss: 24715.8398 - val_accuracy: 0.8971\n",
            "Epoch 85/170\n",
            "39/39 [==============================] - 0s 1ms/step - loss: 28980.7383 - accuracy: 0.8871 - val_loss: 16562.0430 - val_accuracy: 0.9035\n",
            "Epoch 86/170\n",
            "39/39 [==============================] - 0s 2ms/step - loss: 22340.5742 - accuracy: 0.8524 - val_loss: 13066.3389 - val_accuracy: 0.8778\n",
            "Epoch 87/170\n",
            "39/39 [==============================] - 0s 2ms/step - loss: 31775.3105 - accuracy: 0.8589 - val_loss: 10852.1729 - val_accuracy: 0.7492\n",
            "Epoch 88/170\n",
            "39/39 [==============================] - 0s 2ms/step - loss: 25620.6621 - accuracy: 0.8540 - val_loss: 33214.8633 - val_accuracy: 0.8199\n",
            "Epoch 89/170\n",
            "39/39 [==============================] - 0s 2ms/step - loss: 42458.3555 - accuracy: 0.8653 - val_loss: 41980.7422 - val_accuracy: 0.7074\n",
            "Epoch 90/170\n",
            "39/39 [==============================] - 0s 2ms/step - loss: 47187.7969 - accuracy: 0.8516 - val_loss: 25508.7207 - val_accuracy: 0.8810\n",
            "Epoch 91/170\n",
            "39/39 [==============================] - 0s 1ms/step - loss: 44089.1523 - accuracy: 0.8403 - val_loss: 15339.9180 - val_accuracy: 0.8939\n",
            "Epoch 92/170\n",
            "39/39 [==============================] - 0s 1ms/step - loss: 59345.6445 - accuracy: 0.8202 - val_loss: 35877.1172 - val_accuracy: 0.8778\n",
            "Epoch 93/170\n",
            "39/39 [==============================] - 0s 2ms/step - loss: 82130.4219 - accuracy: 0.8903 - val_loss: 32119.9688 - val_accuracy: 0.8682\n",
            "Epoch 94/170\n",
            "39/39 [==============================] - 0s 1ms/step - loss: 23477.6172 - accuracy: 0.8927 - val_loss: 22546.8145 - val_accuracy: 0.8875\n",
            "Epoch 95/170\n",
            "39/39 [==============================] - 0s 1ms/step - loss: 27509.9805 - accuracy: 0.8734 - val_loss: 26435.9199 - val_accuracy: 0.9003\n",
            "Epoch 96/170\n",
            "39/39 [==============================] - 0s 1ms/step - loss: 53053.3945 - accuracy: 0.8855 - val_loss: 16861.0195 - val_accuracy: 0.8810\n",
            "Epoch 97/170\n",
            "39/39 [==============================] - 0s 2ms/step - loss: 39530.9766 - accuracy: 0.8242 - val_loss: 10203.3896 - val_accuracy: 0.8810\n",
            "Epoch 98/170\n",
            "39/39 [==============================] - 0s 2ms/step - loss: 23978.6602 - accuracy: 0.8492 - val_loss: 15458.7930 - val_accuracy: 0.8135\n",
            "Epoch 99/170\n",
            "39/39 [==============================] - 0s 2ms/step - loss: 24270.4082 - accuracy: 0.8597 - val_loss: 11164.5684 - val_accuracy: 0.8907\n",
            "Epoch 100/170\n",
            "39/39 [==============================] - 0s 2ms/step - loss: 24067.8867 - accuracy: 0.8621 - val_loss: 13445.0420 - val_accuracy: 0.8006\n",
            "Epoch 101/170\n",
            "39/39 [==============================] - 0s 2ms/step - loss: 41064.5742 - accuracy: 0.8565 - val_loss: 27985.0684 - val_accuracy: 0.8167\n",
            "Epoch 102/170\n",
            "39/39 [==============================] - 0s 2ms/step - loss: 22613.1777 - accuracy: 0.8879 - val_loss: 59558.3008 - val_accuracy: 0.5981\n",
            "Epoch 103/170\n",
            "39/39 [==============================] - 0s 2ms/step - loss: 33184.5391 - accuracy: 0.8653 - val_loss: 26506.7812 - val_accuracy: 0.8971\n",
            "Epoch 104/170\n",
            "39/39 [==============================] - 0s 2ms/step - loss: 21156.3281 - accuracy: 0.8831 - val_loss: 13174.3711 - val_accuracy: 0.9003\n",
            "Epoch 105/170\n",
            "39/39 [==============================] - 0s 2ms/step - loss: 18944.4805 - accuracy: 0.8685 - val_loss: 19175.1074 - val_accuracy: 0.8746\n",
            "Epoch 106/170\n",
            "39/39 [==============================] - 0s 2ms/step - loss: 19558.7402 - accuracy: 0.8677 - val_loss: 11059.9844 - val_accuracy: 0.8907\n",
            "Epoch 107/170\n",
            "39/39 [==============================] - 0s 2ms/step - loss: 34371.3594 - accuracy: 0.8992 - val_loss: 9842.7061 - val_accuracy: 0.9068\n",
            "Epoch 108/170\n",
            "39/39 [==============================] - 0s 2ms/step - loss: 21708.7500 - accuracy: 0.8911 - val_loss: 16458.1035 - val_accuracy: 0.9132\n",
            "Epoch 109/170\n",
            "39/39 [==============================] - 0s 2ms/step - loss: 39163.9922 - accuracy: 0.8653 - val_loss: 27863.8145 - val_accuracy: 0.8103\n",
            "Epoch 110/170\n",
            "39/39 [==============================] - 0s 2ms/step - loss: 40377.4180 - accuracy: 0.8226 - val_loss: 11877.8828 - val_accuracy: 0.6367\n",
            "Epoch 111/170\n",
            "39/39 [==============================] - 0s 2ms/step - loss: 20645.0820 - accuracy: 0.8452 - val_loss: 9549.6846 - val_accuracy: 0.9068\n",
            "Epoch 112/170\n",
            "39/39 [==============================] - 0s 1ms/step - loss: 42878.6484 - accuracy: 0.8339 - val_loss: 18145.3496 - val_accuracy: 0.8585\n",
            "Epoch 113/170\n",
            "39/39 [==============================] - 0s 1ms/step - loss: 24605.3125 - accuracy: 0.8379 - val_loss: 15617.6475 - val_accuracy: 0.9035\n",
            "Epoch 114/170\n",
            "39/39 [==============================] - 0s 1ms/step - loss: 20286.0254 - accuracy: 0.8750 - val_loss: 26828.4512 - val_accuracy: 0.5370\n",
            "Epoch 115/170\n",
            "39/39 [==============================] - 0s 2ms/step - loss: 31255.8672 - accuracy: 0.8734 - val_loss: 12238.4551 - val_accuracy: 0.8746\n",
            "Epoch 116/170\n",
            "39/39 [==============================] - 0s 2ms/step - loss: 16097.9824 - accuracy: 0.8960 - val_loss: 15188.5020 - val_accuracy: 0.9068\n",
            "Epoch 117/170\n",
            "39/39 [==============================] - 0s 1ms/step - loss: 42658.9336 - accuracy: 0.8323 - val_loss: 50640.4883 - val_accuracy: 0.4405\n",
            "Epoch 118/170\n",
            "39/39 [==============================] - 0s 1ms/step - loss: 32522.7031 - accuracy: 0.8153 - val_loss: 39794.0820 - val_accuracy: 0.4952\n",
            "Epoch 119/170\n",
            "39/39 [==============================] - 0s 1ms/step - loss: 20503.8711 - accuracy: 0.8387 - val_loss: 42439.8867 - val_accuracy: 0.7878\n",
            "Epoch 120/170\n",
            "39/39 [==============================] - 0s 1ms/step - loss: 36920.6211 - accuracy: 0.8274 - val_loss: 29614.2324 - val_accuracy: 0.7942\n",
            "Epoch 121/170\n",
            "39/39 [==============================] - 0s 2ms/step - loss: 23006.6445 - accuracy: 0.8621 - val_loss: 9181.4404 - val_accuracy: 0.9100\n",
            "Epoch 122/170\n",
            "39/39 [==============================] - 0s 2ms/step - loss: 21157.6152 - accuracy: 0.8790 - val_loss: 13709.7012 - val_accuracy: 0.9035\n",
            "Epoch 123/170\n",
            "39/39 [==============================] - 0s 2ms/step - loss: 30940.5039 - accuracy: 0.8710 - val_loss: 20127.9590 - val_accuracy: 0.8264\n",
            "Epoch 124/170\n",
            "39/39 [==============================] - 0s 2ms/step - loss: 81904.7266 - accuracy: 0.8177 - val_loss: 46622.7969 - val_accuracy: 0.8842\n",
            "Epoch 125/170\n",
            "39/39 [==============================] - 0s 2ms/step - loss: 44866.2305 - accuracy: 0.8532 - val_loss: 22019.9258 - val_accuracy: 0.8392\n",
            "Epoch 126/170\n",
            "39/39 [==============================] - 0s 2ms/step - loss: 28607.5996 - accuracy: 0.8032 - val_loss: 14810.5029 - val_accuracy: 0.8875\n",
            "Epoch 127/170\n",
            "39/39 [==============================] - 0s 2ms/step - loss: 24662.6152 - accuracy: 0.8637 - val_loss: 16537.4688 - val_accuracy: 0.8199\n",
            "Epoch 128/170\n",
            "39/39 [==============================] - 0s 2ms/step - loss: 23769.2949 - accuracy: 0.8645 - val_loss: 28989.3340 - val_accuracy: 0.8810\n",
            "Epoch 129/170\n",
            "39/39 [==============================] - 0s 2ms/step - loss: 40044.0078 - accuracy: 0.8234 - val_loss: 17030.2383 - val_accuracy: 0.6077\n",
            "Epoch 130/170\n",
            "39/39 [==============================] - 0s 2ms/step - loss: 48638.0938 - accuracy: 0.8806 - val_loss: 37269.3281 - val_accuracy: 0.8939\n",
            "Epoch 131/170\n",
            "39/39 [==============================] - 0s 1ms/step - loss: 56877.8906 - accuracy: 0.8460 - val_loss: 23572.2500 - val_accuracy: 0.8489\n",
            "Epoch 132/170\n",
            "39/39 [==============================] - 0s 2ms/step - loss: 21160.5625 - accuracy: 0.8702 - val_loss: 17600.3828 - val_accuracy: 0.8135\n",
            "Epoch 133/170\n",
            "39/39 [==============================] - 0s 2ms/step - loss: 19921.8184 - accuracy: 0.8661 - val_loss: 22583.5254 - val_accuracy: 0.8521\n",
            "Epoch 134/170\n",
            "39/39 [==============================] - 0s 1ms/step - loss: 30438.1582 - accuracy: 0.8661 - val_loss: 10722.2617 - val_accuracy: 0.8585\n",
            "Epoch 135/170\n",
            "39/39 [==============================] - 0s 1ms/step - loss: 24640.0352 - accuracy: 0.8161 - val_loss: 29099.4629 - val_accuracy: 0.7749\n",
            "Epoch 136/170\n",
            "39/39 [==============================] - 0s 2ms/step - loss: 21306.8750 - accuracy: 0.8153 - val_loss: 13557.3477 - val_accuracy: 0.8103\n",
            "Epoch 137/170\n",
            "39/39 [==============================] - 0s 2ms/step - loss: 24316.7441 - accuracy: 0.8492 - val_loss: 22681.3008 - val_accuracy: 0.8039\n",
            "Epoch 138/170\n",
            "39/39 [==============================] - 0s 1ms/step - loss: 28460.4395 - accuracy: 0.8355 - val_loss: 21611.9805 - val_accuracy: 0.8296\n",
            "Epoch 139/170\n",
            "39/39 [==============================] - 0s 1ms/step - loss: 18241.6250 - accuracy: 0.8927 - val_loss: 8590.5703 - val_accuracy: 0.8424\n",
            "Epoch 140/170\n",
            "39/39 [==============================] - 0s 1ms/step - loss: 25947.0645 - accuracy: 0.8637 - val_loss: 31175.5469 - val_accuracy: 0.5241\n",
            "Epoch 141/170\n",
            "39/39 [==============================] - 0s 2ms/step - loss: 35725.4102 - accuracy: 0.8056 - val_loss: 10005.5654 - val_accuracy: 0.9132\n",
            "Epoch 142/170\n",
            "39/39 [==============================] - 0s 1ms/step - loss: 30540.4199 - accuracy: 0.8323 - val_loss: 17020.9941 - val_accuracy: 0.8746\n",
            "Epoch 143/170\n",
            "39/39 [==============================] - 0s 2ms/step - loss: 27135.6582 - accuracy: 0.8629 - val_loss: 18980.5879 - val_accuracy: 0.8553\n",
            "Epoch 144/170\n",
            "39/39 [==============================] - 0s 2ms/step - loss: 31743.9355 - accuracy: 0.8879 - val_loss: 13126.9629 - val_accuracy: 0.9132\n",
            "Epoch 145/170\n",
            "39/39 [==============================] - 0s 2ms/step - loss: 23592.8633 - accuracy: 0.8823 - val_loss: 8058.5894 - val_accuracy: 0.8971\n",
            "Epoch 146/170\n",
            "39/39 [==============================] - 0s 2ms/step - loss: 26508.8555 - accuracy: 0.8806 - val_loss: 14352.1289 - val_accuracy: 0.8875\n",
            "Epoch 147/170\n",
            "39/39 [==============================] - 0s 2ms/step - loss: 28879.4160 - accuracy: 0.8274 - val_loss: 26654.4570 - val_accuracy: 0.7910\n",
            "Epoch 148/170\n",
            "39/39 [==============================] - 0s 1ms/step - loss: 20387.9551 - accuracy: 0.8145 - val_loss: 8240.4336 - val_accuracy: 0.9035\n",
            "Epoch 149/170\n",
            "39/39 [==============================] - 0s 1ms/step - loss: 20397.8398 - accuracy: 0.8032 - val_loss: 17967.7324 - val_accuracy: 0.8842\n",
            "Epoch 150/170\n",
            "39/39 [==============================] - 0s 2ms/step - loss: 21831.4316 - accuracy: 0.8726 - val_loss: 16987.8789 - val_accuracy: 0.9035\n",
            "Epoch 151/170\n",
            "39/39 [==============================] - 0s 2ms/step - loss: 23088.5156 - accuracy: 0.8556 - val_loss: 14984.9229 - val_accuracy: 0.7460\n",
            "Epoch 152/170\n",
            "39/39 [==============================] - 0s 2ms/step - loss: 16577.0703 - accuracy: 0.8782 - val_loss: 12732.0615 - val_accuracy: 0.8778\n",
            "Epoch 153/170\n",
            "39/39 [==============================] - 0s 2ms/step - loss: 13223.0889 - accuracy: 0.8960 - val_loss: 8969.1113 - val_accuracy: 0.8553\n",
            "Epoch 154/170\n",
            "39/39 [==============================] - 0s 1ms/step - loss: 16276.5537 - accuracy: 0.8516 - val_loss: 20367.7988 - val_accuracy: 0.8778\n",
            "Epoch 155/170\n",
            "39/39 [==============================] - 0s 2ms/step - loss: 30739.4102 - accuracy: 0.8758 - val_loss: 10272.9463 - val_accuracy: 0.7010\n",
            "Epoch 156/170\n",
            "39/39 [==============================] - 0s 2ms/step - loss: 27756.7324 - accuracy: 0.8766 - val_loss: 19184.4355 - val_accuracy: 0.8553\n",
            "Epoch 157/170\n",
            "39/39 [==============================] - 0s 2ms/step - loss: 18758.7480 - accuracy: 0.8476 - val_loss: 7535.4873 - val_accuracy: 0.8939\n",
            "Epoch 158/170\n",
            "39/39 [==============================] - 0s 1ms/step - loss: 25388.7129 - accuracy: 0.8774 - val_loss: 35834.7539 - val_accuracy: 0.8521\n",
            "Epoch 159/170\n",
            "39/39 [==============================] - 0s 2ms/step - loss: 47177.7148 - accuracy: 0.8677 - val_loss: 28720.9453 - val_accuracy: 0.9100\n",
            "Epoch 160/170\n",
            "39/39 [==============================] - 0s 2ms/step - loss: 50607.1406 - accuracy: 0.8476 - val_loss: 8901.2090 - val_accuracy: 0.8424\n",
            "Epoch 161/170\n",
            "39/39 [==============================] - 0s 2ms/step - loss: 20834.2520 - accuracy: 0.8992 - val_loss: 29227.1797 - val_accuracy: 0.8778\n",
            "Epoch 162/170\n",
            "39/39 [==============================] - 0s 1ms/step - loss: 31367.0391 - accuracy: 0.8935 - val_loss: 16217.1660 - val_accuracy: 0.7395\n",
            "Epoch 163/170\n",
            "39/39 [==============================] - 0s 1ms/step - loss: 62471.8711 - accuracy: 0.9000 - val_loss: 21466.3848 - val_accuracy: 0.9035\n",
            "Epoch 164/170\n",
            "39/39 [==============================] - 0s 2ms/step - loss: 46133.3086 - accuracy: 0.8694 - val_loss: 17217.0137 - val_accuracy: 0.8971\n",
            "Epoch 165/170\n",
            "39/39 [==============================] - 0s 2ms/step - loss: 41314.6016 - accuracy: 0.8524 - val_loss: 13943.8926 - val_accuracy: 0.8232\n",
            "Epoch 166/170\n",
            "39/39 [==============================] - 0s 2ms/step - loss: 33942.1289 - accuracy: 0.8597 - val_loss: 15980.4111 - val_accuracy: 0.7395\n",
            "Epoch 167/170\n",
            "39/39 [==============================] - 0s 2ms/step - loss: 20239.5371 - accuracy: 0.8460 - val_loss: 16178.4482 - val_accuracy: 0.9068\n",
            "Epoch 168/170\n",
            "39/39 [==============================] - 0s 2ms/step - loss: 24075.6582 - accuracy: 0.8831 - val_loss: 12561.4902 - val_accuracy: 0.7106\n",
            "Epoch 169/170\n",
            "39/39 [==============================] - 0s 2ms/step - loss: 58250.3672 - accuracy: 0.8347 - val_loss: 12273.9893 - val_accuracy: 0.9003\n",
            "Epoch 170/170\n",
            "39/39 [==============================] - 0s 2ms/step - loss: 24710.2129 - accuracy: 0.8694 - val_loss: 8620.0762 - val_accuracy: 0.9068\n"
          ],
          "name": "stdout"
        }
      ]
    },
    {
      "cell_type": "markdown",
      "metadata": {
        "id": "L9eJf6ek_kfw"
      },
      "source": [
        "#Perform Model Validation"
      ]
    },
    {
      "cell_type": "code",
      "metadata": {
        "id": "kYDpgYeD19aw",
        "outputId": "8d832ace-8297-43af-c146-51a62d13ad52",
        "colab": {
          "base_uri": "https://localhost:8080/"
        }
      },
      "source": [
        "#Evaluate the model and print the results\n",
        "test_loss, test_acc = model.evaluate(X_test,  y_test, verbose=0)\n",
        "print('Test accuracy:', test_acc)"
      ],
      "execution_count": 27,
      "outputs": [
        {
          "output_type": "stream",
          "text": [
            "Test accuracy: 0.9067524075508118\n"
          ],
          "name": "stdout"
        }
      ]
    },
    {
      "cell_type": "markdown",
      "metadata": {
        "id": "EW_ge0o3_o4G"
      },
      "source": [
        "#Save Model"
      ]
    },
    {
      "cell_type": "code",
      "metadata": {
        "id": "_aKJ-3zK6_WD",
        "outputId": "f368a3d1-44ad-4975-a752-33f2afd11d08",
        "colab": {
          "base_uri": "https://localhost:8080/"
        }
      },
      "source": [
        "model.save('/content/gdrive/My Drive/saved_model')"
      ],
      "execution_count": 29,
      "outputs": [
        {
          "output_type": "stream",
          "text": [
            "INFO:tensorflow:Assets written to: /content/gdrive/My Drive/saved_model/assets\n"
          ],
          "name": "stdout"
        }
      ]
    },
    {
      "cell_type": "markdown",
      "metadata": {
        "id": "OKGD_bGSB7P4"
      },
      "source": [
        "#Load Model"
      ]
    },
    {
      "cell_type": "code",
      "metadata": {
        "id": "vr2UoMbk8aII"
      },
      "source": [
        "classifier = tf.keras.models.load_model('/content/gdrive/My Drive/saved_model')"
      ],
      "execution_count": 31,
      "outputs": []
    },
    {
      "cell_type": "code",
      "metadata": {
        "id": "BEYyhRXdBPQR",
        "outputId": "312ae770-91b3-4299-e912-ae4f21ac9522",
        "colab": {
          "base_uri": "https://localhost:8080/"
        }
      },
      "source": [
        "#Evaluate the model and print the results\n",
        "test_loss, test_acc = classifier.evaluate(X_test,  y_test, verbose=0)\n",
        "print('Test accuracy:', test_acc)"
      ],
      "execution_count": 32,
      "outputs": [
        {
          "output_type": "stream",
          "text": [
            "WARNING:tensorflow:Model was constructed with shape (None, 1, 17) for input Tensor(\"flatten_input_1:0\", shape=(None, 1, 17), dtype=float32), but it was called on an input with incompatible shape (None, 17).\n",
            "Test accuracy: 0.9067524075508118\n"
          ],
          "name": "stdout"
        }
      ]
    },
    {
      "cell_type": "code",
      "metadata": {
        "id": "ZIdPJ1vXBcTF"
      },
      "source": [
        ""
      ],
      "execution_count": null,
      "outputs": []
    }
  ]
}