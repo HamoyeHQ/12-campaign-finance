{
  "nbformat": 4,
  "nbformat_minor": 0,
  "metadata": {
    "colab": {
      "name": "logistic_regression_final_model.ipynb",
      "provenance": [],
      "collapsed_sections": [],
      "toc_visible": true
    },
    "kernelspec": {
      "name": "python3",
      "display_name": "Python 3"
    }
  },
  "cells": [
    {
      "cell_type": "markdown",
      "metadata": {
        "id": "1BqtlRzaR_i_"
      },
      "source": [
        "# Summary\n",
        "\n",
        "\n",
        "\n",
        ">Update : standard scaler was used on the features which showed improved performance on the balanced data.\n",
        "\n",
        "\n",
        "\n",
        "This notebook makes use of logistic regression to determine if a candidate will win based on the following features\n",
        "\n",
        "1. 'ind_con'\n",
        "2. 'net_ope_exp'\n",
        "3. 'tot_con'\n",
        "4. 'tot_dis'\n",
        "5. 'net_con'\n",
        "6. 'ope_exp'\t\n",
        "7. 'tot_rec'\n",
        "\n",
        "logistic regression was used on\n",
        "\n",
        "1. The imbalanced data\n",
        "2. After undersampling the majority class ('N')\n",
        "3. After smoting both classes to get a balanced data\n",
        "4. Label encoding was used on 'can_off' and 'can_inc_cha_ope_sea' and added to the features of the smoted balanced data."
      ]
    },
    {
      "cell_type": "code",
      "metadata": {
        "id": "ouhr012uJbKY"
      },
      "source": [
        "import numpy as np\n",
        "import matplotlib.pyplot as plt\n",
        "import pandas as pd\n",
        "import seaborn as sns"
      ],
      "execution_count": 60,
      "outputs": []
    },
    {
      "cell_type": "code",
      "metadata": {
        "id": "VusOqI63JfJk",
        "outputId": "cfcf49ea-d199-4cba-ad55-bf39bb470cbb",
        "colab": {
          "base_uri": "https://localhost:8080/",
          "height": 275
        }
      },
      "source": [
        "df = pd.read_csv('https://raw.githubusercontent.com/HamoyeHQ/12-campaign-finance/master/data/new_project_data1.csv')\n",
        "df.head()"
      ],
      "execution_count": 61,
      "outputs": [
        {
          "output_type": "execute_result",
          "data": {
            "text/html": [
              "<div>\n",
              "<style scoped>\n",
              "    .dataframe tbody tr th:only-of-type {\n",
              "        vertical-align: middle;\n",
              "    }\n",
              "\n",
              "    .dataframe tbody tr th {\n",
              "        vertical-align: top;\n",
              "    }\n",
              "\n",
              "    .dataframe thead th {\n",
              "        text-align: right;\n",
              "    }\n",
              "</style>\n",
              "<table border=\"1\" class=\"dataframe\">\n",
              "  <thead>\n",
              "    <tr style=\"text-align: right;\">\n",
              "      <th></th>\n",
              "      <th>can_id</th>\n",
              "      <th>can_nam</th>\n",
              "      <th>can_off</th>\n",
              "      <th>can_off_sta</th>\n",
              "      <th>can_off_dis</th>\n",
              "      <th>can_par_aff</th>\n",
              "      <th>can_inc_cha_ope_sea</th>\n",
              "      <th>can_cit</th>\n",
              "      <th>can_sta</th>\n",
              "      <th>can_zip</th>\n",
              "      <th>cov_sta_dat</th>\n",
              "      <th>cov_end_dat</th>\n",
              "      <th>ind_con</th>\n",
              "      <th>net_ope_exp</th>\n",
              "      <th>tot_con</th>\n",
              "      <th>tot_dis</th>\n",
              "      <th>net_con</th>\n",
              "      <th>ope_exp</th>\n",
              "      <th>tot_rec</th>\n",
              "      <th>winner</th>\n",
              "    </tr>\n",
              "  </thead>\n",
              "  <tbody>\n",
              "    <tr>\n",
              "      <th>0</th>\n",
              "      <td>H2GA12121</td>\n",
              "      <td>ALLEN, RICHARD W</td>\n",
              "      <td>H</td>\n",
              "      <td>GA</td>\n",
              "      <td>12.0</td>\n",
              "      <td>REP</td>\n",
              "      <td>INCUMBENT</td>\n",
              "      <td>AUGUSTA</td>\n",
              "      <td>GA</td>\n",
              "      <td>30904.0</td>\n",
              "      <td>1/1/2015</td>\n",
              "      <td>10/19/2016</td>\n",
              "      <td>601274.50</td>\n",
              "      <td>907156.21</td>\n",
              "      <td>1074949.50</td>\n",
              "      <td>978518.98</td>\n",
              "      <td>1074949.50</td>\n",
              "      <td>908518.98</td>\n",
              "      <td>1094022.76</td>\n",
              "      <td>Y</td>\n",
              "    </tr>\n",
              "    <tr>\n",
              "      <th>1</th>\n",
              "      <td>H6PA02171</td>\n",
              "      <td>EVANS, DWIGHT</td>\n",
              "      <td>H</td>\n",
              "      <td>PA</td>\n",
              "      <td>2.0</td>\n",
              "      <td>DEM</td>\n",
              "      <td>CHALLENGER</td>\n",
              "      <td>PHILADELPHIA</td>\n",
              "      <td>PA</td>\n",
              "      <td>19138.0</td>\n",
              "      <td>11/2/2015</td>\n",
              "      <td>10/19/2016</td>\n",
              "      <td>1114711.02</td>\n",
              "      <td>1298831.83</td>\n",
              "      <td>1417545.22</td>\n",
              "      <td>1313583.69</td>\n",
              "      <td>1406719.06</td>\n",
              "      <td>1300557.53</td>\n",
              "      <td>1419270.92</td>\n",
              "      <td>Y</td>\n",
              "    </tr>\n",
              "    <tr>\n",
              "      <th>2</th>\n",
              "      <td>H6FL04105</td>\n",
              "      <td>RUTHERFORD, JOHN</td>\n",
              "      <td>H</td>\n",
              "      <td>FL</td>\n",
              "      <td>4.0</td>\n",
              "      <td>REP</td>\n",
              "      <td>OPEN</td>\n",
              "      <td>JACKSONVILLE</td>\n",
              "      <td>FL</td>\n",
              "      <td>32224.0</td>\n",
              "      <td>4/1/2016</td>\n",
              "      <td>10/19/2016</td>\n",
              "      <td>542105.38</td>\n",
              "      <td>656210.29</td>\n",
              "      <td>650855.38</td>\n",
              "      <td>675642.76</td>\n",
              "      <td>650855.38</td>\n",
              "      <td>656642.76</td>\n",
              "      <td>711287.85</td>\n",
              "      <td>Y</td>\n",
              "    </tr>\n",
              "    <tr>\n",
              "      <th>3</th>\n",
              "      <td>H4MT01041</td>\n",
              "      <td>ZINKE, RYAN K</td>\n",
              "      <td>H</td>\n",
              "      <td>MT</td>\n",
              "      <td>0.0</td>\n",
              "      <td>REP</td>\n",
              "      <td>INCUMBENT</td>\n",
              "      <td>WHITEFISH</td>\n",
              "      <td>MT</td>\n",
              "      <td>599373010.0</td>\n",
              "      <td>1/1/2015</td>\n",
              "      <td>10/19/2016</td>\n",
              "      <td>4317331.58</td>\n",
              "      <td>5055942.15</td>\n",
              "      <td>4980915.41</td>\n",
              "      <td>5200630.00</td>\n",
              "      <td>4938943.74</td>\n",
              "      <td>5073110.33</td>\n",
              "      <td>5190887.78</td>\n",
              "      <td>Y</td>\n",
              "    </tr>\n",
              "    <tr>\n",
              "      <th>4</th>\n",
              "      <td>H8CA09060</td>\n",
              "      <td>LEE, BARBARA</td>\n",
              "      <td>H</td>\n",
              "      <td>CA</td>\n",
              "      <td>13.0</td>\n",
              "      <td>DEM</td>\n",
              "      <td>INCUMBENT</td>\n",
              "      <td>OAKLAND</td>\n",
              "      <td>CA</td>\n",
              "      <td>94612.0</td>\n",
              "      <td>1/1/2015</td>\n",
              "      <td>10/19/2016</td>\n",
              "      <td>897123.61</td>\n",
              "      <td>949488.98</td>\n",
              "      <td>1205863.61</td>\n",
              "      <td>1112163.94</td>\n",
              "      <td>1197676.61</td>\n",
              "      <td>953436.94</td>\n",
              "      <td>1209811.57</td>\n",
              "      <td>Y</td>\n",
              "    </tr>\n",
              "  </tbody>\n",
              "</table>\n",
              "</div>"
            ],
            "text/plain": [
              "      can_id           can_nam can_off  ...     ope_exp     tot_rec winner\n",
              "0  H2GA12121  ALLEN, RICHARD W       H  ...   908518.98  1094022.76      Y\n",
              "1  H6PA02171     EVANS, DWIGHT       H  ...  1300557.53  1419270.92      Y\n",
              "2  H6FL04105  RUTHERFORD, JOHN       H  ...   656642.76   711287.85      Y\n",
              "3  H4MT01041     ZINKE, RYAN K       H  ...  5073110.33  5190887.78      Y\n",
              "4  H8CA09060      LEE, BARBARA       H  ...   953436.94  1209811.57      Y\n",
              "\n",
              "[5 rows x 20 columns]"
            ]
          },
          "metadata": {
            "tags": []
          },
          "execution_count": 61
        }
      ]
    },
    {
      "cell_type": "code",
      "metadata": {
        "id": "446szdmDJhQZ",
        "outputId": "1dddbd08-3b34-4297-a6c9-1b8306c5911c",
        "colab": {
          "base_uri": "https://localhost:8080/",
          "height": 364
        }
      },
      "source": [
        "print(df.winner.value_counts())\n",
        "l,w=df.winner.value_counts()\n",
        "print('Winners',w)\n",
        "print('Loosers',l)\n",
        "sns.countplot(x='winner',data=df,palette='hls')\n",
        "plt.savefig('imb.jpg')\n",
        "plt.show()\n",
        "# The data is clearly imbalanced"
      ],
      "execution_count": 62,
      "outputs": [
        {
          "output_type": "stream",
          "text": [
            "N    1087\n",
            "Y     464\n",
            "Name: winner, dtype: int64\n",
            "Winners 464\n",
            "Loosers 1087\n"
          ],
          "name": "stdout"
        },
        {
          "output_type": "display_data",
          "data": {
            "image/png": "[encoded data removed]",
            "text/plain": [
              "<Figure size 432x288 with 1 Axes>"
            ]
          },
          "metadata": {
            "tags": [],
            "needs_background": "light"
          }
        }
      ]
    },
    {
      "cell_type": "markdown",
      "metadata": {
        "id": "nlW6ZSeLJuVI"
      },
      "source": [
        "# Modelling with the imbalanced data"
      ]
    },
    {
      "cell_type": "code",
      "metadata": {
        "id": "jl6hrsfFJl8f",
        "outputId": "95a62f75-b171-4c1e-fb5d-fdec5e77bdb7",
        "colab": {
          "base_uri": "https://localhost:8080/",
          "height": 119
        }
      },
      "source": [
        "# Converting values in the winner column to float values i.e Y=1.0 and N=0.0\n",
        "df['winner'] = df['winner'].apply(lambda val: float(int(val=='Y')))\n",
        "df.winner.head()"
      ],
      "execution_count": 63,
      "outputs": [
        {
          "output_type": "execute_result",
          "data": {
            "text/plain": [
              "0    1.0\n",
              "1    1.0\n",
              "2    1.0\n",
              "3    1.0\n",
              "4    1.0\n",
              "Name: winner, dtype: float64"
            ]
          },
          "metadata": {
            "tags": []
          },
          "execution_count": 63
        }
      ]
    },
    {
      "cell_type": "code",
      "metadata": {
        "id": "-uHD-a8zJ0kW"
      },
      "source": [
        "x_unbal=df[['ind_con','net_ope_exp',\t'tot_con', 'tot_dis',\t'net_con',\t'ope_exp',\t'tot_rec']]\n",
        "y_unbal = df.winner"
      ],
      "execution_count": 64,
      "outputs": []
    },
    {
      "cell_type": "code",
      "metadata": {
        "id": "pwKq_EpeJ2Ke",
        "outputId": "74f648fa-ed48-484d-be0f-c920f3074087",
        "colab": {
          "base_uri": "https://localhost:8080/",
          "height": 221
        }
      },
      "source": [
        "from sklearn.model_selection import train_test_split,cross_val_score\n",
        "from sklearn.linear_model import LogisticRegression\n",
        "from sklearn.preprocessing import StandardScaler  \n",
        "\n",
        "x_train, x_test, y_train, y_test = train_test_split(x_unbal, y_unbal, test_size=0.3, random_state=4)\n",
        "ss = StandardScaler() \n",
        "x_train = ss.fit_transform(x_train) \n",
        "x_train = pd.DataFrame(x_train)\n",
        "x_test = ss.transform(x_test)\n",
        "\n",
        "lreg = LogisticRegression()\n",
        "lreg.fit(x_train, y_train)\n",
        "y_pred = lreg.predict(x_test)\n",
        "print('Accuracy {:.2f}'.format(lreg.score(x_test, y_test)))\n",
        "\n",
        "cross_val_scores = cross_val_score(lreg, x_train,y_train, cv=10,scoring='accuracy').mean()\n",
        "# print('cross validation score',cross_val_scores)\n",
        "\n",
        "from sklearn.metrics import classification_report\n",
        "print(classification_report(y_test, y_pred)) \n",
        "\n",
        "from sklearn.metrics import confusion_matrix\n",
        "confusion_matrix = confusion_matrix(y_test, y_pred)\n",
        "print(confusion_matrix)"
      ],
      "execution_count": 65,
      "outputs": [
        {
          "output_type": "stream",
          "text": [
            "Accuracy 0.75\n",
            "              precision    recall  f1-score   support\n",
            "\n",
            "         0.0       0.74      0.98      0.84       318\n",
            "         1.0       0.84      0.26      0.39       148\n",
            "\n",
            "    accuracy                           0.75       466\n",
            "   macro avg       0.79      0.62      0.62       466\n",
            "weighted avg       0.77      0.75      0.70       466\n",
            "\n",
            "[[311   7]\n",
            " [110  38]]\n"
          ],
          "name": "stdout"
        }
      ]
    },
    {
      "cell_type": "code",
      "metadata": {
        "id": "Y_eI-OIVKKdX",
        "outputId": "4f994e42-5291-47b9-d84f-c0f90b7c84c0",
        "colab": {
          "base_uri": "https://localhost:8080/",
          "height": 513
        }
      },
      "source": [
        "from sklearn.metrics import roc_auc_score\n",
        "from sklearn.metrics import roc_curve\n",
        "logit_roc_auc = roc_auc_score(y_test, lreg.predict(x_test))\n",
        "fpr, tpr, thresholds = roc_curve(y_test, lreg.predict_proba(x_test)[:,1])\n",
        "plt.figure(figsize=(13,8))\n",
        "plt.plot(fpr, tpr, label='Logistic Regression (area = %0.2f)' % logit_roc_auc)\n",
        "plt.plot([0, 1], [0, 1],'r--')\n",
        "plt.xlim([0.0, 1.0])\n",
        "plt.ylim([0.0, 1.05])\n",
        "plt.xlabel('False Positive Rate')\n",
        "plt.ylabel('True Positive Rate')\n",
        "plt.title('Receiver operating characteristic')\n",
        "plt.legend(loc=\"lower right\")\n",
        "plt.savefig('Log_ROC')\n",
        "plt.show()"
      ],
      "execution_count": 66,
      "outputs": [
        {
          "output_type": "display_data",
          "data": {
            "image/png": "[encoded data removed]",
            "text/plain": [
              "<Figure size 936x576 with 1 Axes>"
            ]
          },
          "metadata": {
            "tags": [],
            "needs_background": "light"
          }
        }
      ]
    },
    {
      "cell_type": "markdown",
      "metadata": {
        "id": "Q9_ezCm9NgVG"
      },
      "source": [
        "# Handling the imbalanced data by undersampling 'N'"
      ]
    },
    {
      "cell_type": "code",
      "metadata": {
        "id": "8RhE81BgNcMe",
        "outputId": "624b1368-ea65-4a97-96a3-4e867e71270d",
        "colab": {
          "base_uri": "https://localhost:8080/",
          "height": 296
        }
      },
      "source": [
        "# undersample the N class and shuffle\n",
        "s1 = df[df.winner == 0.0].sample(464)\n",
        "s2 = df[df.winner == 1.0].sample(464)\n",
        "\n",
        "print(len(s1),len(s2))\n",
        "df_train = pd.concat([s1,s2])\n",
        "sns.countplot(x='winner',data=df_train,palette='hls')\n",
        "plt.show()"
      ],
      "execution_count": 67,
      "outputs": [
        {
          "output_type": "stream",
          "text": [
            "464 464\n"
          ],
          "name": "stdout"
        },
        {
          "output_type": "display_data",
          "data": {
            "image/png": "[encoded data removed]",
            "text/plain": [
              "<Figure size 432x288 with 1 Axes>"
            ]
          },
          "metadata": {
            "tags": [],
            "needs_background": "light"
          }
        }
      ]
    },
    {
      "cell_type": "code",
      "metadata": {
        "id": "AW8tjcXfNoHv",
        "outputId": "efe06934-8542-45e6-f170-1000b856c197",
        "colab": {
          "base_uri": "https://localhost:8080/",
          "height": 204
        }
      },
      "source": [
        "x=df_train[['ind_con','net_ope_exp',\t'tot_con', 'tot_dis',\t'net_con',\t'ope_exp',\t'tot_rec']]\n",
        "x.head()"
      ],
      "execution_count": 68,
      "outputs": [
        {
          "output_type": "execute_result",
          "data": {
            "text/html": [
              "<div>\n",
              "<style scoped>\n",
              "    .dataframe tbody tr th:only-of-type {\n",
              "        vertical-align: middle;\n",
              "    }\n",
              "\n",
              "    .dataframe tbody tr th {\n",
              "        vertical-align: top;\n",
              "    }\n",
              "\n",
              "    .dataframe thead th {\n",
              "        text-align: right;\n",
              "    }\n",
              "</style>\n",
              "<table border=\"1\" class=\"dataframe\">\n",
              "  <thead>\n",
              "    <tr style=\"text-align: right;\">\n",
              "      <th></th>\n",
              "      <th>ind_con</th>\n",
              "      <th>net_ope_exp</th>\n",
              "      <th>tot_con</th>\n",
              "      <th>tot_dis</th>\n",
              "      <th>net_con</th>\n",
              "      <th>ope_exp</th>\n",
              "      <th>tot_rec</th>\n",
              "    </tr>\n",
              "  </thead>\n",
              "  <tbody>\n",
              "    <tr>\n",
              "      <th>453</th>\n",
              "      <td>12347.11</td>\n",
              "      <td>7450.83</td>\n",
              "      <td>13640.31</td>\n",
              "      <td>7450.83</td>\n",
              "      <td>13640.31</td>\n",
              "      <td>7450.83</td>\n",
              "      <td>13640.31</td>\n",
              "    </tr>\n",
              "    <tr>\n",
              "      <th>1203</th>\n",
              "      <td>3295.00</td>\n",
              "      <td>16956.44</td>\n",
              "      <td>6496.60</td>\n",
              "      <td>27396.44</td>\n",
              "      <td>6496.60</td>\n",
              "      <td>16956.44</td>\n",
              "      <td>18286.60</td>\n",
              "    </tr>\n",
              "    <tr>\n",
              "      <th>614</th>\n",
              "      <td>58825.68</td>\n",
              "      <td>103255.84</td>\n",
              "      <td>73075.68</td>\n",
              "      <td>108449.84</td>\n",
              "      <td>73075.68</td>\n",
              "      <td>104304.84</td>\n",
              "      <td>110725.99</td>\n",
              "    </tr>\n",
              "    <tr>\n",
              "      <th>518</th>\n",
              "      <td>8600.00</td>\n",
              "      <td>8243.00</td>\n",
              "      <td>11803.00</td>\n",
              "      <td>8243.00</td>\n",
              "      <td>11803.00</td>\n",
              "      <td>8243.00</td>\n",
              "      <td>11803.00</td>\n",
              "    </tr>\n",
              "    <tr>\n",
              "      <th>1312</th>\n",
              "      <td>113515.00</td>\n",
              "      <td>119761.00</td>\n",
              "      <td>116915.00</td>\n",
              "      <td>119761.00</td>\n",
              "      <td>116915.00</td>\n",
              "      <td>119761.00</td>\n",
              "      <td>119759.00</td>\n",
              "    </tr>\n",
              "  </tbody>\n",
              "</table>\n",
              "</div>"
            ],
            "text/plain": [
              "        ind_con  net_ope_exp    tot_con  ...    net_con    ope_exp    tot_rec\n",
              "453    12347.11      7450.83   13640.31  ...   13640.31    7450.83   13640.31\n",
              "1203    3295.00     16956.44    6496.60  ...    6496.60   16956.44   18286.60\n",
              "614    58825.68    103255.84   73075.68  ...   73075.68  104304.84  110725.99\n",
              "518     8600.00      8243.00   11803.00  ...   11803.00    8243.00   11803.00\n",
              "1312  113515.00    119761.00  116915.00  ...  116915.00  119761.00  119759.00\n",
              "\n",
              "[5 rows x 7 columns]"
            ]
          },
          "metadata": {
            "tags": []
          },
          "execution_count": 68
        }
      ]
    },
    {
      "cell_type": "code",
      "metadata": {
        "id": "f48EjJXyNtA9",
        "outputId": "7446cf48-2d13-4aab-82b4-ad28dd944856",
        "colab": {
          "base_uri": "https://localhost:8080/",
          "height": 119
        }
      },
      "source": [
        "y = df_train.winner\n",
        "y.head()"
      ],
      "execution_count": 69,
      "outputs": [
        {
          "output_type": "execute_result",
          "data": {
            "text/plain": [
              "453     0.0\n",
              "1203    0.0\n",
              "614     0.0\n",
              "518     0.0\n",
              "1312    0.0\n",
              "Name: winner, dtype: float64"
            ]
          },
          "metadata": {
            "tags": []
          },
          "execution_count": 69
        }
      ]
    },
    {
      "cell_type": "code",
      "metadata": {
        "id": "oYmwf0VcNwKP",
        "outputId": "f852bc50-9c93-453c-9bba-227962f75499",
        "colab": {
          "base_uri": "https://localhost:8080/",
          "height": 221
        }
      },
      "source": [
        "from sklearn.model_selection import train_test_split,cross_val_score\n",
        "from sklearn.linear_model import LogisticRegression\n",
        "from sklearn.preprocessing import StandardScaler  \n",
        "\n",
        "x_train, x_test, y_train, y_test = train_test_split(x, y, test_size=0.3, random_state=0)\n",
        "ss = StandardScaler() \n",
        "x_train = ss.fit_transform(x_train) \n",
        "x_train = pd.DataFrame(x_train)\n",
        "x_test = ss.transform(x_test)\n",
        "\n",
        "lreg = LogisticRegression()\n",
        "lreg.fit(x_train, y_train)\n",
        "y_pred = lreg.predict(x_test)\n",
        "print('Accuracy {:.2f}'.format(lreg.score(x_test, y_test)))\n",
        "\n",
        "cross_val_scores = cross_val_score(lreg, x_train,y_train, cv=10,scoring='accuracy').mean()\n",
        "# print('cross validation score',cross_val_scores)\n",
        "\n",
        "from sklearn.metrics import classification_report\n",
        "print(classification_report(y_test, y_pred)) \n",
        "\n",
        "from sklearn.metrics import confusion_matrix\n",
        "confusion_matrix = confusion_matrix(y_test, y_pred)\n",
        "print(confusion_matrix)"
      ],
      "execution_count": 70,
      "outputs": [
        {
          "output_type": "stream",
          "text": [
            "Accuracy 0.84\n",
            "              precision    recall  f1-score   support\n",
            "\n",
            "         0.0       0.80      0.90      0.85       145\n",
            "         1.0       0.88      0.76      0.82       134\n",
            "\n",
            "    accuracy                           0.84       279\n",
            "   macro avg       0.84      0.83      0.83       279\n",
            "weighted avg       0.84      0.84      0.83       279\n",
            "\n",
            "[[131  14]\n",
            " [ 32 102]]\n"
          ],
          "name": "stdout"
        }
      ]
    },
    {
      "cell_type": "code",
      "metadata": {
        "id": "JN2-oagGN7SD",
        "outputId": "2d0a8716-7c75-48bd-be37-0a633df7e166",
        "colab": {
          "base_uri": "https://localhost:8080/",
          "height": 513
        }
      },
      "source": [
        "from sklearn.metrics import roc_auc_score\n",
        "from sklearn.metrics import roc_curve\n",
        "logit_roc_auc = roc_auc_score(y_test, lreg.predict(x_test))\n",
        "fpr, tpr, thresholds = roc_curve(y_test, lreg.predict_proba(x_test)[:,1])\n",
        "plt.figure(figsize=(13,8))\n",
        "plt.plot(fpr, tpr, label='Logistic Regression (area = %0.2f)' % logit_roc_auc)\n",
        "plt.plot([0, 1], [0, 1],'r--')\n",
        "plt.xlim([0.0, 1.0])\n",
        "plt.ylim([0.0, 1.05])\n",
        "plt.xlabel('False Positive Rate')\n",
        "plt.ylabel('True Positive Rate')\n",
        "plt.title('Receiver operating characteristic')\n",
        "plt.legend(loc=\"lower right\")\n",
        "plt.savefig('Log_ROC')\n",
        "plt.show()"
      ],
      "execution_count": 71,
      "outputs": [
        {
          "output_type": "display_data",
          "data": {
            "image/png": "[encoded data removed]",
            "text/plain": [
              "<Figure size 936x576 with 1 Axes>"
            ]
          },
          "metadata": {
            "tags": [],
            "needs_background": "light"
          }
        }
      ]
    },
    {
      "cell_type": "markdown",
      "metadata": {
        "id": "ah8nuRESOQnG"
      },
      "source": [
        "# Balancing the data by smoting both classes"
      ]
    },
    {
      "cell_type": "code",
      "metadata": {
        "id": "VpVjiFIIOOGt",
        "outputId": "b99ebe49-c796-4d30-ae0c-c2caaca94310",
        "colab": {
          "base_uri": "https://localhost:8080/",
          "height": 326
        }
      },
      "source": [
        "x_train, x_test, y_train, y_test = train_test_split(x_unbal, y_unbal, test_size=0.3, random_state=4)\n",
        "\n",
        "from imblearn.over_sampling import SMOTE\n",
        "sm = SMOTE(random_state=0)\n",
        "columns = x_train.columns\n",
        "sm_x,sm_y=sm.fit_sample(x_train, y_train)\n",
        "sm_x = pd.DataFrame(data=sm_x,columns=columns )\n",
        "sm_y= pd.Series(data=sm_y)\n",
        "\n",
        "print(sm_y.value_counts())\n",
        "\n",
        "from sklearn.model_selection import train_test_split,cross_val_score\n",
        "from sklearn.linear_model import LogisticRegression\n",
        "from sklearn.preprocessing import StandardScaler  \n",
        "\n",
        "x_train, x_test, y_train, y_test = train_test_split(sm_x, sm_y, test_size=0.3, random_state=4)\n",
        "ss = StandardScaler() \n",
        "x_train = ss.fit_transform(x_train) \n",
        "x_train = pd.DataFrame(x_train)\n",
        "x_test = ss.transform(x_test)\n",
        "\n",
        "lreg = LogisticRegression()\n",
        "lreg.fit(x_train, y_train)\n",
        "y_pred = lreg.predict(x_test)\n",
        "print('Accuracy {:.2f}'.format(lreg.score(x_test, y_test)))\n",
        "\n",
        "cross_val_scores = cross_val_score(lreg, x_train,y_train, cv=10,scoring='accuracy').mean()\n",
        "# print('cross validation score',cross_val_scores)\n",
        "\n",
        "from sklearn.metrics import classification_report\n",
        "print(classification_report(y_test, y_pred)) \n",
        "\n",
        "from sklearn.metrics import confusion_matrix\n",
        "confusion_matrix = confusion_matrix(y_test, y_pred)\n",
        "print(confusion_matrix)"
      ],
      "execution_count": 72,
      "outputs": [
        {
          "output_type": "stream",
          "text": [
            "1.0    769\n",
            "0.0    769\n",
            "dtype: int64\n",
            "Accuracy 0.92\n",
            "              precision    recall  f1-score   support\n",
            "\n",
            "         0.0       0.89      0.97      0.93       234\n",
            "         1.0       0.97      0.88      0.92       228\n",
            "\n",
            "    accuracy                           0.92       462\n",
            "   macro avg       0.93      0.92      0.92       462\n",
            "weighted avg       0.93      0.92      0.92       462\n",
            "\n",
            "[[227   7]\n",
            " [ 28 200]]\n"
          ],
          "name": "stdout"
        },
        {
          "output_type": "stream",
          "text": [
            "/usr/local/lib/python3.6/dist-packages/sklearn/utils/deprecation.py:87: FutureWarning: Function safe_indexing is deprecated; safe_indexing is deprecated in version 0.22 and will be removed in version 0.24.\n",
            "  warnings.warn(msg, category=FutureWarning)\n"
          ],
          "name": "stderr"
        }
      ]
    },
    {
      "cell_type": "code",
      "metadata": {
        "id": "oJElBdBROmQA",
        "outputId": "43ef4b28-3eaa-4b60-8ac4-3108456f2d7d",
        "colab": {
          "base_uri": "https://localhost:8080/",
          "height": 513
        }
      },
      "source": [
        "from sklearn.metrics import roc_auc_score\n",
        "from sklearn.metrics import roc_curve\n",
        "logit_roc_auc = roc_auc_score(y_test, lreg.predict(x_test))\n",
        "fpr, tpr, thresholds = roc_curve(y_test, lreg.predict_proba(x_test)[:,1])\n",
        "plt.figure(figsize=(13,8))\n",
        "plt.plot(fpr, tpr, label='Logistic Regression (area = %0.2f)' % logit_roc_auc)\n",
        "plt.plot([0, 1], [0, 1],'r--')\n",
        "plt.xlim([0.0, 1.0])\n",
        "plt.ylim([0.0, 1.05])\n",
        "plt.xlabel('False Positive Rate')\n",
        "plt.ylabel('True Positive Rate')\n",
        "plt.title('Receiver operating characteristic')\n",
        "plt.legend(loc=\"lower right\")\n",
        "plt.savefig('Log_ROC')\n",
        "plt.show()"
      ],
      "execution_count": 73,
      "outputs": [
        {
          "output_type": "display_data",
          "data": {
            "image/png": "[encoded data removed]",
            "text/plain": [
              "<Figure size 936x576 with 1 Axes>"
            ]
          },
          "metadata": {
            "tags": [],
            "needs_background": "light"
          }
        }
      ]
    },
    {
      "cell_type": "code",
      "metadata": {
        "id": "USEHuwPmQaRJ",
        "outputId": "ae8e644a-1f85-4558-e811-2d26ee7cdd47",
        "colab": {
          "base_uri": "https://localhost:8080/",
          "height": 34
        }
      },
      "source": [
        "print(len(df),len(df_train))"
      ],
      "execution_count": 74,
      "outputs": [
        {
          "output_type": "stream",
          "text": [
            "1551 928\n"
          ],
          "name": "stdout"
        }
      ]
    },
    {
      "cell_type": "code",
      "metadata": {
        "id": "x4a2Tr3jQetb",
        "outputId": "9c939301-5b59-4839-f087-65e0ecf5bfed",
        "colab": {
          "base_uri": "https://localhost:8080/",
          "height": 34
        }
      },
      "source": [
        "df_train = df.copy()\n",
        "print(len(df_train))"
      ],
      "execution_count": 75,
      "outputs": [
        {
          "output_type": "stream",
          "text": [
            "1551\n"
          ],
          "name": "stdout"
        }
      ]
    },
    {
      "cell_type": "code",
      "metadata": {
        "id": "ZtPmy1KAO4D6",
        "outputId": "21bae23e-2a34-4fb9-d8de-1112d6f4b380",
        "colab": {
          "base_uri": "https://localhost:8080/",
          "height": 275
        }
      },
      "source": [
        "# Import label encoder \n",
        "from sklearn import preprocessing\n",
        "label_encoder = preprocessing.LabelEncoder()\n",
        "df_train.can_off= label_encoder.fit_transform(df_train.can_off) \n",
        "df_train.head()"
      ],
      "execution_count": 76,
      "outputs": [
        {
          "output_type": "execute_result",
          "data": {
            "text/html": [
              "<div>\n",
              "<style scoped>\n",
              "    .dataframe tbody tr th:only-of-type {\n",
              "        vertical-align: middle;\n",
              "    }\n",
              "\n",
              "    .dataframe tbody tr th {\n",
              "        vertical-align: top;\n",
              "    }\n",
              "\n",
              "    .dataframe thead th {\n",
              "        text-align: right;\n",
              "    }\n",
              "</style>\n",
              "<table border=\"1\" class=\"dataframe\">\n",
              "  <thead>\n",
              "    <tr style=\"text-align: right;\">\n",
              "      <th></th>\n",
              "      <th>can_id</th>\n",
              "      <th>can_nam</th>\n",
              "      <th>can_off</th>\n",
              "      <th>can_off_sta</th>\n",
              "      <th>can_off_dis</th>\n",
              "      <th>can_par_aff</th>\n",
              "      <th>can_inc_cha_ope_sea</th>\n",
              "      <th>can_cit</th>\n",
              "      <th>can_sta</th>\n",
              "      <th>can_zip</th>\n",
              "      <th>cov_sta_dat</th>\n",
              "      <th>cov_end_dat</th>\n",
              "      <th>ind_con</th>\n",
              "      <th>net_ope_exp</th>\n",
              "      <th>tot_con</th>\n",
              "      <th>tot_dis</th>\n",
              "      <th>net_con</th>\n",
              "      <th>ope_exp</th>\n",
              "      <th>tot_rec</th>\n",
              "      <th>winner</th>\n",
              "    </tr>\n",
              "  </thead>\n",
              "  <tbody>\n",
              "    <tr>\n",
              "      <th>0</th>\n",
              "      <td>H2GA12121</td>\n",
              "      <td>ALLEN, RICHARD W</td>\n",
              "      <td>0</td>\n",
              "      <td>GA</td>\n",
              "      <td>12.0</td>\n",
              "      <td>REP</td>\n",
              "      <td>INCUMBENT</td>\n",
              "      <td>AUGUSTA</td>\n",
              "      <td>GA</td>\n",
              "      <td>30904.0</td>\n",
              "      <td>1/1/2015</td>\n",
              "      <td>10/19/2016</td>\n",
              "      <td>601274.50</td>\n",
              "      <td>907156.21</td>\n",
              "      <td>1074949.50</td>\n",
              "      <td>978518.98</td>\n",
              "      <td>1074949.50</td>\n",
              "      <td>908518.98</td>\n",
              "      <td>1094022.76</td>\n",
              "      <td>1.0</td>\n",
              "    </tr>\n",
              "    <tr>\n",
              "      <th>1</th>\n",
              "      <td>H6PA02171</td>\n",
              "      <td>EVANS, DWIGHT</td>\n",
              "      <td>0</td>\n",
              "      <td>PA</td>\n",
              "      <td>2.0</td>\n",
              "      <td>DEM</td>\n",
              "      <td>CHALLENGER</td>\n",
              "      <td>PHILADELPHIA</td>\n",
              "      <td>PA</td>\n",
              "      <td>19138.0</td>\n",
              "      <td>11/2/2015</td>\n",
              "      <td>10/19/2016</td>\n",
              "      <td>1114711.02</td>\n",
              "      <td>1298831.83</td>\n",
              "      <td>1417545.22</td>\n",
              "      <td>1313583.69</td>\n",
              "      <td>1406719.06</td>\n",
              "      <td>1300557.53</td>\n",
              "      <td>1419270.92</td>\n",
              "      <td>1.0</td>\n",
              "    </tr>\n",
              "    <tr>\n",
              "      <th>2</th>\n",
              "      <td>H6FL04105</td>\n",
              "      <td>RUTHERFORD, JOHN</td>\n",
              "      <td>0</td>\n",
              "      <td>FL</td>\n",
              "      <td>4.0</td>\n",
              "      <td>REP</td>\n",
              "      <td>OPEN</td>\n",
              "      <td>JACKSONVILLE</td>\n",
              "      <td>FL</td>\n",
              "      <td>32224.0</td>\n",
              "      <td>4/1/2016</td>\n",
              "      <td>10/19/2016</td>\n",
              "      <td>542105.38</td>\n",
              "      <td>656210.29</td>\n",
              "      <td>650855.38</td>\n",
              "      <td>675642.76</td>\n",
              "      <td>650855.38</td>\n",
              "      <td>656642.76</td>\n",
              "      <td>711287.85</td>\n",
              "      <td>1.0</td>\n",
              "    </tr>\n",
              "    <tr>\n",
              "      <th>3</th>\n",
              "      <td>H4MT01041</td>\n",
              "      <td>ZINKE, RYAN K</td>\n",
              "      <td>0</td>\n",
              "      <td>MT</td>\n",
              "      <td>0.0</td>\n",
              "      <td>REP</td>\n",
              "      <td>INCUMBENT</td>\n",
              "      <td>WHITEFISH</td>\n",
              "      <td>MT</td>\n",
              "      <td>599373010.0</td>\n",
              "      <td>1/1/2015</td>\n",
              "      <td>10/19/2016</td>\n",
              "      <td>4317331.58</td>\n",
              "      <td>5055942.15</td>\n",
              "      <td>4980915.41</td>\n",
              "      <td>5200630.00</td>\n",
              "      <td>4938943.74</td>\n",
              "      <td>5073110.33</td>\n",
              "      <td>5190887.78</td>\n",
              "      <td>1.0</td>\n",
              "    </tr>\n",
              "    <tr>\n",
              "      <th>4</th>\n",
              "      <td>H8CA09060</td>\n",
              "      <td>LEE, BARBARA</td>\n",
              "      <td>0</td>\n",
              "      <td>CA</td>\n",
              "      <td>13.0</td>\n",
              "      <td>DEM</td>\n",
              "      <td>INCUMBENT</td>\n",
              "      <td>OAKLAND</td>\n",
              "      <td>CA</td>\n",
              "      <td>94612.0</td>\n",
              "      <td>1/1/2015</td>\n",
              "      <td>10/19/2016</td>\n",
              "      <td>897123.61</td>\n",
              "      <td>949488.98</td>\n",
              "      <td>1205863.61</td>\n",
              "      <td>1112163.94</td>\n",
              "      <td>1197676.61</td>\n",
              "      <td>953436.94</td>\n",
              "      <td>1209811.57</td>\n",
              "      <td>1.0</td>\n",
              "    </tr>\n",
              "  </tbody>\n",
              "</table>\n",
              "</div>"
            ],
            "text/plain": [
              "      can_id           can_nam  can_off  ...     ope_exp     tot_rec winner\n",
              "0  H2GA12121  ALLEN, RICHARD W        0  ...   908518.98  1094022.76    1.0\n",
              "1  H6PA02171     EVANS, DWIGHT        0  ...  1300557.53  1419270.92    1.0\n",
              "2  H6FL04105  RUTHERFORD, JOHN        0  ...   656642.76   711287.85    1.0\n",
              "3  H4MT01041     ZINKE, RYAN K        0  ...  5073110.33  5190887.78    1.0\n",
              "4  H8CA09060      LEE, BARBARA        0  ...   953436.94  1209811.57    1.0\n",
              "\n",
              "[5 rows x 20 columns]"
            ]
          },
          "metadata": {
            "tags": []
          },
          "execution_count": 76
        }
      ]
    },
    {
      "cell_type": "code",
      "metadata": {
        "id": "4RI1RvXGPA8O",
        "outputId": "ca9547df-4595-4626-eaff-e9f5f74c9246",
        "colab": {
          "base_uri": "https://localhost:8080/",
          "height": 343
        }
      },
      "source": [
        "x = df_train[['ind_con','net_ope_exp',\t'tot_con', 'tot_dis',\t'net_con',\t'ope_exp','tot_rec','can_off']]\n",
        "y = df_train.winner\n",
        "\n",
        "x_train, x_test, y_train, y_test = train_test_split(x, y, test_size=0.3, random_state=1)\n",
        "\n",
        "\n",
        "from imblearn.over_sampling import SMOTE\n",
        "sm = SMOTE(random_state=0)\n",
        "columns = x_train.columns\n",
        "sm_x,sm_y=sm.fit_sample(x_train, y_train)\n",
        "sm_x = pd.DataFrame(data=sm_x,columns=columns )\n",
        "sm_y= pd.Series(data=sm_y)\n",
        "\n",
        "print(sm_y.value_counts())\n",
        "\n",
        "from sklearn.model_selection import train_test_split,cross_val_score\n",
        "from sklearn.linear_model import LogisticRegression\n",
        "from sklearn.preprocessing import StandardScaler  \n",
        "\n",
        "x_train, x_test, y_train, y_test = train_test_split(sm_x, sm_y, test_size=0.3, random_state=0)\n",
        "ss = StandardScaler() \n",
        "x_train = ss.fit_transform(x_train) \n",
        "x_train = pd.DataFrame(x_train)\n",
        "x_test = ss.transform(x_test)\n",
        "\n",
        "lreg = LogisticRegression()\n",
        "lreg.fit(x_train, y_train)\n",
        "y_pred = lreg.predict(x_test)\n",
        "print('Accuracy {:.2f}'.format(lreg.score(x_test, y_test)))\n",
        "\n",
        "cross_val_scores = cross_val_score(lreg, x_train,y_train, cv=10,scoring='accuracy').mean()\n",
        "print('cross validation score',cross_val_scores)\n",
        "\n",
        "from sklearn.metrics import classification_report\n",
        "print(classification_report(y_test, y_pred)) \n",
        "\n",
        "from sklearn.metrics import confusion_matrix\n",
        "confusion_matrix = confusion_matrix(y_test, y_pred)\n",
        "print(confusion_matrix)"
      ],
      "execution_count": 77,
      "outputs": [
        {
          "output_type": "stream",
          "text": [
            "1.0    753\n",
            "0.0    753\n",
            "dtype: int64\n",
            "Accuracy 0.91\n",
            "cross validation score 0.8908176100628932\n",
            "              precision    recall  f1-score   support\n",
            "\n",
            "         0.0       0.88      0.94      0.91       217\n",
            "         1.0       0.94      0.89      0.91       235\n",
            "\n",
            "    accuracy                           0.91       452\n",
            "   macro avg       0.91      0.91      0.91       452\n",
            "weighted avg       0.91      0.91      0.91       452\n",
            "\n",
            "[[203  14]\n",
            " [ 27 208]]\n"
          ],
          "name": "stdout"
        },
        {
          "output_type": "stream",
          "text": [
            "/usr/local/lib/python3.6/dist-packages/sklearn/utils/deprecation.py:87: FutureWarning: Function safe_indexing is deprecated; safe_indexing is deprecated in version 0.22 and will be removed in version 0.24.\n",
            "  warnings.warn(msg, category=FutureWarning)\n"
          ],
          "name": "stderr"
        }
      ]
    },
    {
      "cell_type": "code",
      "metadata": {
        "id": "nSy7zJ6ePg2B",
        "outputId": "5d3fc584-9576-4e52-accd-23bf55ae7c9e",
        "colab": {
          "base_uri": "https://localhost:8080/",
          "height": 292
        }
      },
      "source": [
        "df_train2 = df_train.copy()\n",
        "print(len(df_train2))\n",
        "# Import label encoder \n",
        "from sklearn import preprocessing\n",
        "label_encoder = preprocessing.LabelEncoder()\n",
        "df_train2.can_inc_cha_ope_sea= label_encoder.fit_transform(df_train2.can_inc_cha_ope_sea) \n",
        "df_train2.head()"
      ],
      "execution_count": 78,
      "outputs": [
        {
          "output_type": "stream",
          "text": [
            "1551\n"
          ],
          "name": "stdout"
        },
        {
          "output_type": "execute_result",
          "data": {
            "text/html": [
              "<div>\n",
              "<style scoped>\n",
              "    .dataframe tbody tr th:only-of-type {\n",
              "        vertical-align: middle;\n",
              "    }\n",
              "\n",
              "    .dataframe tbody tr th {\n",
              "        vertical-align: top;\n",
              "    }\n",
              "\n",
              "    .dataframe thead th {\n",
              "        text-align: right;\n",
              "    }\n",
              "</style>\n",
              "<table border=\"1\" class=\"dataframe\">\n",
              "  <thead>\n",
              "    <tr style=\"text-align: right;\">\n",
              "      <th></th>\n",
              "      <th>can_id</th>\n",
              "      <th>can_nam</th>\n",
              "      <th>can_off</th>\n",
              "      <th>can_off_sta</th>\n",
              "      <th>can_off_dis</th>\n",
              "      <th>can_par_aff</th>\n",
              "      <th>can_inc_cha_ope_sea</th>\n",
              "      <th>can_cit</th>\n",
              "      <th>can_sta</th>\n",
              "      <th>can_zip</th>\n",
              "      <th>cov_sta_dat</th>\n",
              "      <th>cov_end_dat</th>\n",
              "      <th>ind_con</th>\n",
              "      <th>net_ope_exp</th>\n",
              "      <th>tot_con</th>\n",
              "      <th>tot_dis</th>\n",
              "      <th>net_con</th>\n",
              "      <th>ope_exp</th>\n",
              "      <th>tot_rec</th>\n",
              "      <th>winner</th>\n",
              "    </tr>\n",
              "  </thead>\n",
              "  <tbody>\n",
              "    <tr>\n",
              "      <th>0</th>\n",
              "      <td>H2GA12121</td>\n",
              "      <td>ALLEN, RICHARD W</td>\n",
              "      <td>0</td>\n",
              "      <td>GA</td>\n",
              "      <td>12.0</td>\n",
              "      <td>REP</td>\n",
              "      <td>1</td>\n",
              "      <td>AUGUSTA</td>\n",
              "      <td>GA</td>\n",
              "      <td>30904.0</td>\n",
              "      <td>1/1/2015</td>\n",
              "      <td>10/19/2016</td>\n",
              "      <td>601274.50</td>\n",
              "      <td>907156.21</td>\n",
              "      <td>1074949.50</td>\n",
              "      <td>978518.98</td>\n",
              "      <td>1074949.50</td>\n",
              "      <td>908518.98</td>\n",
              "      <td>1094022.76</td>\n",
              "      <td>1.0</td>\n",
              "    </tr>\n",
              "    <tr>\n",
              "      <th>1</th>\n",
              "      <td>H6PA02171</td>\n",
              "      <td>EVANS, DWIGHT</td>\n",
              "      <td>0</td>\n",
              "      <td>PA</td>\n",
              "      <td>2.0</td>\n",
              "      <td>DEM</td>\n",
              "      <td>0</td>\n",
              "      <td>PHILADELPHIA</td>\n",
              "      <td>PA</td>\n",
              "      <td>19138.0</td>\n",
              "      <td>11/2/2015</td>\n",
              "      <td>10/19/2016</td>\n",
              "      <td>1114711.02</td>\n",
              "      <td>1298831.83</td>\n",
              "      <td>1417545.22</td>\n",
              "      <td>1313583.69</td>\n",
              "      <td>1406719.06</td>\n",
              "      <td>1300557.53</td>\n",
              "      <td>1419270.92</td>\n",
              "      <td>1.0</td>\n",
              "    </tr>\n",
              "    <tr>\n",
              "      <th>2</th>\n",
              "      <td>H6FL04105</td>\n",
              "      <td>RUTHERFORD, JOHN</td>\n",
              "      <td>0</td>\n",
              "      <td>FL</td>\n",
              "      <td>4.0</td>\n",
              "      <td>REP</td>\n",
              "      <td>2</td>\n",
              "      <td>JACKSONVILLE</td>\n",
              "      <td>FL</td>\n",
              "      <td>32224.0</td>\n",
              "      <td>4/1/2016</td>\n",
              "      <td>10/19/2016</td>\n",
              "      <td>542105.38</td>\n",
              "      <td>656210.29</td>\n",
              "      <td>650855.38</td>\n",
              "      <td>675642.76</td>\n",
              "      <td>650855.38</td>\n",
              "      <td>656642.76</td>\n",
              "      <td>711287.85</td>\n",
              "      <td>1.0</td>\n",
              "    </tr>\n",
              "    <tr>\n",
              "      <th>3</th>\n",
              "      <td>H4MT01041</td>\n",
              "      <td>ZINKE, RYAN K</td>\n",
              "      <td>0</td>\n",
              "      <td>MT</td>\n",
              "      <td>0.0</td>\n",
              "      <td>REP</td>\n",
              "      <td>1</td>\n",
              "      <td>WHITEFISH</td>\n",
              "      <td>MT</td>\n",
              "      <td>599373010.0</td>\n",
              "      <td>1/1/2015</td>\n",
              "      <td>10/19/2016</td>\n",
              "      <td>4317331.58</td>\n",
              "      <td>5055942.15</td>\n",
              "      <td>4980915.41</td>\n",
              "      <td>5200630.00</td>\n",
              "      <td>4938943.74</td>\n",
              "      <td>5073110.33</td>\n",
              "      <td>5190887.78</td>\n",
              "      <td>1.0</td>\n",
              "    </tr>\n",
              "    <tr>\n",
              "      <th>4</th>\n",
              "      <td>H8CA09060</td>\n",
              "      <td>LEE, BARBARA</td>\n",
              "      <td>0</td>\n",
              "      <td>CA</td>\n",
              "      <td>13.0</td>\n",
              "      <td>DEM</td>\n",
              "      <td>1</td>\n",
              "      <td>OAKLAND</td>\n",
              "      <td>CA</td>\n",
              "      <td>94612.0</td>\n",
              "      <td>1/1/2015</td>\n",
              "      <td>10/19/2016</td>\n",
              "      <td>897123.61</td>\n",
              "      <td>949488.98</td>\n",
              "      <td>1205863.61</td>\n",
              "      <td>1112163.94</td>\n",
              "      <td>1197676.61</td>\n",
              "      <td>953436.94</td>\n",
              "      <td>1209811.57</td>\n",
              "      <td>1.0</td>\n",
              "    </tr>\n",
              "  </tbody>\n",
              "</table>\n",
              "</div>"
            ],
            "text/plain": [
              "      can_id           can_nam  can_off  ...     ope_exp     tot_rec winner\n",
              "0  H2GA12121  ALLEN, RICHARD W        0  ...   908518.98  1094022.76    1.0\n",
              "1  H6PA02171     EVANS, DWIGHT        0  ...  1300557.53  1419270.92    1.0\n",
              "2  H6FL04105  RUTHERFORD, JOHN        0  ...   656642.76   711287.85    1.0\n",
              "3  H4MT01041     ZINKE, RYAN K        0  ...  5073110.33  5190887.78    1.0\n",
              "4  H8CA09060      LEE, BARBARA        0  ...   953436.94  1209811.57    1.0\n",
              "\n",
              "[5 rows x 20 columns]"
            ]
          },
          "metadata": {
            "tags": []
          },
          "execution_count": 78
        }
      ]
    },
    {
      "cell_type": "code",
      "metadata": {
        "id": "SASo7VjVRlmE",
        "outputId": "236425fd-5115-4695-e257-ba9c6254293c",
        "colab": {
          "base_uri": "https://localhost:8080/",
          "height": 292
        }
      },
      "source": [
        "x =df_train2[['ind_con','net_ope_exp',\t'tot_con', 'tot_dis',\t'net_con',\t'ope_exp',\t'tot_rec','can_off','can_inc_cha_ope_sea']]\n",
        "y = df_train2.winner\n",
        "\n",
        "x_train, x_test, y_train, y_test = train_test_split(x, y, test_size=0.3, random_state=1)\n",
        "\n",
        "\n",
        "from imblearn.over_sampling import SMOTE\n",
        "sm = SMOTE(random_state=0)\n",
        "columns = x_train.columns\n",
        "sm_x,sm_y=sm.fit_sample(x_train, y_train)\n",
        "sm_x = pd.DataFrame(data=sm_x,columns=columns )\n",
        "sm_y= pd.Series(data=sm_y)\n",
        "\n",
        "print(sm_y.value_counts())\n",
        "\n",
        "from sklearn.model_selection import train_test_split,cross_val_score\n",
        "from sklearn.linear_model import LogisticRegression\n",
        "from sklearn.preprocessing import StandardScaler  \n",
        "\n",
        "x_train, x_test, y_train, y_test = train_test_split(sm_x, sm_y, test_size=0.30, random_state=0)\n",
        "\n",
        "ss = StandardScaler() \n",
        "x_train = ss.fit_transform(x_train) \n",
        "x_train = pd.DataFrame(x_train)\n",
        "x_test = ss.transform(x_test)\n",
        "\n",
        "lreg = LogisticRegression()\n",
        "clf=lreg.fit(x_train, y_train)\n",
        "y_pred = lreg.predict(x_test)\n",
        "print('Accuracy {:.2f}'.format(lreg.score(x_test, y_test)))\n",
        "\n",
        "cross_val_scores = cross_val_score(lreg, x_train,y_train, cv=10,scoring='accuracy').mean()\n",
        "# print('cross validation score',cross_val_scores)\n",
        "\n",
        "from sklearn.metrics import classification_report\n",
        "print(classification_report(y_test, y_pred)) \n",
        "\n",
        "from sklearn.metrics import confusion_matrix\n",
        "confusion_matrix = confusion_matrix(y_test, y_pred)\n",
        "# print(confusion_matrix)"
      ],
      "execution_count": 79,
      "outputs": [
        {
          "output_type": "stream",
          "text": [
            "/usr/local/lib/python3.6/dist-packages/sklearn/utils/deprecation.py:87: FutureWarning: Function safe_indexing is deprecated; safe_indexing is deprecated in version 0.22 and will be removed in version 0.24.\n",
            "  warnings.warn(msg, category=FutureWarning)\n"
          ],
          "name": "stderr"
        },
        {
          "output_type": "stream",
          "text": [
            "1.0    753\n",
            "0.0    753\n",
            "dtype: int64\n",
            "Accuracy 0.91\n",
            "              precision    recall  f1-score   support\n",
            "\n",
            "         0.0       0.90      0.92      0.91       217\n",
            "         1.0       0.93      0.90      0.91       235\n",
            "\n",
            "    accuracy                           0.91       452\n",
            "   macro avg       0.91      0.91      0.91       452\n",
            "weighted avg       0.91      0.91      0.91       452\n",
            "\n"
          ],
          "name": "stdout"
        }
      ]
    },
    {
      "cell_type": "code",
      "metadata": {
        "id": "jJ2DxZHSbu4D"
      },
      "source": [
        "import pickle\n",
        "# Save the Modle to file in the current working directory\n",
        "filename = \"logregcampfin.pkl\"  \n",
        "with open(filename, 'wb') as file:  \n",
        "    pickle.dump(clf, file)"
      ],
      "execution_count": 80,
      "outputs": []
    },
    {
      "cell_type": "code",
      "metadata": {
        "id": "gYUcErRwALJk",
        "outputId": "0efaa08e-4e72-4d98-d067-47de6b0ded4d",
        "colab": {
          "base_uri": "https://localhost:8080/",
          "height": 275
        }
      },
      "source": [
        "df_train2.head()"
      ],
      "execution_count": 81,
      "outputs": [
        {
          "output_type": "execute_result",
          "data": {
            "text/html": [
              "<div>\n",
              "<style scoped>\n",
              "    .dataframe tbody tr th:only-of-type {\n",
              "        vertical-align: middle;\n",
              "    }\n",
              "\n",
              "    .dataframe tbody tr th {\n",
              "        vertical-align: top;\n",
              "    }\n",
              "\n",
              "    .dataframe thead th {\n",
              "        text-align: right;\n",
              "    }\n",
              "</style>\n",
              "<table border=\"1\" class=\"dataframe\">\n",
              "  <thead>\n",
              "    <tr style=\"text-align: right;\">\n",
              "      <th></th>\n",
              "      <th>can_id</th>\n",
              "      <th>can_nam</th>\n",
              "      <th>can_off</th>\n",
              "      <th>can_off_sta</th>\n",
              "      <th>can_off_dis</th>\n",
              "      <th>can_par_aff</th>\n",
              "      <th>can_inc_cha_ope_sea</th>\n",
              "      <th>can_cit</th>\n",
              "      <th>can_sta</th>\n",
              "      <th>can_zip</th>\n",
              "      <th>cov_sta_dat</th>\n",
              "      <th>cov_end_dat</th>\n",
              "      <th>ind_con</th>\n",
              "      <th>net_ope_exp</th>\n",
              "      <th>tot_con</th>\n",
              "      <th>tot_dis</th>\n",
              "      <th>net_con</th>\n",
              "      <th>ope_exp</th>\n",
              "      <th>tot_rec</th>\n",
              "      <th>winner</th>\n",
              "    </tr>\n",
              "  </thead>\n",
              "  <tbody>\n",
              "    <tr>\n",
              "      <th>0</th>\n",
              "      <td>H2GA12121</td>\n",
              "      <td>ALLEN, RICHARD W</td>\n",
              "      <td>0</td>\n",
              "      <td>GA</td>\n",
              "      <td>12.0</td>\n",
              "      <td>REP</td>\n",
              "      <td>1</td>\n",
              "      <td>AUGUSTA</td>\n",
              "      <td>GA</td>\n",
              "      <td>30904.0</td>\n",
              "      <td>1/1/2015</td>\n",
              "      <td>10/19/2016</td>\n",
              "      <td>601274.50</td>\n",
              "      <td>907156.21</td>\n",
              "      <td>1074949.50</td>\n",
              "      <td>978518.98</td>\n",
              "      <td>1074949.50</td>\n",
              "      <td>908518.98</td>\n",
              "      <td>1094022.76</td>\n",
              "      <td>1.0</td>\n",
              "    </tr>\n",
              "    <tr>\n",
              "      <th>1</th>\n",
              "      <td>H6PA02171</td>\n",
              "      <td>EVANS, DWIGHT</td>\n",
              "      <td>0</td>\n",
              "      <td>PA</td>\n",
              "      <td>2.0</td>\n",
              "      <td>DEM</td>\n",
              "      <td>0</td>\n",
              "      <td>PHILADELPHIA</td>\n",
              "      <td>PA</td>\n",
              "      <td>19138.0</td>\n",
              "      <td>11/2/2015</td>\n",
              "      <td>10/19/2016</td>\n",
              "      <td>1114711.02</td>\n",
              "      <td>1298831.83</td>\n",
              "      <td>1417545.22</td>\n",
              "      <td>1313583.69</td>\n",
              "      <td>1406719.06</td>\n",
              "      <td>1300557.53</td>\n",
              "      <td>1419270.92</td>\n",
              "      <td>1.0</td>\n",
              "    </tr>\n",
              "    <tr>\n",
              "      <th>2</th>\n",
              "      <td>H6FL04105</td>\n",
              "      <td>RUTHERFORD, JOHN</td>\n",
              "      <td>0</td>\n",
              "      <td>FL</td>\n",
              "      <td>4.0</td>\n",
              "      <td>REP</td>\n",
              "      <td>2</td>\n",
              "      <td>JACKSONVILLE</td>\n",
              "      <td>FL</td>\n",
              "      <td>32224.0</td>\n",
              "      <td>4/1/2016</td>\n",
              "      <td>10/19/2016</td>\n",
              "      <td>542105.38</td>\n",
              "      <td>656210.29</td>\n",
              "      <td>650855.38</td>\n",
              "      <td>675642.76</td>\n",
              "      <td>650855.38</td>\n",
              "      <td>656642.76</td>\n",
              "      <td>711287.85</td>\n",
              "      <td>1.0</td>\n",
              "    </tr>\n",
              "    <tr>\n",
              "      <th>3</th>\n",
              "      <td>H4MT01041</td>\n",
              "      <td>ZINKE, RYAN K</td>\n",
              "      <td>0</td>\n",
              "      <td>MT</td>\n",
              "      <td>0.0</td>\n",
              "      <td>REP</td>\n",
              "      <td>1</td>\n",
              "      <td>WHITEFISH</td>\n",
              "      <td>MT</td>\n",
              "      <td>599373010.0</td>\n",
              "      <td>1/1/2015</td>\n",
              "      <td>10/19/2016</td>\n",
              "      <td>4317331.58</td>\n",
              "      <td>5055942.15</td>\n",
              "      <td>4980915.41</td>\n",
              "      <td>5200630.00</td>\n",
              "      <td>4938943.74</td>\n",
              "      <td>5073110.33</td>\n",
              "      <td>5190887.78</td>\n",
              "      <td>1.0</td>\n",
              "    </tr>\n",
              "    <tr>\n",
              "      <th>4</th>\n",
              "      <td>H8CA09060</td>\n",
              "      <td>LEE, BARBARA</td>\n",
              "      <td>0</td>\n",
              "      <td>CA</td>\n",
              "      <td>13.0</td>\n",
              "      <td>DEM</td>\n",
              "      <td>1</td>\n",
              "      <td>OAKLAND</td>\n",
              "      <td>CA</td>\n",
              "      <td>94612.0</td>\n",
              "      <td>1/1/2015</td>\n",
              "      <td>10/19/2016</td>\n",
              "      <td>897123.61</td>\n",
              "      <td>949488.98</td>\n",
              "      <td>1205863.61</td>\n",
              "      <td>1112163.94</td>\n",
              "      <td>1197676.61</td>\n",
              "      <td>953436.94</td>\n",
              "      <td>1209811.57</td>\n",
              "      <td>1.0</td>\n",
              "    </tr>\n",
              "  </tbody>\n",
              "</table>\n",
              "</div>"
            ],
            "text/plain": [
              "      can_id           can_nam  can_off  ...     ope_exp     tot_rec winner\n",
              "0  H2GA12121  ALLEN, RICHARD W        0  ...   908518.98  1094022.76    1.0\n",
              "1  H6PA02171     EVANS, DWIGHT        0  ...  1300557.53  1419270.92    1.0\n",
              "2  H6FL04105  RUTHERFORD, JOHN        0  ...   656642.76   711287.85    1.0\n",
              "3  H4MT01041     ZINKE, RYAN K        0  ...  5073110.33  5190887.78    1.0\n",
              "4  H8CA09060      LEE, BARBARA        0  ...   953436.94  1209811.57    1.0\n",
              "\n",
              "[5 rows x 20 columns]"
            ]
          },
          "metadata": {
            "tags": []
          },
          "execution_count": 81
        }
      ]
    },
    {
      "cell_type": "code",
      "metadata": {
        "id": "jqWes3zpA9JV",
        "outputId": "a831ca13-75a5-4003-c344-a2950442757f",
        "colab": {
          "base_uri": "https://localhost:8080/",
          "height": 275
        }
      },
      "source": [
        "df = df_train2.copy()\n",
        "df[['cov_sta_dat','cov_end_dat']] = df[['cov_sta_dat','cov_end_dat']].apply(pd.to_datetime) #if conversion required\n",
        "df['totaldays'] = (df['cov_end_dat'] - df['cov_sta_dat']).dt.days\n",
        "df.head()"
      ],
      "execution_count": 82,
      "outputs": [
        {
          "output_type": "execute_result",
          "data": {
            "text/html": [
              "<div>\n",
              "<style scoped>\n",
              "    .dataframe tbody tr th:only-of-type {\n",
              "        vertical-align: middle;\n",
              "    }\n",
              "\n",
              "    .dataframe tbody tr th {\n",
              "        vertical-align: top;\n",
              "    }\n",
              "\n",
              "    .dataframe thead th {\n",
              "        text-align: right;\n",
              "    }\n",
              "</style>\n",
              "<table border=\"1\" class=\"dataframe\">\n",
              "  <thead>\n",
              "    <tr style=\"text-align: right;\">\n",
              "      <th></th>\n",
              "      <th>can_id</th>\n",
              "      <th>can_nam</th>\n",
              "      <th>can_off</th>\n",
              "      <th>can_off_sta</th>\n",
              "      <th>can_off_dis</th>\n",
              "      <th>can_par_aff</th>\n",
              "      <th>can_inc_cha_ope_sea</th>\n",
              "      <th>can_cit</th>\n",
              "      <th>can_sta</th>\n",
              "      <th>can_zip</th>\n",
              "      <th>cov_sta_dat</th>\n",
              "      <th>cov_end_dat</th>\n",
              "      <th>ind_con</th>\n",
              "      <th>net_ope_exp</th>\n",
              "      <th>tot_con</th>\n",
              "      <th>tot_dis</th>\n",
              "      <th>net_con</th>\n",
              "      <th>ope_exp</th>\n",
              "      <th>tot_rec</th>\n",
              "      <th>winner</th>\n",
              "      <th>totaldays</th>\n",
              "    </tr>\n",
              "  </thead>\n",
              "  <tbody>\n",
              "    <tr>\n",
              "      <th>0</th>\n",
              "      <td>H2GA12121</td>\n",
              "      <td>ALLEN, RICHARD W</td>\n",
              "      <td>0</td>\n",
              "      <td>GA</td>\n",
              "      <td>12.0</td>\n",
              "      <td>REP</td>\n",
              "      <td>1</td>\n",
              "      <td>AUGUSTA</td>\n",
              "      <td>GA</td>\n",
              "      <td>30904.0</td>\n",
              "      <td>2015-01-01</td>\n",
              "      <td>2016-10-19</td>\n",
              "      <td>601274.50</td>\n",
              "      <td>907156.21</td>\n",
              "      <td>1074949.50</td>\n",
              "      <td>978518.98</td>\n",
              "      <td>1074949.50</td>\n",
              "      <td>908518.98</td>\n",
              "      <td>1094022.76</td>\n",
              "      <td>1.0</td>\n",
              "      <td>657</td>\n",
              "    </tr>\n",
              "    <tr>\n",
              "      <th>1</th>\n",
              "      <td>H6PA02171</td>\n",
              "      <td>EVANS, DWIGHT</td>\n",
              "      <td>0</td>\n",
              "      <td>PA</td>\n",
              "      <td>2.0</td>\n",
              "      <td>DEM</td>\n",
              "      <td>0</td>\n",
              "      <td>PHILADELPHIA</td>\n",
              "      <td>PA</td>\n",
              "      <td>19138.0</td>\n",
              "      <td>2015-11-02</td>\n",
              "      <td>2016-10-19</td>\n",
              "      <td>1114711.02</td>\n",
              "      <td>1298831.83</td>\n",
              "      <td>1417545.22</td>\n",
              "      <td>1313583.69</td>\n",
              "      <td>1406719.06</td>\n",
              "      <td>1300557.53</td>\n",
              "      <td>1419270.92</td>\n",
              "      <td>1.0</td>\n",
              "      <td>352</td>\n",
              "    </tr>\n",
              "    <tr>\n",
              "      <th>2</th>\n",
              "      <td>H6FL04105</td>\n",
              "      <td>RUTHERFORD, JOHN</td>\n",
              "      <td>0</td>\n",
              "      <td>FL</td>\n",
              "      <td>4.0</td>\n",
              "      <td>REP</td>\n",
              "      <td>2</td>\n",
              "      <td>JACKSONVILLE</td>\n",
              "      <td>FL</td>\n",
              "      <td>32224.0</td>\n",
              "      <td>2016-04-01</td>\n",
              "      <td>2016-10-19</td>\n",
              "      <td>542105.38</td>\n",
              "      <td>656210.29</td>\n",
              "      <td>650855.38</td>\n",
              "      <td>675642.76</td>\n",
              "      <td>650855.38</td>\n",
              "      <td>656642.76</td>\n",
              "      <td>711287.85</td>\n",
              "      <td>1.0</td>\n",
              "      <td>201</td>\n",
              "    </tr>\n",
              "    <tr>\n",
              "      <th>3</th>\n",
              "      <td>H4MT01041</td>\n",
              "      <td>ZINKE, RYAN K</td>\n",
              "      <td>0</td>\n",
              "      <td>MT</td>\n",
              "      <td>0.0</td>\n",
              "      <td>REP</td>\n",
              "      <td>1</td>\n",
              "      <td>WHITEFISH</td>\n",
              "      <td>MT</td>\n",
              "      <td>599373010.0</td>\n",
              "      <td>2015-01-01</td>\n",
              "      <td>2016-10-19</td>\n",
              "      <td>4317331.58</td>\n",
              "      <td>5055942.15</td>\n",
              "      <td>4980915.41</td>\n",
              "      <td>5200630.00</td>\n",
              "      <td>4938943.74</td>\n",
              "      <td>5073110.33</td>\n",
              "      <td>5190887.78</td>\n",
              "      <td>1.0</td>\n",
              "      <td>657</td>\n",
              "    </tr>\n",
              "    <tr>\n",
              "      <th>4</th>\n",
              "      <td>H8CA09060</td>\n",
              "      <td>LEE, BARBARA</td>\n",
              "      <td>0</td>\n",
              "      <td>CA</td>\n",
              "      <td>13.0</td>\n",
              "      <td>DEM</td>\n",
              "      <td>1</td>\n",
              "      <td>OAKLAND</td>\n",
              "      <td>CA</td>\n",
              "      <td>94612.0</td>\n",
              "      <td>2015-01-01</td>\n",
              "      <td>2016-10-19</td>\n",
              "      <td>897123.61</td>\n",
              "      <td>949488.98</td>\n",
              "      <td>1205863.61</td>\n",
              "      <td>1112163.94</td>\n",
              "      <td>1197676.61</td>\n",
              "      <td>953436.94</td>\n",
              "      <td>1209811.57</td>\n",
              "      <td>1.0</td>\n",
              "      <td>657</td>\n",
              "    </tr>\n",
              "  </tbody>\n",
              "</table>\n",
              "</div>"
            ],
            "text/plain": [
              "      can_id           can_nam  can_off  ...     tot_rec  winner totaldays\n",
              "0  H2GA12121  ALLEN, RICHARD W        0  ...  1094022.76     1.0       657\n",
              "1  H6PA02171     EVANS, DWIGHT        0  ...  1419270.92     1.0       352\n",
              "2  H6FL04105  RUTHERFORD, JOHN        0  ...   711287.85     1.0       201\n",
              "3  H4MT01041     ZINKE, RYAN K        0  ...  5190887.78     1.0       657\n",
              "4  H8CA09060      LEE, BARBARA        0  ...  1209811.57     1.0       657\n",
              "\n",
              "[5 rows x 21 columns]"
            ]
          },
          "metadata": {
            "tags": []
          },
          "execution_count": 82
        }
      ]
    },
    {
      "cell_type": "code",
      "metadata": {
        "id": "QJRU_ePUBOSv",
        "outputId": "e9796cc9-f10e-4e66-b191-b0e92111f2ac",
        "colab": {
          "base_uri": "https://localhost:8080/",
          "height": 292
        }
      },
      "source": [
        "x =df[['ind_con','net_ope_exp',\t'tot_con', 'tot_dis',\t'net_con',\t'ope_exp',\t'tot_rec','can_off','can_inc_cha_ope_sea','totaldays']]\n",
        "y = df.winner\n",
        "\n",
        "x_train, x_test, y_train, y_test = train_test_split(x, y, test_size=0.3, random_state=1)\n",
        "\n",
        "\n",
        "from imblearn.over_sampling import SMOTE\n",
        "sm = SMOTE(random_state=0)\n",
        "columns = x_train.columns\n",
        "sm_x,sm_y=sm.fit_sample(x_train, y_train)\n",
        "sm_x = pd.DataFrame(data=sm_x,columns=columns )\n",
        "sm_y= pd.Series(data=sm_y)\n",
        "\n",
        "print(sm_y.value_counts())\n",
        "\n",
        "from sklearn.model_selection import train_test_split,cross_val_score\n",
        "from sklearn.linear_model import LogisticRegression\n",
        "from sklearn.preprocessing import StandardScaler  \n",
        "\n",
        "x_train, x_test, y_train, y_test = train_test_split(sm_x, sm_y, test_size=0.30, random_state=0)\n",
        "\n",
        "ss = StandardScaler() \n",
        "x_train = ss.fit_transform(x_train) \n",
        "x_train = pd.DataFrame(x_train)\n",
        "x_test = ss.transform(x_test)\n",
        "\n",
        "lreg = LogisticRegression(C=10)\n",
        "clf=lreg.fit(x_train, y_train)\n",
        "y_pred = lreg.predict(x_test)\n",
        "print('Accuracy {:.2f}'.format(lreg.score(x_test, y_test)))\n",
        "\n",
        "cross_val_scores = cross_val_score(lreg, x_train,y_train, cv=10,scoring='accuracy').mean()\n",
        "# print('cross validation score',cross_val_scores)\n",
        "\n",
        "from sklearn.metrics import classification_report\n",
        "print(classification_report(y_test, y_pred)) \n",
        "\n",
        "from sklearn.metrics import confusion_matrix\n",
        "confusion_matrix = confusion_matrix(y_test, y_pred)\n",
        "# print(confusion_matrix)"
      ],
      "execution_count": 85,
      "outputs": [
        {
          "output_type": "stream",
          "text": [
            "/usr/local/lib/python3.6/dist-packages/sklearn/utils/deprecation.py:87: FutureWarning: Function safe_indexing is deprecated; safe_indexing is deprecated in version 0.22 and will be removed in version 0.24.\n",
            "  warnings.warn(msg, category=FutureWarning)\n"
          ],
          "name": "stderr"
        },
        {
          "output_type": "stream",
          "text": [
            "1.0    753\n",
            "0.0    753\n",
            "dtype: int64\n",
            "Accuracy 0.93\n",
            "              precision    recall  f1-score   support\n",
            "\n",
            "         0.0       0.93      0.92      0.93       217\n",
            "         1.0       0.93      0.94      0.93       235\n",
            "\n",
            "    accuracy                           0.93       452\n",
            "   macro avg       0.93      0.93      0.93       452\n",
            "weighted avg       0.93      0.93      0.93       452\n",
            "\n"
          ],
          "name": "stdout"
        }
      ]
    },
    {
      "cell_type": "code",
      "metadata": {
        "id": "wJXzfc6oBbL7"
      },
      "source": [
        "filename = \"finalmodel.pkl\"  \n",
        "with open(filename, 'wb') as file:  \n",
        "    pickle.dump(clf, file)"
      ],
      "execution_count": 84,
      "outputs": []
    },
    {
      "cell_type": "code",
      "metadata": {
        "id": "6OoLqp4ZDgVu"
      },
      "source": [
        ""
      ],
      "execution_count": 84,
      "outputs": []
    }
  ]
}