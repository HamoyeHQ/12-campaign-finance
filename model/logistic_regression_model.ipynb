{
  "nbformat": 4,
  "nbformat_minor": 0,
  "metadata": {
    "colab": {
      "name": "logistic_regression_model.ipynb",
      "provenance": []
    },
    "kernelspec": {
      "name": "python3",
      "display_name": "Python 3"
    }
  },
  "cells": [
    {
      "cell_type": "markdown",
      "metadata": {
        "id": "1BqtlRzaR_i_"
      },
      "source": [
        "# Summary\n",
        "\n",
        "\n",
        "\n",
        ">Update : standard scaler was used on the features which showed improved performance on the balanced data.\n",
        "\n",
        "\n",
        "\n",
        "This notebook makes use of logistic regression to determine if a candidate will win based on the following features\n",
        "\n",
        "1. 'ind_con'\n",
        "2. 'net_ope_exp'\n",
        "3. 'tot_con'\n",
        "4. 'tot_dis'\n",
        "5. 'net_con'\n",
        "6. 'ope_exp'\t\n",
        "7. 'tot_rec'\n",
        "\n",
        "logistic regression was used on\n",
        "\n",
        "1. The imbalanced data\n",
        "2. After undersampling the majority class ('N')\n",
        "3. After smoting both classes to get a balanced data\n",
        "4. Label encoding was used on 'can_off' and 'can_inc_cha_ope_sea' and added to the features of the smoted balanced data."
      ]
    },
    {
      "cell_type": "code",
      "metadata": {
        "id": "ouhr012uJbKY"
      },
      "source": [
        "import numpy as np\n",
        "import matplotlib.pyplot as plt\n",
        "import pandas as pd\n",
        "import seaborn as sns"
      ],
      "execution_count": 1,
      "outputs": []
    },
    {
      "cell_type": "code",
      "metadata": {
        "id": "VusOqI63JfJk",
        "outputId": "23e260e9-a540-4842-d961-3433c11985c8",
        "colab": {
          "base_uri": "https://localhost:8080/",
          "height": 267
        }
      },
      "source": [
        "df = pd.read_csv('https://raw.githubusercontent.com/HamoyeHQ/12-campaign-finance/master/data/new_project_data1.csv')\n",
        "df.head()"
      ],
      "execution_count": 3,
      "outputs": [
        {
          "output_type": "execute_result",
          "data": {
            "text/html": [
              "<div>\n",
              "<style scoped>\n",
              "    .dataframe tbody tr th:only-of-type {\n",
              "        vertical-align: middle;\n",
              "    }\n",
              "\n",
              "    .dataframe tbody tr th {\n",
              "        vertical-align: top;\n",
              "    }\n",
              "\n",
              "    .dataframe thead th {\n",
              "        text-align: right;\n",
              "    }\n",
              "</style>\n",
              "<table border=\"1\" class=\"dataframe\">\n",
              "  <thead>\n",
              "    <tr style=\"text-align: right;\">\n",
              "      <th></th>\n",
              "      <th>can_id</th>\n",
              "      <th>can_nam</th>\n",
              "      <th>can_off</th>\n",
              "      <th>can_off_sta</th>\n",
              "      <th>can_off_dis</th>\n",
              "      <th>can_par_aff</th>\n",
              "      <th>can_inc_cha_ope_sea</th>\n",
              "      <th>can_cit</th>\n",
              "      <th>can_sta</th>\n",
              "      <th>can_zip</th>\n",
              "      <th>cov_sta_dat</th>\n",
              "      <th>cov_end_dat</th>\n",
              "      <th>ind_con</th>\n",
              "      <th>net_ope_exp</th>\n",
              "      <th>tot_con</th>\n",
              "      <th>tot_dis</th>\n",
              "      <th>net_con</th>\n",
              "      <th>ope_exp</th>\n",
              "      <th>tot_rec</th>\n",
              "      <th>winner</th>\n",
              "    </tr>\n",
              "  </thead>\n",
              "  <tbody>\n",
              "    <tr>\n",
              "      <th>0</th>\n",
              "      <td>H2GA12121</td>\n",
              "      <td>ALLEN, RICHARD W</td>\n",
              "      <td>H</td>\n",
              "      <td>GA</td>\n",
              "      <td>12.0</td>\n",
              "      <td>REP</td>\n",
              "      <td>INCUMBENT</td>\n",
              "      <td>AUGUSTA</td>\n",
              "      <td>GA</td>\n",
              "      <td>30904.0</td>\n",
              "      <td>1/1/2015</td>\n",
              "      <td>10/19/2016</td>\n",
              "      <td>601274.50</td>\n",
              "      <td>907156.21</td>\n",
              "      <td>1074949.50</td>\n",
              "      <td>978518.98</td>\n",
              "      <td>1074949.50</td>\n",
              "      <td>908518.98</td>\n",
              "      <td>1094022.76</td>\n",
              "      <td>Y</td>\n",
              "    </tr>\n",
              "    <tr>\n",
              "      <th>1</th>\n",
              "      <td>H6PA02171</td>\n",
              "      <td>EVANS, DWIGHT</td>\n",
              "      <td>H</td>\n",
              "      <td>PA</td>\n",
              "      <td>2.0</td>\n",
              "      <td>DEM</td>\n",
              "      <td>CHALLENGER</td>\n",
              "      <td>PHILADELPHIA</td>\n",
              "      <td>PA</td>\n",
              "      <td>19138.0</td>\n",
              "      <td>11/2/2015</td>\n",
              "      <td>10/19/2016</td>\n",
              "      <td>1114711.02</td>\n",
              "      <td>1298831.83</td>\n",
              "      <td>1417545.22</td>\n",
              "      <td>1313583.69</td>\n",
              "      <td>1406719.06</td>\n",
              "      <td>1300557.53</td>\n",
              "      <td>1419270.92</td>\n",
              "      <td>Y</td>\n",
              "    </tr>\n",
              "    <tr>\n",
              "      <th>2</th>\n",
              "      <td>H6FL04105</td>\n",
              "      <td>RUTHERFORD, JOHN</td>\n",
              "      <td>H</td>\n",
              "      <td>FL</td>\n",
              "      <td>4.0</td>\n",
              "      <td>REP</td>\n",
              "      <td>OPEN</td>\n",
              "      <td>JACKSONVILLE</td>\n",
              "      <td>FL</td>\n",
              "      <td>32224.0</td>\n",
              "      <td>4/1/2016</td>\n",
              "      <td>10/19/2016</td>\n",
              "      <td>542105.38</td>\n",
              "      <td>656210.29</td>\n",
              "      <td>650855.38</td>\n",
              "      <td>675642.76</td>\n",
              "      <td>650855.38</td>\n",
              "      <td>656642.76</td>\n",
              "      <td>711287.85</td>\n",
              "      <td>Y</td>\n",
              "    </tr>\n",
              "    <tr>\n",
              "      <th>3</th>\n",
              "      <td>H4MT01041</td>\n",
              "      <td>ZINKE, RYAN K</td>\n",
              "      <td>H</td>\n",
              "      <td>MT</td>\n",
              "      <td>0.0</td>\n",
              "      <td>REP</td>\n",
              "      <td>INCUMBENT</td>\n",
              "      <td>WHITEFISH</td>\n",
              "      <td>MT</td>\n",
              "      <td>599373010.0</td>\n",
              "      <td>1/1/2015</td>\n",
              "      <td>10/19/2016</td>\n",
              "      <td>4317331.58</td>\n",
              "      <td>5055942.15</td>\n",
              "      <td>4980915.41</td>\n",
              "      <td>5200630.00</td>\n",
              "      <td>4938943.74</td>\n",
              "      <td>5073110.33</td>\n",
              "      <td>5190887.78</td>\n",
              "      <td>Y</td>\n",
              "    </tr>\n",
              "    <tr>\n",
              "      <th>4</th>\n",
              "      <td>H8CA09060</td>\n",
              "      <td>LEE, BARBARA</td>\n",
              "      <td>H</td>\n",
              "      <td>CA</td>\n",
              "      <td>13.0</td>\n",
              "      <td>DEM</td>\n",
              "      <td>INCUMBENT</td>\n",
              "      <td>OAKLAND</td>\n",
              "      <td>CA</td>\n",
              "      <td>94612.0</td>\n",
              "      <td>1/1/2015</td>\n",
              "      <td>10/19/2016</td>\n",
              "      <td>897123.61</td>\n",
              "      <td>949488.98</td>\n",
              "      <td>1205863.61</td>\n",
              "      <td>1112163.94</td>\n",
              "      <td>1197676.61</td>\n",
              "      <td>953436.94</td>\n",
              "      <td>1209811.57</td>\n",
              "      <td>Y</td>\n",
              "    </tr>\n",
              "  </tbody>\n",
              "</table>\n",
              "</div>"
            ],
            "text/plain": [
              "      can_id           can_nam can_off  ...     ope_exp     tot_rec winner\n",
              "0  H2GA12121  ALLEN, RICHARD W       H  ...   908518.98  1094022.76      Y\n",
              "1  H6PA02171     EVANS, DWIGHT       H  ...  1300557.53  1419270.92      Y\n",
              "2  H6FL04105  RUTHERFORD, JOHN       H  ...   656642.76   711287.85      Y\n",
              "3  H4MT01041     ZINKE, RYAN K       H  ...  5073110.33  5190887.78      Y\n",
              "4  H8CA09060      LEE, BARBARA       H  ...   953436.94  1209811.57      Y\n",
              "\n",
              "[5 rows x 20 columns]"
            ]
          },
          "metadata": {
            "tags": []
          },
          "execution_count": 3
        }
      ]
    },
    {
      "cell_type": "code",
      "metadata": {
        "id": "446szdmDJhQZ",
        "outputId": "673fe108-ff6f-45f3-fa87-2c11edaedf18",
        "colab": {
          "base_uri": "https://localhost:8080/",
          "height": 367
        }
      },
      "source": [
        "print(df.winner.value_counts())\n",
        "l,w=df.winner.value_counts()\n",
        "print('Winners',w)\n",
        "print('Loosers',l)\n",
        "sns.countplot(x='winner',data=df,palette='hls')\n",
        "plt.show()\n",
        "# The data is clearly imbalanced"
      ],
      "execution_count": 6,
      "outputs": [
        {
          "output_type": "stream",
          "text": [
            "N    1087\n",
            "Y     464\n",
            "Name: winner, dtype: int64\n",
            "Winners 464\n",
            "Loosers 1087\n"
          ],
          "name": "stdout"
        },
        {
          "output_type": "display_data",
          "data": {
            "image/png": "[encoded data removed]",
            "text/plain": [
              "<Figure size 432x288 with 1 Axes>"
            ]
          },
          "metadata": {
            "tags": [],
            "needs_background": "light"
          }
        }
      ]
    },
    {
      "cell_type": "markdown",
      "metadata": {
        "id": "nlW6ZSeLJuVI"
      },
      "source": [
        "# Modelling with the imbalanced data"
      ]
    },
    {
      "cell_type": "code",
      "metadata": {
        "id": "jl6hrsfFJl8f",
        "outputId": "9548bbd7-666f-4c2c-9555-d889e078eb1e",
        "colab": {
          "base_uri": "https://localhost:8080/",
          "height": 123
        }
      },
      "source": [
        "# Converting values in the winner column to float values i.e Y=1.0 and N=0.0\n",
        "df['winner'] = df['winner'].apply(lambda val: float(int(val=='Y')))\n",
        "df.winner.head()"
      ],
      "execution_count": 7,
      "outputs": [
        {
          "output_type": "execute_result",
          "data": {
            "text/plain": [
              "0    1.0\n",
              "1    1.0\n",
              "2    1.0\n",
              "3    1.0\n",
              "4    1.0\n",
              "Name: winner, dtype: float64"
            ]
          },
          "metadata": {
            "tags": []
          },
          "execution_count": 7
        }
      ]
    },
    {
      "cell_type": "code",
      "metadata": {
        "id": "-uHD-a8zJ0kW"
      },
      "source": [
        "x_unbal=df[['ind_con','net_ope_exp',\t'tot_con', 'tot_dis',\t'net_con',\t'ope_exp',\t'tot_rec']]\n",
        "y_unbal = df.winner"
      ],
      "execution_count": 8,
      "outputs": []
    },
    {
      "cell_type": "code",
      "metadata": {
        "id": "pwKq_EpeJ2Ke",
        "outputId": "c560ea49-1b02-47b8-cdd0-0da022be9cb8",
        "colab": {
          "base_uri": "https://localhost:8080/",
          "height": 212
        }
      },
      "source": [
        "from sklearn.model_selection import train_test_split,cross_val_score\n",
        "from sklearn.linear_model import LogisticRegression\n",
        "from sklearn.preprocessing import StandardScaler  \n",
        "\n",
        "x_train, x_test, y_train, y_test = train_test_split(x_unbal, y_unbal, test_size=0.3, random_state=4)\n",
        "ss = StandardScaler() \n",
        "x_train = ss.fit_transform(x_train) \n",
        "x_train = pd.DataFrame(x_train)\n",
        "x_test = ss.transform(x_test)\n",
        "\n",
        "lreg = LogisticRegression()\n",
        "lreg.fit(x_train, y_train)\n",
        "y_pred = lreg.predict(x_test)\n",
        "print('Accuracy {:.2f}'.format(lreg.score(x_test, y_test)))\n",
        "\n",
        "cross_val_scores = cross_val_score(lreg, x_train,y_train, cv=10,scoring='accuracy').mean()\n",
        "print('cross validation score',cross_val_scores)\n",
        "\n",
        "from sklearn.metrics import classification_report\n",
        "print(classification_report(y_test, y_pred)) "
      ],
      "execution_count": 24,
      "outputs": [
        {
          "output_type": "stream",
          "text": [
            "Accuracy 0.75\n",
            "cross validation score 0.7621984369690791\n",
            "              precision    recall  f1-score   support\n",
            "\n",
            "         0.0       0.74      0.98      0.84       318\n",
            "         1.0       0.84      0.26      0.39       148\n",
            "\n",
            "    accuracy                           0.75       466\n",
            "   macro avg       0.79      0.62      0.62       466\n",
            "weighted avg       0.77      0.75      0.70       466\n",
            "\n"
          ],
          "name": "stdout"
        }
      ]
    },
    {
      "cell_type": "code",
      "metadata": {
        "id": "Y_eI-OIVKKdX",
        "outputId": "7150c6a9-de35-4376-d287-365e989b7ce3",
        "colab": {
          "base_uri": "https://localhost:8080/",
          "height": 513
        }
      },
      "source": [
        "from sklearn.metrics import roc_auc_score\n",
        "from sklearn.metrics import roc_curve\n",
        "logit_roc_auc = roc_auc_score(y_test, lreg.predict(x_test))\n",
        "fpr, tpr, thresholds = roc_curve(y_test, lreg.predict_proba(x_test)[:,1])\n",
        "plt.figure(figsize=(13,8))\n",
        "plt.plot(fpr, tpr, label='Logistic Regression (area = %0.2f)' % logit_roc_auc)\n",
        "plt.plot([0, 1], [0, 1],'r--')\n",
        "plt.xlim([0.0, 1.0])\n",
        "plt.ylim([0.0, 1.05])\n",
        "plt.xlabel('False Positive Rate')\n",
        "plt.ylabel('True Positive Rate')\n",
        "plt.title('Receiver operating characteristic')\n",
        "plt.legend(loc=\"lower right\")\n",
        "plt.savefig('Log_ROC')\n",
        "plt.show()"
      ],
      "execution_count": 25,
      "outputs": [
        {
          "output_type": "display_data",
          "data": {
            "image/png": "[encoded data removed]",
            "text/plain": [
              "<Figure size 936x576 with 1 Axes>"
            ]
          },
          "metadata": {
            "tags": [],
            "needs_background": "light"
          }
        }
      ]
    },
    {
      "cell_type": "markdown",
      "metadata": {
        "id": "Q9_ezCm9NgVG"
      },
      "source": [
        "# Handling the imbalanced data by undersampling 'N'"
      ]
    },
    {
      "cell_type": "code",
      "metadata": {
        "id": "8RhE81BgNcMe",
        "outputId": "c07d6b23-2836-48fe-8b96-1490e96e61a2",
        "colab": {
          "base_uri": "https://localhost:8080/",
          "height": 296
        }
      },
      "source": [
        "# undersample the N class and shuffle\n",
        "s1 = df[df.winner == 0.0].sample(464)\n",
        "s2 = df[df.winner == 1.0].sample(464)\n",
        "\n",
        "print(len(s1),len(s2))\n",
        "df_train = pd.concat([s1,s2])\n",
        "sns.countplot(x='winner',data=df_train,palette='hls')\n",
        "plt.show()"
      ],
      "execution_count": 27,
      "outputs": [
        {
          "output_type": "stream",
          "text": [
            "464 464\n"
          ],
          "name": "stdout"
        },
        {
          "output_type": "display_data",
          "data": {
            "image/png": "[encoded data removed]",
            "text/plain": [
              "<Figure size 432x288 with 1 Axes>"
            ]
          },
          "metadata": {
            "tags": [],
            "needs_background": "light"
          }
        }
      ]
    },
    {
      "cell_type": "code",
      "metadata": {
        "id": "AW8tjcXfNoHv",
        "outputId": "2291b92f-9dbf-430a-e355-58e9f05277d8",
        "colab": {
          "base_uri": "https://localhost:8080/",
          "height": 197
        }
      },
      "source": [
        "x=df_train[['ind_con','net_ope_exp',\t'tot_con', 'tot_dis',\t'net_con',\t'ope_exp',\t'tot_rec']]\n",
        "x.head()"
      ],
      "execution_count": 28,
      "outputs": [
        {
          "output_type": "execute_result",
          "data": {
            "text/html": [
              "<div>\n",
              "<style scoped>\n",
              "    .dataframe tbody tr th:only-of-type {\n",
              "        vertical-align: middle;\n",
              "    }\n",
              "\n",
              "    .dataframe tbody tr th {\n",
              "        vertical-align: top;\n",
              "    }\n",
              "\n",
              "    .dataframe thead th {\n",
              "        text-align: right;\n",
              "    }\n",
              "</style>\n",
              "<table border=\"1\" class=\"dataframe\">\n",
              "  <thead>\n",
              "    <tr style=\"text-align: right;\">\n",
              "      <th></th>\n",
              "      <th>ind_con</th>\n",
              "      <th>net_ope_exp</th>\n",
              "      <th>tot_con</th>\n",
              "      <th>tot_dis</th>\n",
              "      <th>net_con</th>\n",
              "      <th>ope_exp</th>\n",
              "      <th>tot_rec</th>\n",
              "    </tr>\n",
              "  </thead>\n",
              "  <tbody>\n",
              "    <tr>\n",
              "      <th>902</th>\n",
              "      <td>6805.00</td>\n",
              "      <td>16114.00</td>\n",
              "      <td>6805.00</td>\n",
              "      <td>16189.00</td>\n",
              "      <td>6805.00</td>\n",
              "      <td>16189.00</td>\n",
              "      <td>16877.00</td>\n",
              "    </tr>\n",
              "    <tr>\n",
              "      <th>1526</th>\n",
              "      <td>30.00</td>\n",
              "      <td>13028.29</td>\n",
              "      <td>30.00</td>\n",
              "      <td>13028.29</td>\n",
              "      <td>30.00</td>\n",
              "      <td>13028.29</td>\n",
              "      <td>30.00</td>\n",
              "    </tr>\n",
              "    <tr>\n",
              "      <th>472</th>\n",
              "      <td>5361.08</td>\n",
              "      <td>31479.31</td>\n",
              "      <td>5641.08</td>\n",
              "      <td>31604.31</td>\n",
              "      <td>5641.08</td>\n",
              "      <td>31479.31</td>\n",
              "      <td>35743.12</td>\n",
              "    </tr>\n",
              "    <tr>\n",
              "      <th>484</th>\n",
              "      <td>1398232.98</td>\n",
              "      <td>1740780.81</td>\n",
              "      <td>1917671.26</td>\n",
              "      <td>1799264.77</td>\n",
              "      <td>1896716.87</td>\n",
              "      <td>1762629.27</td>\n",
              "      <td>1953570.83</td>\n",
              "    </tr>\n",
              "    <tr>\n",
              "      <th>418</th>\n",
              "      <td>6008.00</td>\n",
              "      <td>4424.91</td>\n",
              "      <td>9913.57</td>\n",
              "      <td>9653.85</td>\n",
              "      <td>9913.57</td>\n",
              "      <td>4424.91</td>\n",
              "      <td>9913.57</td>\n",
              "    </tr>\n",
              "  </tbody>\n",
              "</table>\n",
              "</div>"
            ],
            "text/plain": [
              "         ind_con  net_ope_exp     tot_con  ...     net_con     ope_exp     tot_rec\n",
              "902      6805.00     16114.00     6805.00  ...     6805.00    16189.00    16877.00\n",
              "1526       30.00     13028.29       30.00  ...       30.00    13028.29       30.00\n",
              "472      5361.08     31479.31     5641.08  ...     5641.08    31479.31    35743.12\n",
              "484   1398232.98   1740780.81  1917671.26  ...  1896716.87  1762629.27  1953570.83\n",
              "418      6008.00      4424.91     9913.57  ...     9913.57     4424.91     9913.57\n",
              "\n",
              "[5 rows x 7 columns]"
            ]
          },
          "metadata": {
            "tags": []
          },
          "execution_count": 28
        }
      ]
    },
    {
      "cell_type": "code",
      "metadata": {
        "id": "f48EjJXyNtA9",
        "outputId": "e1a1dc21-8e78-4e3c-fa65-96a05918a7c3",
        "colab": {
          "base_uri": "https://localhost:8080/",
          "height": 123
        }
      },
      "source": [
        "y = df_train.winner\n",
        "y.head()"
      ],
      "execution_count": 29,
      "outputs": [
        {
          "output_type": "execute_result",
          "data": {
            "text/plain": [
              "902     0.0\n",
              "1526    0.0\n",
              "472     0.0\n",
              "484     0.0\n",
              "418     0.0\n",
              "Name: winner, dtype: float64"
            ]
          },
          "metadata": {
            "tags": []
          },
          "execution_count": 29
        }
      ]
    },
    {
      "cell_type": "code",
      "metadata": {
        "id": "oYmwf0VcNwKP",
        "outputId": "321061c2-b3c2-439a-af43-fdfb18265423",
        "colab": {
          "base_uri": "https://localhost:8080/",
          "height": 212
        }
      },
      "source": [
        "from sklearn.model_selection import train_test_split,cross_val_score\n",
        "from sklearn.linear_model import LogisticRegression\n",
        "from sklearn.preprocessing import StandardScaler  \n",
        "\n",
        "x_train, x_test, y_train, y_test = train_test_split(x, y, test_size=0.3, random_state=4)\n",
        "ss = StandardScaler() \n",
        "x_train = ss.fit_transform(x_train) \n",
        "x_train = pd.DataFrame(x_train)\n",
        "x_test = ss.transform(x_test)\n",
        "\n",
        "lreg = LogisticRegression()\n",
        "lreg.fit(x_train, y_train)\n",
        "y_pred = lreg.predict(x_test)\n",
        "print('Accuracy {:.2f}'.format(lreg.score(x_test, y_test)))\n",
        "\n",
        "cross_val_scores = cross_val_score(lreg, x_train,y_train, cv=10,scoring='accuracy').mean()\n",
        "print('cross validation score',cross_val_scores)\n",
        "\n",
        "from sklearn.metrics import classification_report\n",
        "print(classification_report(y_test, y_pred)) "
      ],
      "execution_count": 30,
      "outputs": [
        {
          "output_type": "stream",
          "text": [
            "Accuracy 0.84\n",
            "cross validation score 0.7873798076923078\n",
            "              precision    recall  f1-score   support\n",
            "\n",
            "         0.0       0.78      0.93      0.85       136\n",
            "         1.0       0.92      0.76      0.83       143\n",
            "\n",
            "    accuracy                           0.84       279\n",
            "   macro avg       0.85      0.84      0.84       279\n",
            "weighted avg       0.86      0.84      0.84       279\n",
            "\n"
          ],
          "name": "stdout"
        }
      ]
    },
    {
      "cell_type": "code",
      "metadata": {
        "id": "JN2-oagGN7SD",
        "outputId": "12f8edd0-7dce-4d0a-ecd4-5e540d06a13b",
        "colab": {
          "base_uri": "https://localhost:8080/",
          "height": 513
        }
      },
      "source": [
        "from sklearn.metrics import roc_auc_score\n",
        "from sklearn.metrics import roc_curve\n",
        "logit_roc_auc = roc_auc_score(y_test, lreg.predict(x_test))\n",
        "fpr, tpr, thresholds = roc_curve(y_test, lreg.predict_proba(x_test)[:,1])\n",
        "plt.figure(figsize=(13,8))\n",
        "plt.plot(fpr, tpr, label='Logistic Regression (area = %0.2f)' % logit_roc_auc)\n",
        "plt.plot([0, 1], [0, 1],'r--')\n",
        "plt.xlim([0.0, 1.0])\n",
        "plt.ylim([0.0, 1.05])\n",
        "plt.xlabel('False Positive Rate')\n",
        "plt.ylabel('True Positive Rate')\n",
        "plt.title('Receiver operating characteristic')\n",
        "plt.legend(loc=\"lower right\")\n",
        "plt.savefig('Log_ROC')\n",
        "plt.show()"
      ],
      "execution_count": 31,
      "outputs": [
        {
          "output_type": "display_data",
          "data": {
            "image/png": "[encoded data removed]",
            "text/plain": [
              "<Figure size 936x576 with 1 Axes>"
            ]
          },
          "metadata": {
            "tags": [],
            "needs_background": "light"
          }
        }
      ]
    },
    {
      "cell_type": "markdown",
      "metadata": {
        "id": "ah8nuRESOQnG"
      },
      "source": [
        "# Balancing the data by smoting both classes"
      ]
    },
    {
      "cell_type": "code",
      "metadata": {
        "id": "VpVjiFIIOOGt",
        "outputId": "29ef6e3f-3f35-4ef8-8f27-1f07aa0925bb",
        "colab": {
          "base_uri": "https://localhost:8080/",
          "height": 321
        }
      },
      "source": [
        "x_train, x_test, y_train, y_test = train_test_split(x_unbal, y_unbal, test_size=0.3, random_state=4)\n",
        "\n",
        "from imblearn.over_sampling import SMOTE\n",
        "sm = SMOTE(random_state=0)\n",
        "columns = x_train.columns\n",
        "sm_x,sm_y=sm.fit_sample(x_train, y_train)\n",
        "sm_x = pd.DataFrame(data=sm_x,columns=columns )\n",
        "sm_y= pd.Series(data=sm_y)\n",
        "\n",
        "print(sm_y.value_counts())\n",
        "\n",
        "from sklearn.model_selection import train_test_split,cross_val_score\n",
        "from sklearn.linear_model import LogisticRegression\n",
        "from sklearn.preprocessing import StandardScaler  \n",
        "\n",
        "x_train, x_test, y_train, y_test = train_test_split(sm_x, sm_y, test_size=0.3, random_state=4)\n",
        "ss = StandardScaler() \n",
        "x_train = ss.fit_transform(x_train) \n",
        "x_train = pd.DataFrame(x_train)\n",
        "x_test = ss.transform(x_test)\n",
        "\n",
        "lreg = LogisticRegression()\n",
        "lreg.fit(x_train, y_train)\n",
        "y_pred = lreg.predict(x_test)\n",
        "print('Accuracy {:.2f}'.format(lreg.score(x_test, y_test)))\n",
        "\n",
        "cross_val_scores = cross_val_score(lreg, x_train,y_train, cv=10,scoring='accuracy').mean()\n",
        "print('cross validation score',cross_val_scores)\n",
        "\n",
        "from sklearn.metrics import classification_report\n",
        "print(classification_report(y_test, y_pred)) "
      ],
      "execution_count": 33,
      "outputs": [
        {
          "output_type": "stream",
          "text": [
            "1.0    769\n",
            "0.0    769\n",
            "dtype: int64\n",
            "Accuracy 0.92\n",
            "cross validation score 0.9005538248528904\n",
            "              precision    recall  f1-score   support\n",
            "\n",
            "         0.0       0.89      0.97      0.93       234\n",
            "         1.0       0.97      0.88      0.92       228\n",
            "\n",
            "    accuracy                           0.92       462\n",
            "   macro avg       0.93      0.92      0.92       462\n",
            "weighted avg       0.93      0.92      0.92       462\n",
            "\n"
          ],
          "name": "stdout"
        },
        {
          "output_type": "stream",
          "text": [
            "/usr/local/lib/python3.6/dist-packages/sklearn/utils/deprecation.py:87: FutureWarning: Function safe_indexing is deprecated; safe_indexing is deprecated in version 0.22 and will be removed in version 0.24.\n",
            "  warnings.warn(msg, category=FutureWarning)\n"
          ],
          "name": "stderr"
        }
      ]
    },
    {
      "cell_type": "code",
      "metadata": {
        "id": "oJElBdBROmQA",
        "outputId": "4b03470a-f54e-40f7-bde8-6c0b12e0b237",
        "colab": {
          "base_uri": "https://localhost:8080/",
          "height": 513
        }
      },
      "source": [
        "from sklearn.metrics import roc_auc_score\n",
        "from sklearn.metrics import roc_curve\n",
        "logit_roc_auc = roc_auc_score(y_test, lreg.predict(x_test))\n",
        "fpr, tpr, thresholds = roc_curve(y_test, lreg.predict_proba(x_test)[:,1])\n",
        "plt.figure(figsize=(13,8))\n",
        "plt.plot(fpr, tpr, label='Logistic Regression (area = %0.2f)' % logit_roc_auc)\n",
        "plt.plot([0, 1], [0, 1],'r--')\n",
        "plt.xlim([0.0, 1.0])\n",
        "plt.ylim([0.0, 1.05])\n",
        "plt.xlabel('False Positive Rate')\n",
        "plt.ylabel('True Positive Rate')\n",
        "plt.title('Receiver operating characteristic')\n",
        "plt.legend(loc=\"lower right\")\n",
        "plt.savefig('Log_ROC')\n",
        "plt.show()"
      ],
      "execution_count": 34,
      "outputs": [
        {
          "output_type": "display_data",
          "data": {
            "image/png": "[encoded data removed]",
            "text/plain": [
              "<Figure size 936x576 with 1 Axes>"
            ]
          },
          "metadata": {
            "tags": [],
            "needs_background": "light"
          }
        }
      ]
    },
    {
      "cell_type": "code",
      "metadata": {
        "id": "USEHuwPmQaRJ",
        "outputId": "78c5ce46-0e97-463c-c5a7-7905b7f0a558",
        "colab": {
          "base_uri": "https://localhost:8080/",
          "height": 34
        }
      },
      "source": [
        "print(len(df),len(df_train))"
      ],
      "execution_count": 37,
      "outputs": [
        {
          "output_type": "stream",
          "text": [
            "1551 928\n"
          ],
          "name": "stdout"
        }
      ]
    },
    {
      "cell_type": "code",
      "metadata": {
        "id": "x4a2Tr3jQetb",
        "outputId": "e5fe132f-938c-4aa3-9387-3ae30b9f2cb7",
        "colab": {
          "base_uri": "https://localhost:8080/",
          "height": 34
        }
      },
      "source": [
        "df_train = df.copy()\n",
        "print(len(df_train))"
      ],
      "execution_count": 38,
      "outputs": [
        {
          "output_type": "stream",
          "text": [
            "1551\n"
          ],
          "name": "stdout"
        }
      ]
    },
    {
      "cell_type": "code",
      "metadata": {
        "id": "ZtPmy1KAO4D6",
        "outputId": "e3646c83-c841-47d1-e841-6dd1e5baa9b0",
        "colab": {
          "base_uri": "https://localhost:8080/",
          "height": 267
        }
      },
      "source": [
        "# Import label encoder \n",
        "from sklearn import preprocessing\n",
        "label_encoder = preprocessing.LabelEncoder()\n",
        "df_train.can_off= label_encoder.fit_transform(df_train.can_off) \n",
        "df_train.head()"
      ],
      "execution_count": 39,
      "outputs": [
        {
          "output_type": "execute_result",
          "data": {
            "text/html": [
              "<div>\n",
              "<style scoped>\n",
              "    .dataframe tbody tr th:only-of-type {\n",
              "        vertical-align: middle;\n",
              "    }\n",
              "\n",
              "    .dataframe tbody tr th {\n",
              "        vertical-align: top;\n",
              "    }\n",
              "\n",
              "    .dataframe thead th {\n",
              "        text-align: right;\n",
              "    }\n",
              "</style>\n",
              "<table border=\"1\" class=\"dataframe\">\n",
              "  <thead>\n",
              "    <tr style=\"text-align: right;\">\n",
              "      <th></th>\n",
              "      <th>can_id</th>\n",
              "      <th>can_nam</th>\n",
              "      <th>can_off</th>\n",
              "      <th>can_off_sta</th>\n",
              "      <th>can_off_dis</th>\n",
              "      <th>can_par_aff</th>\n",
              "      <th>can_inc_cha_ope_sea</th>\n",
              "      <th>can_cit</th>\n",
              "      <th>can_sta</th>\n",
              "      <th>can_zip</th>\n",
              "      <th>cov_sta_dat</th>\n",
              "      <th>cov_end_dat</th>\n",
              "      <th>ind_con</th>\n",
              "      <th>net_ope_exp</th>\n",
              "      <th>tot_con</th>\n",
              "      <th>tot_dis</th>\n",
              "      <th>net_con</th>\n",
              "      <th>ope_exp</th>\n",
              "      <th>tot_rec</th>\n",
              "      <th>winner</th>\n",
              "    </tr>\n",
              "  </thead>\n",
              "  <tbody>\n",
              "    <tr>\n",
              "      <th>0</th>\n",
              "      <td>H2GA12121</td>\n",
              "      <td>ALLEN, RICHARD W</td>\n",
              "      <td>0</td>\n",
              "      <td>GA</td>\n",
              "      <td>12.0</td>\n",
              "      <td>REP</td>\n",
              "      <td>INCUMBENT</td>\n",
              "      <td>AUGUSTA</td>\n",
              "      <td>GA</td>\n",
              "      <td>30904.0</td>\n",
              "      <td>1/1/2015</td>\n",
              "      <td>10/19/2016</td>\n",
              "      <td>601274.50</td>\n",
              "      <td>907156.21</td>\n",
              "      <td>1074949.50</td>\n",
              "      <td>978518.98</td>\n",
              "      <td>1074949.50</td>\n",
              "      <td>908518.98</td>\n",
              "      <td>1094022.76</td>\n",
              "      <td>1.0</td>\n",
              "    </tr>\n",
              "    <tr>\n",
              "      <th>1</th>\n",
              "      <td>H6PA02171</td>\n",
              "      <td>EVANS, DWIGHT</td>\n",
              "      <td>0</td>\n",
              "      <td>PA</td>\n",
              "      <td>2.0</td>\n",
              "      <td>DEM</td>\n",
              "      <td>CHALLENGER</td>\n",
              "      <td>PHILADELPHIA</td>\n",
              "      <td>PA</td>\n",
              "      <td>19138.0</td>\n",
              "      <td>11/2/2015</td>\n",
              "      <td>10/19/2016</td>\n",
              "      <td>1114711.02</td>\n",
              "      <td>1298831.83</td>\n",
              "      <td>1417545.22</td>\n",
              "      <td>1313583.69</td>\n",
              "      <td>1406719.06</td>\n",
              "      <td>1300557.53</td>\n",
              "      <td>1419270.92</td>\n",
              "      <td>1.0</td>\n",
              "    </tr>\n",
              "    <tr>\n",
              "      <th>2</th>\n",
              "      <td>H6FL04105</td>\n",
              "      <td>RUTHERFORD, JOHN</td>\n",
              "      <td>0</td>\n",
              "      <td>FL</td>\n",
              "      <td>4.0</td>\n",
              "      <td>REP</td>\n",
              "      <td>OPEN</td>\n",
              "      <td>JACKSONVILLE</td>\n",
              "      <td>FL</td>\n",
              "      <td>32224.0</td>\n",
              "      <td>4/1/2016</td>\n",
              "      <td>10/19/2016</td>\n",
              "      <td>542105.38</td>\n",
              "      <td>656210.29</td>\n",
              "      <td>650855.38</td>\n",
              "      <td>675642.76</td>\n",
              "      <td>650855.38</td>\n",
              "      <td>656642.76</td>\n",
              "      <td>711287.85</td>\n",
              "      <td>1.0</td>\n",
              "    </tr>\n",
              "    <tr>\n",
              "      <th>3</th>\n",
              "      <td>H4MT01041</td>\n",
              "      <td>ZINKE, RYAN K</td>\n",
              "      <td>0</td>\n",
              "      <td>MT</td>\n",
              "      <td>0.0</td>\n",
              "      <td>REP</td>\n",
              "      <td>INCUMBENT</td>\n",
              "      <td>WHITEFISH</td>\n",
              "      <td>MT</td>\n",
              "      <td>599373010.0</td>\n",
              "      <td>1/1/2015</td>\n",
              "      <td>10/19/2016</td>\n",
              "      <td>4317331.58</td>\n",
              "      <td>5055942.15</td>\n",
              "      <td>4980915.41</td>\n",
              "      <td>5200630.00</td>\n",
              "      <td>4938943.74</td>\n",
              "      <td>5073110.33</td>\n",
              "      <td>5190887.78</td>\n",
              "      <td>1.0</td>\n",
              "    </tr>\n",
              "    <tr>\n",
              "      <th>4</th>\n",
              "      <td>H8CA09060</td>\n",
              "      <td>LEE, BARBARA</td>\n",
              "      <td>0</td>\n",
              "      <td>CA</td>\n",
              "      <td>13.0</td>\n",
              "      <td>DEM</td>\n",
              "      <td>INCUMBENT</td>\n",
              "      <td>OAKLAND</td>\n",
              "      <td>CA</td>\n",
              "      <td>94612.0</td>\n",
              "      <td>1/1/2015</td>\n",
              "      <td>10/19/2016</td>\n",
              "      <td>897123.61</td>\n",
              "      <td>949488.98</td>\n",
              "      <td>1205863.61</td>\n",
              "      <td>1112163.94</td>\n",
              "      <td>1197676.61</td>\n",
              "      <td>953436.94</td>\n",
              "      <td>1209811.57</td>\n",
              "      <td>1.0</td>\n",
              "    </tr>\n",
              "  </tbody>\n",
              "</table>\n",
              "</div>"
            ],
            "text/plain": [
              "      can_id           can_nam  can_off  ...     ope_exp     tot_rec winner\n",
              "0  H2GA12121  ALLEN, RICHARD W        0  ...   908518.98  1094022.76    1.0\n",
              "1  H6PA02171     EVANS, DWIGHT        0  ...  1300557.53  1419270.92    1.0\n",
              "2  H6FL04105  RUTHERFORD, JOHN        0  ...   656642.76   711287.85    1.0\n",
              "3  H4MT01041     ZINKE, RYAN K        0  ...  5073110.33  5190887.78    1.0\n",
              "4  H8CA09060      LEE, BARBARA        0  ...   953436.94  1209811.57    1.0\n",
              "\n",
              "[5 rows x 20 columns]"
            ]
          },
          "metadata": {
            "tags": []
          },
          "execution_count": 39
        }
      ]
    },
    {
      "cell_type": "code",
      "metadata": {
        "id": "4RI1RvXGPA8O",
        "outputId": "ae28ba65-fe7e-409c-d790-d7bc250eb294",
        "colab": {
          "base_uri": "https://localhost:8080/",
          "height": 321
        }
      },
      "source": [
        "x = df_train[['ind_con','net_ope_exp',\t'tot_con', 'tot_dis',\t'net_con',\t'ope_exp','tot_rec','can_off']]\n",
        "y = df_train.winner\n",
        "\n",
        "x_train, x_test, y_train, y_test = train_test_split(x, y, test_size=0.3, random_state=1)\n",
        "\n",
        "\n",
        "from imblearn.over_sampling import SMOTE\n",
        "sm = SMOTE(random_state=0)\n",
        "columns = x_train.columns\n",
        "sm_x,sm_y=sm.fit_sample(x_train, y_train)\n",
        "sm_x = pd.DataFrame(data=sm_x,columns=columns )\n",
        "sm_y= pd.Series(data=sm_y)\n",
        "\n",
        "print(sm_y.value_counts())\n",
        "\n",
        "from sklearn.model_selection import train_test_split,cross_val_score\n",
        "from sklearn.linear_model import LogisticRegression\n",
        "from sklearn.preprocessing import StandardScaler  \n",
        "\n",
        "x_train, x_test, y_train, y_test = train_test_split(sm_x, sm_y, test_size=0.3, random_state=0)\n",
        "ss = StandardScaler() \n",
        "x_train = ss.fit_transform(x_train) \n",
        "x_train = pd.DataFrame(x_train)\n",
        "x_test = ss.transform(x_test)\n",
        "\n",
        "lreg = LogisticRegression()\n",
        "lreg.fit(x_train, y_train)\n",
        "y_pred = lreg.predict(x_test)\n",
        "print('Accuracy {:.2f}'.format(lreg.score(x_test, y_test)))\n",
        "\n",
        "cross_val_scores = cross_val_score(lreg, x_train,y_train, cv=10,scoring='accuracy').mean()\n",
        "print('cross validation score',cross_val_scores)\n",
        "\n",
        "from sklearn.metrics import classification_report\n",
        "print(classification_report(y_test, y_pred)) "
      ],
      "execution_count": 47,
      "outputs": [
        {
          "output_type": "stream",
          "text": [
            "1.0    753\n",
            "0.0    753\n",
            "dtype: int64\n",
            "Accuracy 0.91\n",
            "cross validation score 0.8908176100628932\n",
            "              precision    recall  f1-score   support\n",
            "\n",
            "         0.0       0.88      0.94      0.91       217\n",
            "         1.0       0.94      0.89      0.91       235\n",
            "\n",
            "    accuracy                           0.91       452\n",
            "   macro avg       0.91      0.91      0.91       452\n",
            "weighted avg       0.91      0.91      0.91       452\n",
            "\n"
          ],
          "name": "stdout"
        },
        {
          "output_type": "stream",
          "text": [
            "/usr/local/lib/python3.6/dist-packages/sklearn/utils/deprecation.py:87: FutureWarning: Function safe_indexing is deprecated; safe_indexing is deprecated in version 0.22 and will be removed in version 0.24.\n",
            "  warnings.warn(msg, category=FutureWarning)\n"
          ],
          "name": "stderr"
        }
      ]
    },
    {
      "cell_type": "code",
      "metadata": {
        "id": "nSy7zJ6ePg2B",
        "outputId": "09e4a8f2-7407-4f69-b2a2-1f1be75d7913",
        "colab": {
          "base_uri": "https://localhost:8080/",
          "height": 285
        }
      },
      "source": [
        "df_train2 = df_train.copy()\n",
        "print(len(df_train2))\n",
        "# Import label encoder \n",
        "from sklearn import preprocessing\n",
        "label_encoder = preprocessing.LabelEncoder()\n",
        "df_train2.can_inc_cha_ope_sea= label_encoder.fit_transform(df_train2.can_inc_cha_ope_sea) \n",
        "df_train2.head()"
      ],
      "execution_count": 48,
      "outputs": [
        {
          "output_type": "stream",
          "text": [
            "1551\n"
          ],
          "name": "stdout"
        },
        {
          "output_type": "execute_result",
          "data": {
            "text/html": [
              "<div>\n",
              "<style scoped>\n",
              "    .dataframe tbody tr th:only-of-type {\n",
              "        vertical-align: middle;\n",
              "    }\n",
              "\n",
              "    .dataframe tbody tr th {\n",
              "        vertical-align: top;\n",
              "    }\n",
              "\n",
              "    .dataframe thead th {\n",
              "        text-align: right;\n",
              "    }\n",
              "</style>\n",
              "<table border=\"1\" class=\"dataframe\">\n",
              "  <thead>\n",
              "    <tr style=\"text-align: right;\">\n",
              "      <th></th>\n",
              "      <th>can_id</th>\n",
              "      <th>can_nam</th>\n",
              "      <th>can_off</th>\n",
              "      <th>can_off_sta</th>\n",
              "      <th>can_off_dis</th>\n",
              "      <th>can_par_aff</th>\n",
              "      <th>can_inc_cha_ope_sea</th>\n",
              "      <th>can_cit</th>\n",
              "      <th>can_sta</th>\n",
              "      <th>can_zip</th>\n",
              "      <th>cov_sta_dat</th>\n",
              "      <th>cov_end_dat</th>\n",
              "      <th>ind_con</th>\n",
              "      <th>net_ope_exp</th>\n",
              "      <th>tot_con</th>\n",
              "      <th>tot_dis</th>\n",
              "      <th>net_con</th>\n",
              "      <th>ope_exp</th>\n",
              "      <th>tot_rec</th>\n",
              "      <th>winner</th>\n",
              "    </tr>\n",
              "  </thead>\n",
              "  <tbody>\n",
              "    <tr>\n",
              "      <th>0</th>\n",
              "      <td>H2GA12121</td>\n",
              "      <td>ALLEN, RICHARD W</td>\n",
              "      <td>0</td>\n",
              "      <td>GA</td>\n",
              "      <td>12.0</td>\n",
              "      <td>REP</td>\n",
              "      <td>1</td>\n",
              "      <td>AUGUSTA</td>\n",
              "      <td>GA</td>\n",
              "      <td>30904.0</td>\n",
              "      <td>1/1/2015</td>\n",
              "      <td>10/19/2016</td>\n",
              "      <td>601274.50</td>\n",
              "      <td>907156.21</td>\n",
              "      <td>1074949.50</td>\n",
              "      <td>978518.98</td>\n",
              "      <td>1074949.50</td>\n",
              "      <td>908518.98</td>\n",
              "      <td>1094022.76</td>\n",
              "      <td>1.0</td>\n",
              "    </tr>\n",
              "    <tr>\n",
              "      <th>1</th>\n",
              "      <td>H6PA02171</td>\n",
              "      <td>EVANS, DWIGHT</td>\n",
              "      <td>0</td>\n",
              "      <td>PA</td>\n",
              "      <td>2.0</td>\n",
              "      <td>DEM</td>\n",
              "      <td>0</td>\n",
              "      <td>PHILADELPHIA</td>\n",
              "      <td>PA</td>\n",
              "      <td>19138.0</td>\n",
              "      <td>11/2/2015</td>\n",
              "      <td>10/19/2016</td>\n",
              "      <td>1114711.02</td>\n",
              "      <td>1298831.83</td>\n",
              "      <td>1417545.22</td>\n",
              "      <td>1313583.69</td>\n",
              "      <td>1406719.06</td>\n",
              "      <td>1300557.53</td>\n",
              "      <td>1419270.92</td>\n",
              "      <td>1.0</td>\n",
              "    </tr>\n",
              "    <tr>\n",
              "      <th>2</th>\n",
              "      <td>H6FL04105</td>\n",
              "      <td>RUTHERFORD, JOHN</td>\n",
              "      <td>0</td>\n",
              "      <td>FL</td>\n",
              "      <td>4.0</td>\n",
              "      <td>REP</td>\n",
              "      <td>2</td>\n",
              "      <td>JACKSONVILLE</td>\n",
              "      <td>FL</td>\n",
              "      <td>32224.0</td>\n",
              "      <td>4/1/2016</td>\n",
              "      <td>10/19/2016</td>\n",
              "      <td>542105.38</td>\n",
              "      <td>656210.29</td>\n",
              "      <td>650855.38</td>\n",
              "      <td>675642.76</td>\n",
              "      <td>650855.38</td>\n",
              "      <td>656642.76</td>\n",
              "      <td>711287.85</td>\n",
              "      <td>1.0</td>\n",
              "    </tr>\n",
              "    <tr>\n",
              "      <th>3</th>\n",
              "      <td>H4MT01041</td>\n",
              "      <td>ZINKE, RYAN K</td>\n",
              "      <td>0</td>\n",
              "      <td>MT</td>\n",
              "      <td>0.0</td>\n",
              "      <td>REP</td>\n",
              "      <td>1</td>\n",
              "      <td>WHITEFISH</td>\n",
              "      <td>MT</td>\n",
              "      <td>599373010.0</td>\n",
              "      <td>1/1/2015</td>\n",
              "      <td>10/19/2016</td>\n",
              "      <td>4317331.58</td>\n",
              "      <td>5055942.15</td>\n",
              "      <td>4980915.41</td>\n",
              "      <td>5200630.00</td>\n",
              "      <td>4938943.74</td>\n",
              "      <td>5073110.33</td>\n",
              "      <td>5190887.78</td>\n",
              "      <td>1.0</td>\n",
              "    </tr>\n",
              "    <tr>\n",
              "      <th>4</th>\n",
              "      <td>H8CA09060</td>\n",
              "      <td>LEE, BARBARA</td>\n",
              "      <td>0</td>\n",
              "      <td>CA</td>\n",
              "      <td>13.0</td>\n",
              "      <td>DEM</td>\n",
              "      <td>1</td>\n",
              "      <td>OAKLAND</td>\n",
              "      <td>CA</td>\n",
              "      <td>94612.0</td>\n",
              "      <td>1/1/2015</td>\n",
              "      <td>10/19/2016</td>\n",
              "      <td>897123.61</td>\n",
              "      <td>949488.98</td>\n",
              "      <td>1205863.61</td>\n",
              "      <td>1112163.94</td>\n",
              "      <td>1197676.61</td>\n",
              "      <td>953436.94</td>\n",
              "      <td>1209811.57</td>\n",
              "      <td>1.0</td>\n",
              "    </tr>\n",
              "  </tbody>\n",
              "</table>\n",
              "</div>"
            ],
            "text/plain": [
              "      can_id           can_nam  can_off  ...     ope_exp     tot_rec winner\n",
              "0  H2GA12121  ALLEN, RICHARD W        0  ...   908518.98  1094022.76    1.0\n",
              "1  H6PA02171     EVANS, DWIGHT        0  ...  1300557.53  1419270.92    1.0\n",
              "2  H6FL04105  RUTHERFORD, JOHN        0  ...   656642.76   711287.85    1.0\n",
              "3  H4MT01041     ZINKE, RYAN K        0  ...  5073110.33  5190887.78    1.0\n",
              "4  H8CA09060      LEE, BARBARA        0  ...   953436.94  1209811.57    1.0\n",
              "\n",
              "[5 rows x 20 columns]"
            ]
          },
          "metadata": {
            "tags": []
          },
          "execution_count": 48
        }
      ]
    },
    {
      "cell_type": "code",
      "metadata": {
        "id": "SASo7VjVRlmE",
        "outputId": "a7ece854-8fd6-427b-9280-3fca32789148",
        "colab": {
          "base_uri": "https://localhost:8080/",
          "height": 321
        }
      },
      "source": [
        "x =df_train2[['ind_con','net_ope_exp',\t'tot_con', 'tot_dis',\t'net_con',\t'ope_exp',\t'tot_rec','can_off','can_inc_cha_ope_sea']]\n",
        "y = df_train2.winner\n",
        "\n",
        "x_train, x_test, y_train, y_test = train_test_split(x, y, test_size=0.3, random_state=1)\n",
        "\n",
        "\n",
        "from imblearn.over_sampling import SMOTE\n",
        "sm = SMOTE(random_state=0)\n",
        "columns = x_train.columns\n",
        "sm_x,sm_y=sm.fit_sample(x_train, y_train)\n",
        "sm_x = pd.DataFrame(data=sm_x,columns=columns )\n",
        "sm_y= pd.Series(data=sm_y)\n",
        "\n",
        "print(sm_y.value_counts())\n",
        "\n",
        "from sklearn.model_selection import train_test_split,cross_val_score\n",
        "from sklearn.linear_model import LogisticRegression\n",
        "from sklearn.preprocessing import StandardScaler  \n",
        "\n",
        "x_train, x_test, y_train, y_test = train_test_split(sm_x, sm_y, test_size=0.3, random_state=0)\n",
        "ss = StandardScaler() \n",
        "x_train = ss.fit_transform(x_train) \n",
        "x_train = pd.DataFrame(x_train)\n",
        "x_test = ss.transform(x_test)\n",
        "\n",
        "lreg = LogisticRegression()\n",
        "lreg.fit(x_train, y_train)\n",
        "y_pred = lreg.predict(x_test)\n",
        "print('Accuracy {:.2f}'.format(lreg.score(x_test, y_test)))\n",
        "\n",
        "cross_val_scores = cross_val_score(lreg, x_train,y_train, cv=10,scoring='accuracy').mean()\n",
        "print('cross validation score',cross_val_scores)\n",
        "\n",
        "from sklearn.metrics import classification_report\n",
        "print(classification_report(y_test, y_pred)) "
      ],
      "execution_count": 49,
      "outputs": [
        {
          "output_type": "stream",
          "text": [
            "/usr/local/lib/python3.6/dist-packages/sklearn/utils/deprecation.py:87: FutureWarning: Function safe_indexing is deprecated; safe_indexing is deprecated in version 0.22 and will be removed in version 0.24.\n",
            "  warnings.warn(msg, category=FutureWarning)\n"
          ],
          "name": "stderr"
        },
        {
          "output_type": "stream",
          "text": [
            "1.0    753\n",
            "0.0    753\n",
            "dtype: int64\n",
            "Accuracy 0.91\n",
            "cross validation score 0.8946361185983829\n",
            "              precision    recall  f1-score   support\n",
            "\n",
            "         0.0       0.90      0.92      0.91       217\n",
            "         1.0       0.93      0.90      0.91       235\n",
            "\n",
            "    accuracy                           0.91       452\n",
            "   macro avg       0.91      0.91      0.91       452\n",
            "weighted avg       0.91      0.91      0.91       452\n",
            "\n"
          ],
          "name": "stdout"
        }
      ]
    },
    {
      "cell_type": "code",
      "metadata": {
        "id": "H4sAX2AIR0zi"
      },
      "source": [
        ""
      ],
      "execution_count": null,
      "outputs": []
    }
  ]
}