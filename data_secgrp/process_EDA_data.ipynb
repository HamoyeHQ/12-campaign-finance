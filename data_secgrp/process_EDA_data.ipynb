{
 "cells": [
  {
   "cell_type": "markdown",
   "metadata": {},
   "source": [
    "# Import libraries "
   ]
  },
  {
   "cell_type": "code",
   "execution_count": 3,
   "metadata": {},
   "outputs": [],
   "source": [
    "import pandas as pd\n",
    "import numpy as np\n",
    "import matplotlib.pyplot as plt\n",
    "import seaborn as sns\n",
    "import missingno as msn"
   ]
  },
  {
   "cell_type": "code",
   "execution_count": 4,
   "metadata": {
    "scrolled": true
   },
   "outputs": [
    {
     "data": {
      "text/html": [
       "<div>\n",
       "<style scoped>\n",
       "    .dataframe tbody tr th:only-of-type {\n",
       "        vertical-align: middle;\n",
       "    }\n",
       "\n",
       "    .dataframe tbody tr th {\n",
       "        vertical-align: top;\n",
       "    }\n",
       "\n",
       "    .dataframe thead th {\n",
       "        text-align: right;\n",
       "    }\n",
       "</style>\n",
       "<table border=\"1\" class=\"dataframe\">\n",
       "  <thead>\n",
       "    <tr style=\"text-align: right;\">\n",
       "      <th></th>\n",
       "      <th>can_id</th>\n",
       "      <th>can_nam</th>\n",
       "      <th>can_off</th>\n",
       "      <th>can_off_sta</th>\n",
       "      <th>can_off_dis</th>\n",
       "      <th>can_par_aff</th>\n",
       "      <th>can_inc_cha_ope_sea</th>\n",
       "      <th>can_str1</th>\n",
       "      <th>can_str2</th>\n",
       "      <th>can_cit</th>\n",
       "      <th>...</th>\n",
       "      <th>cas_on_han_beg_of_per</th>\n",
       "      <th>cas_on_han_clo_of_per</th>\n",
       "      <th>net_con</th>\n",
       "      <th>net_ope_exp</th>\n",
       "      <th>deb_owe_by_com</th>\n",
       "      <th>deb_owe_to_com</th>\n",
       "      <th>cov_sta_dat</th>\n",
       "      <th>cov_end_dat</th>\n",
       "      <th>winner</th>\n",
       "      <th>votes</th>\n",
       "    </tr>\n",
       "  </thead>\n",
       "  <tbody>\n",
       "    <tr>\n",
       "      <th>0</th>\n",
       "      <td>H2GA12121</td>\n",
       "      <td>ALLEN, RICHARD W</td>\n",
       "      <td>H</td>\n",
       "      <td>GA</td>\n",
       "      <td>12.0</td>\n",
       "      <td>REP</td>\n",
       "      <td>INCUMBENT</td>\n",
       "      <td>2237 PICKENS RD</td>\n",
       "      <td>NaN</td>\n",
       "      <td>AUGUSTA</td>\n",
       "      <td>...</td>\n",
       "      <td>$60,109.57</td>\n",
       "      <td>$175,613.35</td>\n",
       "      <td>$1,074,949.50</td>\n",
       "      <td>$907,156.21</td>\n",
       "      <td>$1,125,000.00</td>\n",
       "      <td>NaN</td>\n",
       "      <td>1/1/2015</td>\n",
       "      <td>10/19/2016</td>\n",
       "      <td>Y</td>\n",
       "      <td>158708.0</td>\n",
       "    </tr>\n",
       "    <tr>\n",
       "      <th>1</th>\n",
       "      <td>H6PA02171</td>\n",
       "      <td>EVANS, DWIGHT</td>\n",
       "      <td>H</td>\n",
       "      <td>PA</td>\n",
       "      <td>2.0</td>\n",
       "      <td>DEM</td>\n",
       "      <td>CHALLENGER</td>\n",
       "      <td>PO BOX 6578</td>\n",
       "      <td>NaN</td>\n",
       "      <td>PHILADELPHIA</td>\n",
       "      <td>...</td>\n",
       "      <td>NaN</td>\n",
       "      <td>$105,687.23</td>\n",
       "      <td>$1,406,719.06</td>\n",
       "      <td>$1,298,831.83</td>\n",
       "      <td>NaN</td>\n",
       "      <td>NaN</td>\n",
       "      <td>11/2/2015</td>\n",
       "      <td>10/19/2016</td>\n",
       "      <td>Y</td>\n",
       "      <td>310770.0</td>\n",
       "    </tr>\n",
       "    <tr>\n",
       "      <th>2</th>\n",
       "      <td>H6FL04105</td>\n",
       "      <td>RUTHERFORD, JOHN</td>\n",
       "      <td>H</td>\n",
       "      <td>FL</td>\n",
       "      <td>4.0</td>\n",
       "      <td>REP</td>\n",
       "      <td>OPEN</td>\n",
       "      <td>3817 VICKERS LAKE DRIVE</td>\n",
       "      <td>NaN</td>\n",
       "      <td>JACKSONVILLE</td>\n",
       "      <td>...</td>\n",
       "      <td>NaN</td>\n",
       "      <td>$35,645.09</td>\n",
       "      <td>$650,855.38</td>\n",
       "      <td>$656,210.29</td>\n",
       "      <td>$60,000.00</td>\n",
       "      <td>NaN</td>\n",
       "      <td>4/1/2016</td>\n",
       "      <td>10/19/2016</td>\n",
       "      <td>Y</td>\n",
       "      <td>286018.0</td>\n",
       "    </tr>\n",
       "    <tr>\n",
       "      <th>3</th>\n",
       "      <td>H4MT01041</td>\n",
       "      <td>ZINKE, RYAN K</td>\n",
       "      <td>H</td>\n",
       "      <td>MT</td>\n",
       "      <td>0.0</td>\n",
       "      <td>REP</td>\n",
       "      <td>INCUMBENT</td>\n",
       "      <td>409 2ND ST W</td>\n",
       "      <td>NaN</td>\n",
       "      <td>WHITEFISH</td>\n",
       "      <td>...</td>\n",
       "      <td>$83,815.78</td>\n",
       "      <td>$399,122.61</td>\n",
       "      <td>$4,938,943.74</td>\n",
       "      <td>$5,055,942.15</td>\n",
       "      <td>NaN</td>\n",
       "      <td>NaN</td>\n",
       "      <td>1/1/2015</td>\n",
       "      <td>10/19/2016</td>\n",
       "      <td>Y</td>\n",
       "      <td>280476.0</td>\n",
       "    </tr>\n",
       "    <tr>\n",
       "      <th>4</th>\n",
       "      <td>H8CA09060</td>\n",
       "      <td>LEE, BARBARA</td>\n",
       "      <td>H</td>\n",
       "      <td>CA</td>\n",
       "      <td>13.0</td>\n",
       "      <td>DEM</td>\n",
       "      <td>INCUMBENT</td>\n",
       "      <td>409 13TH ST, 17TH FL</td>\n",
       "      <td>NaN</td>\n",
       "      <td>OAKLAND</td>\n",
       "      <td>...</td>\n",
       "      <td>$83,690.60</td>\n",
       "      <td>$181,338.23</td>\n",
       "      <td>$1,197,676.61</td>\n",
       "      <td>$949,488.98</td>\n",
       "      <td>$4,401.75</td>\n",
       "      <td>NaN</td>\n",
       "      <td>1/1/2015</td>\n",
       "      <td>10/19/2016</td>\n",
       "      <td>Y</td>\n",
       "      <td>277390.0</td>\n",
       "    </tr>\n",
       "  </tbody>\n",
       "</table>\n",
       "<p>5 rows × 51 columns</p>\n",
       "</div>"
      ],
      "text/plain": [
       "      can_id           can_nam can_off can_off_sta  can_off_dis can_par_aff  \\\n",
       "0  H2GA12121  ALLEN, RICHARD W       H          GA         12.0         REP   \n",
       "1  H6PA02171     EVANS, DWIGHT       H          PA          2.0         DEM   \n",
       "2  H6FL04105  RUTHERFORD, JOHN       H          FL          4.0         REP   \n",
       "3  H4MT01041     ZINKE, RYAN K       H          MT          0.0         REP   \n",
       "4  H8CA09060      LEE, BARBARA       H          CA         13.0         DEM   \n",
       "\n",
       "  can_inc_cha_ope_sea                 can_str1 can_str2       can_cit  ...  \\\n",
       "0           INCUMBENT          2237 PICKENS RD      NaN       AUGUSTA  ...   \n",
       "1          CHALLENGER              PO BOX 6578      NaN  PHILADELPHIA  ...   \n",
       "2                OPEN  3817 VICKERS LAKE DRIVE      NaN  JACKSONVILLE  ...   \n",
       "3           INCUMBENT             409 2ND ST W      NaN     WHITEFISH  ...   \n",
       "4           INCUMBENT     409 13TH ST, 17TH FL      NaN       OAKLAND  ...   \n",
       "\n",
       "  cas_on_han_beg_of_per  cas_on_han_clo_of_per         net_con  \\\n",
       "0           $60,109.57            $175,613.35   $1,074,949.50    \n",
       "1                   NaN           $105,687.23   $1,406,719.06    \n",
       "2                   NaN            $35,645.09     $650,855.38    \n",
       "3           $83,815.78            $399,122.61   $4,938,943.74    \n",
       "4           $83,690.60            $181,338.23   $1,197,676.61    \n",
       "\n",
       "      net_ope_exp  deb_owe_by_com deb_owe_to_com cov_sta_dat cov_end_dat  \\\n",
       "0    $907,156.21   $1,125,000.00             NaN    1/1/2015  10/19/2016   \n",
       "1  $1,298,831.83              NaN            NaN   11/2/2015  10/19/2016   \n",
       "2    $656,210.29      $60,000.00             NaN    4/1/2016  10/19/2016   \n",
       "3  $5,055,942.15              NaN            NaN    1/1/2015  10/19/2016   \n",
       "4    $949,488.98       $4,401.75             NaN    1/1/2015  10/19/2016   \n",
       "\n",
       "  winner     votes  \n",
       "0      Y  158708.0  \n",
       "1      Y  310770.0  \n",
       "2      Y  286018.0  \n",
       "3      Y  280476.0  \n",
       "4      Y  277390.0  \n",
       "\n",
       "[5 rows x 51 columns]"
      ]
     },
     "execution_count": 4,
     "metadata": {},
     "output_type": "execute_result"
    }
   ],
   "source": [
    "original_data = pd.read_csv(\"./original_data.csv\")\n",
    "original_data.head()"
   ]
  },
  {
   "cell_type": "code",
   "execution_count": 5,
   "metadata": {},
   "outputs": [
    {
     "data": {
      "text/plain": [
       "(1814, 51)"
      ]
     },
     "execution_count": 5,
     "metadata": {},
     "output_type": "execute_result"
    }
   ],
   "source": [
    "original_data.shape"
   ]
  },
  {
   "cell_type": "code",
   "execution_count": 6,
   "metadata": {
    "scrolled": true
   },
   "outputs": [
    {
     "name": "stdout",
     "output_type": "stream",
     "text": [
      "<class 'pandas.core.frame.DataFrame'>\n",
      "RangeIndex: 1814 entries, 0 to 1813\n",
      "Data columns (total 51 columns):\n",
      " #   Column                 Non-Null Count  Dtype  \n",
      "---  ------                 --------------  -----  \n",
      " 0   can_id                 1814 non-null   object \n",
      " 1   can_nam                1814 non-null   object \n",
      " 2   can_off                1814 non-null   object \n",
      " 3   can_off_sta            1814 non-null   object \n",
      " 4   can_off_dis            1812 non-null   float64\n",
      " 5   can_par_aff            1813 non-null   object \n",
      " 6   can_inc_cha_ope_sea    1812 non-null   object \n",
      " 7   can_str1               1789 non-null   object \n",
      " 8   can_str2               122 non-null    object \n",
      " 9   can_cit                1813 non-null   object \n",
      " 10  can_sta                1806 non-null   object \n",
      " 11  can_zip                1789 non-null   float64\n",
      " 12  ind_ite_con            1570 non-null   object \n",
      " 13  ind_uni_con            1538 non-null   object \n",
      " 14  ind_con                1616 non-null   object \n",
      " 15  par_com_con            382 non-null    object \n",
      " 16  oth_com_con            1011 non-null   object \n",
      " 17  can_con                675 non-null    object \n",
      " 18  tot_con                1695 non-null   object \n",
      " 19  tra_fro_oth_aut_com    261 non-null    object \n",
      " 20  can_loa                640 non-null    object \n",
      " 21  oth_loa                67 non-null     object \n",
      " 22  tot_loa                653 non-null    object \n",
      " 23  off_to_ope_exp         763 non-null    object \n",
      " 24  off_to_fun             4 non-null      object \n",
      " 25  off_to_leg_acc         1 non-null      object \n",
      " 26  oth_rec                534 non-null    object \n",
      " 27  tot_rec                1721 non-null   object \n",
      " 28  ope_exp                1717 non-null   object \n",
      " 29  exe_leg_acc_dis        6 non-null      object \n",
      " 30  fun_dis                15 non-null     object \n",
      " 31  tra_to_oth_aut_com     153 non-null    object \n",
      " 32  can_loa_rep            294 non-null    object \n",
      " 33  oth_loa_rep            33 non-null     object \n",
      " 34  tot_loa_rep            306 non-null    object \n",
      " 35  ind_ref                831 non-null    object \n",
      " 36  par_com_ref            24 non-null     object \n",
      " 37  oth_com_ref            362 non-null    object \n",
      " 38  tot_con_ref            872 non-null    object \n",
      " 39  oth_dis                795 non-null    object \n",
      " 40  tot_dis                1730 non-null   object \n",
      " 41  cas_on_han_beg_of_per  700 non-null    object \n",
      " 42  cas_on_han_clo_of_per  1434 non-null   object \n",
      " 43  net_con                1643 non-null   object \n",
      " 44  net_ope_exp            1665 non-null   object \n",
      " 45  deb_owe_by_com         732 non-null    object \n",
      " 46  deb_owe_to_com         23 non-null     object \n",
      " 47  cov_sta_dat            1814 non-null   object \n",
      " 48  cov_end_dat            1814 non-null   object \n",
      " 49  winner                 471 non-null    object \n",
      " 50  votes                  379 non-null    float64\n",
      "dtypes: float64(3), object(48)\n",
      "memory usage: 722.9+ KB\n"
     ]
    }
   ],
   "source": [
    "original_data.info()"
   ]
  },
  {
   "cell_type": "code",
   "execution_count": 7,
   "metadata": {},
   "outputs": [
    {
     "data": {
      "text/plain": [
       "<matplotlib.axes._subplots.AxesSubplot at 0x26fc5efd988>"
      ]
     },
     "execution_count": 7,
     "metadata": {},
     "output_type": "execute_result"
    },
    {
     "data": {
      "image/png": "[encoded data removed]",
      "text/plain": [
       "<Figure size 1800x720 with 2 Axes>"
      ]
     },
     "metadata": {
      "needs_background": "light"
     },
     "output_type": "display_data"
    }
   ],
   "source": [
    "msn.matrix(original_data)"
   ]
  },
  {
   "cell_type": "code",
   "execution_count": 8,
   "metadata": {},
   "outputs": [],
   "source": [
    "#process date values\n",
    "\n",
    "original_data['cov_sta_dat'] = pd.to_datetime(original_data['cov_sta_dat'])\n",
    "original_data['cov_end_dat'] = pd.to_datetime(original_data['cov_end_dat'])\n",
    "\n",
    "original_data['campaign_duration'] = (original_data['cov_end_dat'] - original_data['cov_sta_dat']).dt.days"
   ]
  },
  {
   "cell_type": "markdown",
   "metadata": {},
   "source": [
    "**Observation** \n",
    "1. data contains messy features \n",
    "2. create a function to deal with features with high percentage of missing data"
   ]
  },
  {
   "cell_type": "code",
   "execution_count": 9,
   "metadata": {},
   "outputs": [],
   "source": [
    "#create a function to check all columns with missing data greater than 90% and drop them\n",
    "\n",
    "def process_missing_data(data, threshold, inplace_value):\n",
    "    #create a list to hold columns with missing value above threshold\n",
    "    drop_cols = []\n",
    "    \n",
    "    #create a variable to store all columns in the dataframe\n",
    "    all_cols = data.columns\n",
    "    \n",
    "    #calculate all columns with missing values percentage greater than the threshold\n",
    "    missing_percentage = (data[all_cols].isna().sum()/len(data))*100\n",
    "    \n",
    "    #create a dataframe to store all candidate columns and their percentage\n",
    "    missing_df = pd.DataFrame({\"cols\":all_cols, \"percentage\":missing_percentage})\n",
    "    \n",
    "    #check for threshold condition\n",
    "    missing_filtered = missing_df[missing_df['percentage'] >= threshold] \n",
    "    drop_cols.append(missing_filtered[\"cols\"].tolist())\n",
    "    \n",
    "    #drop candidate columns\n",
    "    drop_cols = drop_cols[0]\n",
    "    data.drop(columns=drop_cols, inplace= inplace_value)\n",
    "    \n",
    "    return data.shape\n"
   ]
  },
  {
   "cell_type": "code",
   "execution_count": 10,
   "metadata": {},
   "outputs": [
    {
     "data": {
      "text/plain": [
       "(1814, 42)"
      ]
     },
     "execution_count": 10,
     "metadata": {},
     "output_type": "execute_result"
    }
   ],
   "source": [
    "#call function on data\n",
    "process_missing_data(data=original_data, threshold=90, inplace_value=True)"
   ]
  },
  {
   "cell_type": "markdown",
   "metadata": {},
   "source": [
    "**Research information**\n",
    "* The key finance feature is the net_ope_exp feature as it contains the total money spent during campaign leading up to the 2016 election"
   ]
  },
  {
   "cell_type": "code",
   "execution_count": 11,
   "metadata": {},
   "outputs": [
    {
     "data": {
      "text/html": [
       "<div>\n",
       "<style scoped>\n",
       "    .dataframe tbody tr th:only-of-type {\n",
       "        vertical-align: middle;\n",
       "    }\n",
       "\n",
       "    .dataframe tbody tr th {\n",
       "        vertical-align: top;\n",
       "    }\n",
       "\n",
       "    .dataframe thead th {\n",
       "        text-align: right;\n",
       "    }\n",
       "</style>\n",
       "<table border=\"1\" class=\"dataframe\">\n",
       "  <thead>\n",
       "    <tr style=\"text-align: right;\">\n",
       "      <th></th>\n",
       "      <th>can_id</th>\n",
       "      <th>can_nam</th>\n",
       "      <th>can_off</th>\n",
       "      <th>can_off_sta</th>\n",
       "      <th>can_off_dis</th>\n",
       "      <th>can_par_aff</th>\n",
       "      <th>can_inc_cha_ope_sea</th>\n",
       "      <th>can_str1</th>\n",
       "      <th>can_cit</th>\n",
       "      <th>can_sta</th>\n",
       "      <th>...</th>\n",
       "      <th>cas_on_han_beg_of_per</th>\n",
       "      <th>cas_on_han_clo_of_per</th>\n",
       "      <th>net_con</th>\n",
       "      <th>net_ope_exp</th>\n",
       "      <th>deb_owe_by_com</th>\n",
       "      <th>cov_sta_dat</th>\n",
       "      <th>cov_end_dat</th>\n",
       "      <th>winner</th>\n",
       "      <th>votes</th>\n",
       "      <th>campaign_duration</th>\n",
       "    </tr>\n",
       "  </thead>\n",
       "  <tbody>\n",
       "    <tr>\n",
       "      <th>0</th>\n",
       "      <td>H2GA12121</td>\n",
       "      <td>ALLEN, RICHARD W</td>\n",
       "      <td>H</td>\n",
       "      <td>GA</td>\n",
       "      <td>12.0</td>\n",
       "      <td>REP</td>\n",
       "      <td>INCUMBENT</td>\n",
       "      <td>2237 PICKENS RD</td>\n",
       "      <td>AUGUSTA</td>\n",
       "      <td>GA</td>\n",
       "      <td>...</td>\n",
       "      <td>$60,109.57</td>\n",
       "      <td>$175,613.35</td>\n",
       "      <td>$1,074,949.50</td>\n",
       "      <td>9.071562e+05</td>\n",
       "      <td>$1,125,000.00</td>\n",
       "      <td>2015-01-01</td>\n",
       "      <td>2016-10-19</td>\n",
       "      <td>Y</td>\n",
       "      <td>158708.0</td>\n",
       "      <td>657</td>\n",
       "    </tr>\n",
       "    <tr>\n",
       "      <th>1</th>\n",
       "      <td>H6PA02171</td>\n",
       "      <td>EVANS, DWIGHT</td>\n",
       "      <td>H</td>\n",
       "      <td>PA</td>\n",
       "      <td>2.0</td>\n",
       "      <td>DEM</td>\n",
       "      <td>CHALLENGER</td>\n",
       "      <td>PO BOX 6578</td>\n",
       "      <td>PHILADELPHIA</td>\n",
       "      <td>PA</td>\n",
       "      <td>...</td>\n",
       "      <td>NaN</td>\n",
       "      <td>$105,687.23</td>\n",
       "      <td>$1,406,719.06</td>\n",
       "      <td>1.298832e+06</td>\n",
       "      <td>NaN</td>\n",
       "      <td>2015-11-02</td>\n",
       "      <td>2016-10-19</td>\n",
       "      <td>Y</td>\n",
       "      <td>310770.0</td>\n",
       "      <td>352</td>\n",
       "    </tr>\n",
       "    <tr>\n",
       "      <th>2</th>\n",
       "      <td>H6FL04105</td>\n",
       "      <td>RUTHERFORD, JOHN</td>\n",
       "      <td>H</td>\n",
       "      <td>FL</td>\n",
       "      <td>4.0</td>\n",
       "      <td>REP</td>\n",
       "      <td>OPEN</td>\n",
       "      <td>3817 VICKERS LAKE DRIVE</td>\n",
       "      <td>JACKSONVILLE</td>\n",
       "      <td>FL</td>\n",
       "      <td>...</td>\n",
       "      <td>NaN</td>\n",
       "      <td>$35,645.09</td>\n",
       "      <td>$650,855.38</td>\n",
       "      <td>6.562103e+05</td>\n",
       "      <td>$60,000.00</td>\n",
       "      <td>2016-04-01</td>\n",
       "      <td>2016-10-19</td>\n",
       "      <td>Y</td>\n",
       "      <td>286018.0</td>\n",
       "      <td>201</td>\n",
       "    </tr>\n",
       "    <tr>\n",
       "      <th>3</th>\n",
       "      <td>H4MT01041</td>\n",
       "      <td>ZINKE, RYAN K</td>\n",
       "      <td>H</td>\n",
       "      <td>MT</td>\n",
       "      <td>0.0</td>\n",
       "      <td>REP</td>\n",
       "      <td>INCUMBENT</td>\n",
       "      <td>409 2ND ST W</td>\n",
       "      <td>WHITEFISH</td>\n",
       "      <td>MT</td>\n",
       "      <td>...</td>\n",
       "      <td>$83,815.78</td>\n",
       "      <td>$399,122.61</td>\n",
       "      <td>$4,938,943.74</td>\n",
       "      <td>5.055942e+06</td>\n",
       "      <td>NaN</td>\n",
       "      <td>2015-01-01</td>\n",
       "      <td>2016-10-19</td>\n",
       "      <td>Y</td>\n",
       "      <td>280476.0</td>\n",
       "      <td>657</td>\n",
       "    </tr>\n",
       "    <tr>\n",
       "      <th>4</th>\n",
       "      <td>H8CA09060</td>\n",
       "      <td>LEE, BARBARA</td>\n",
       "      <td>H</td>\n",
       "      <td>CA</td>\n",
       "      <td>13.0</td>\n",
       "      <td>DEM</td>\n",
       "      <td>INCUMBENT</td>\n",
       "      <td>409 13TH ST, 17TH FL</td>\n",
       "      <td>OAKLAND</td>\n",
       "      <td>CA</td>\n",
       "      <td>...</td>\n",
       "      <td>$83,690.60</td>\n",
       "      <td>$181,338.23</td>\n",
       "      <td>$1,197,676.61</td>\n",
       "      <td>9.494890e+05</td>\n",
       "      <td>$4,401.75</td>\n",
       "      <td>2015-01-01</td>\n",
       "      <td>2016-10-19</td>\n",
       "      <td>Y</td>\n",
       "      <td>277390.0</td>\n",
       "      <td>657</td>\n",
       "    </tr>\n",
       "  </tbody>\n",
       "</table>\n",
       "<p>5 rows × 42 columns</p>\n",
       "</div>"
      ],
      "text/plain": [
       "      can_id           can_nam can_off can_off_sta  can_off_dis can_par_aff  \\\n",
       "0  H2GA12121  ALLEN, RICHARD W       H          GA         12.0         REP   \n",
       "1  H6PA02171     EVANS, DWIGHT       H          PA          2.0         DEM   \n",
       "2  H6FL04105  RUTHERFORD, JOHN       H          FL          4.0         REP   \n",
       "3  H4MT01041     ZINKE, RYAN K       H          MT          0.0         REP   \n",
       "4  H8CA09060      LEE, BARBARA       H          CA         13.0         DEM   \n",
       "\n",
       "  can_inc_cha_ope_sea                 can_str1       can_cit can_sta  ...  \\\n",
       "0           INCUMBENT          2237 PICKENS RD       AUGUSTA      GA  ...   \n",
       "1          CHALLENGER              PO BOX 6578  PHILADELPHIA      PA  ...   \n",
       "2                OPEN  3817 VICKERS LAKE DRIVE  JACKSONVILLE      FL  ...   \n",
       "3           INCUMBENT             409 2ND ST W     WHITEFISH      MT  ...   \n",
       "4           INCUMBENT     409 13TH ST, 17TH FL       OAKLAND      CA  ...   \n",
       "\n",
       "   cas_on_han_beg_of_per cas_on_han_clo_of_per         net_con   net_ope_exp  \\\n",
       "0            $60,109.57           $175,613.35   $1,074,949.50   9.071562e+05   \n",
       "1                    NaN          $105,687.23   $1,406,719.06   1.298832e+06   \n",
       "2                    NaN           $35,645.09     $650,855.38   6.562103e+05   \n",
       "3            $83,815.78           $399,122.61   $4,938,943.74   5.055942e+06   \n",
       "4            $83,690.60           $181,338.23   $1,197,676.61   9.494890e+05   \n",
       "\n",
       "   deb_owe_by_com cov_sta_dat cov_end_dat winner     votes campaign_duration  \n",
       "0  $1,125,000.00   2015-01-01  2016-10-19      Y  158708.0               657  \n",
       "1             NaN  2015-11-02  2016-10-19      Y  310770.0               352  \n",
       "2     $60,000.00   2016-04-01  2016-10-19      Y  286018.0               201  \n",
       "3             NaN  2015-01-01  2016-10-19      Y  280476.0               657  \n",
       "4      $4,401.75   2015-01-01  2016-10-19      Y  277390.0               657  \n",
       "\n",
       "[5 rows x 42 columns]"
      ]
     },
     "execution_count": 11,
     "metadata": {},
     "output_type": "execute_result"
    }
   ],
   "source": [
    "#first, convert the net_con column to a float data type and modify data inplace\n",
    "def converter(data, data_col):\n",
    "    value = data[data_col].str.replace('$','').str.replace(',','').str.replace('(','-').str.replace(')','').astype('float32')\n",
    "    data[data_col] = value\n",
    "    return data.head()\n",
    "\n",
    "#call the function on the net_con feature\n",
    "converter(data=original_data, data_col=\"net_ope_exp\")"
   ]
  },
  {
   "cell_type": "markdown",
   "metadata": {},
   "source": [
    "**replace all the nan columns in the winner with N as they represent the losers**"
   ]
  },
  {
   "cell_type": "code",
   "execution_count": 12,
   "metadata": {},
   "outputs": [],
   "source": [
    "original_data['winner'] = original_data['winner'].fillna('N')"
   ]
  },
  {
   "cell_type": "markdown",
   "metadata": {},
   "source": [
    "# **Explore the data**"
   ]
  },
  {
   "cell_type": "markdown",
   "metadata": {},
   "source": [
    "**First, we see what offices the candidates are campaigning for**"
   ]
  },
  {
   "cell_type": "code",
   "execution_count": 13,
   "metadata": {},
   "outputs": [
    {
     "data": {
      "text/plain": [
       "H    78.776185\n",
       "S    12.513782\n",
       "P     8.710033\n",
       "Name: can_off, dtype: float64"
      ]
     },
     "execution_count": 13,
     "metadata": {},
     "output_type": "execute_result"
    }
   ],
   "source": [
    "original_data['can_off'].value_counts(normalize=True, sort=True) * 100"
   ]
  },
  {
   "cell_type": "markdown",
   "metadata": {},
   "source": [
    "**Basically, there are three offices namely**\n",
    "* H : house of represenatative\n",
    "* S : senator\n",
    "* P : presidency\n",
    "\n",
    "**create three dataframes based on the candidate office and export for analysis**"
   ]
  },
  {
   "cell_type": "code",
   "execution_count": 14,
   "metadata": {},
   "outputs": [],
   "source": [
    "H_df = original_data.loc[original_data['can_off'] == \"H\"] \n",
    "S_df = original_data.loc[original_data['can_off'] == \"S\"]\n",
    "P_df = original_data.loc[original_data['can_off'] == \"P\"]"
   ]
  },
  {
   "cell_type": "code",
   "execution_count": 15,
   "metadata": {},
   "outputs": [],
   "source": [
    "#export data set\n",
    "H_df.to_csv(\"../data_secgrp/H_df.csv\", index=False)\n",
    "S_df.to_csv(\"../data_secgrp/S_df.csv\", index=False)\n",
    "P_df.to_csv(\"../data_secgrp/P_df.csv\", index=False)"
   ]
  },
  {
   "cell_type": "code",
   "execution_count": null,
   "metadata": {},
   "outputs": [],
   "source": []
  }
 ],
 "metadata": {
  "kernelspec": {
   "display_name": "Python 3",
   "language": "python",
   "name": "python3"
  },
  "language_info": {
   "codemirror_mode": {
    "name": "ipython",
    "version": 3
   },
   "file_extension": ".py",
   "mimetype": "text/x-python",
   "name": "python",
   "nbconvert_exporter": "python",
   "pygments_lexer": "ipython3",
   "version": "3.7.7"
  }
 },
 "nbformat": 4,
 "nbformat_minor": 4
}
