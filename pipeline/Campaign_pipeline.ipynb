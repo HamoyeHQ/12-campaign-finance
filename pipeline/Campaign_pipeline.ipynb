{
  "nbformat": 4,
  "nbformat_minor": 0,
  "metadata": {
    "colab": {
      "name": "Campaign_pipeline.ipynb",
      "provenance": []
    },
    "kernelspec": {
      "name": "python3",
      "display_name": "Python 3"
    }
  },
  "cells": [
    {
      "cell_type": "markdown",
      "metadata": {
        "id": "Zk43EoB72DyO"
      },
      "source": [
        "#Install Kubeflow Pipelines SDK"
      ]
    },
    {
      "cell_type": "code",
      "metadata": {
        "id": "xKFGGtNk-sI9"
      },
      "source": [
        "# Install the SDK\n",
        "!pip3 install 'kfp>=0.1.31.2' --quiet"
      ],
      "execution_count": 44,
      "outputs": []
    },
    {
      "cell_type": "code",
      "metadata": {
        "id": "vnx9I5Lr1vyn",
        "outputId": "ae8df41a-8cd1-4586-f30b-29ba314e459e",
        "colab": {
          "base_uri": "https://localhost:8080/"
        }
      },
      "source": [
        "!which dsl-compile #Check if the install was successful"
      ],
      "execution_count": 45,
      "outputs": [
        {
          "output_type": "stream",
          "text": [
            "/usr/local/bin/dsl-compile\n"
          ],
          "name": "stdout"
        }
      ]
    },
    {
      "cell_type": "markdown",
      "metadata": {
        "id": "173cnxFm3Qy2"
      },
      "source": [
        "#Build the Components"
      ]
    },
    {
      "cell_type": "code",
      "metadata": {
        "id": "pKsGLL_N1lv_"
      },
      "source": [
        "import kfp\n",
        "import kfp.components as comp"
      ],
      "execution_count": 46,
      "outputs": []
    },
    {
      "cell_type": "code",
      "metadata": {
        "id": "CaDwAEtT28wX",
        "outputId": "a807195b-2fb4-4799-84b6-3b4883a8fcb7",
        "colab": {
          "base_uri": "https://localhost:8080/"
        }
      },
      "source": [
        "# Mount your Google drive folder on Colab\n",
        "from google.colab import drive\n",
        "drive.mount('/content/gdrive', force_remount=True)"
      ],
      "execution_count": 47,
      "outputs": [
        {
          "output_type": "stream",
          "text": [
            "Mounted at /content/gdrive\n"
          ],
          "name": "stdout"
        }
      ]
    },
    {
      "cell_type": "code",
      "metadata": {
        "id": "yPV42rC13grv"
      },
      "source": [
        "# where the outputs are stored\n",
        "out_dir = \"/content/gdrive/My Drive/\""
      ],
      "execution_count": 48,
      "outputs": []
    },
    {
      "cell_type": "code",
      "metadata": {
        "id": "_NZegrhW4F1x"
      },
      "source": [
        "def train(data_path, model_file):\n",
        "  import pickle\n",
        "  import numpy as np\n",
        "  import pandas as pd\n",
        "  from sklearn.model_selection import train_test_split\n",
        "  import tensorflow as tf\n",
        "\n",
        "  data = \"https://raw.githubusercontent.com/Fitzpatrique/stage-f-09-campaign-finance/master/data/new_project_data2.csv\"\n",
        "  df = pd.read_csv(data)\n",
        "\n",
        "  X = df[['can_off_dis', 'can_zip', 'ind_con', 'net_ope_exp', 'tot_con',\n",
        "       'tot_dis', 'net_con', 'ope_exp', 'tot_rec', 'can_off_id', 'can_nam_id',\n",
        "       'can_off_sta_id', 'can_par_aff_id', 'can_inc_cha_ope_sea_id',\n",
        "       'can_cit_id', 'can_sta_id', 'cov_dur']]\n",
        "  y = df[['winner_id']]\n",
        "\n",
        "  #Perform train test split on the data\n",
        "  X_train, X_test, y_train, y_test = train_test_split(X, y, test_size=0.2, random_state=11)\n",
        "\n",
        "  #Define the model \n",
        "  model  = tf.keras.Sequential([\n",
        "                tf.keras.layers.Flatten(input_shape=(1,17)),\n",
        "                tf.keras.layers.Dense(8, activation = 'relu'),\n",
        "                tf.keras.layers.Dense(1, activation = 'sigmoid')\n",
        "  ])\n",
        "\n",
        "  model.compile(optimizer = 'adam', loss='binary_crossentropy', metrics =['accuracy'])\n",
        "\n",
        "\n",
        "  num_epochs = 150\n",
        "\n",
        "  history = model.fit(X_train, y_train, epochs = num_epochs,\n",
        "                    validation_data = (X_test,y_test))\n",
        "  \n",
        "  #Save the model to the designated \n",
        "  model.save(f'{data_path}/{model_file}')\n",
        "\n",
        "  #Save the test_data as a pickle file to be used by the predict component.\n",
        "  with open(f'{data_path}/test_data', 'wb') as f:\n",
        "      pickle.dump((X_test,  y_test), f)\n",
        "  "
      ],
      "execution_count": 49,
      "outputs": []
    },
    {
      "cell_type": "code",
      "metadata": {
        "id": "FTqBO3HJ7nkJ",
        "outputId": "da854e30-e720-492a-b4f2-3cb8f115cd59",
        "colab": {
          "base_uri": "https://localhost:8080/"
        }
      },
      "source": [
        "classifier = train(out_dir, \"model\")"
      ],
      "execution_count": 50,
      "outputs": [
        {
          "output_type": "stream",
          "text": [
            "Epoch 1/150\n",
            "WARNING:tensorflow:Model was constructed with shape (None, 1, 17) for input Tensor(\"flatten_3_input:0\", shape=(None, 1, 17), dtype=float32), but it was called on an input with incompatible shape (None, 17).\n",
            "WARNING:tensorflow:Model was constructed with shape (None, 1, 17) for input Tensor(\"flatten_3_input:0\", shape=(None, 1, 17), dtype=float32), but it was called on an input with incompatible shape (None, 17).\n",
            " 1/39 [..............................] - ETA: 0s - loss: 1044285.3125 - accuracy: 0.8438WARNING:tensorflow:Model was constructed with shape (None, 1, 17) for input Tensor(\"flatten_3_input:0\", shape=(None, 1, 17), dtype=float32), but it was called on an input with incompatible shape (None, 17).\n",
            "39/39 [==============================] - 0s 5ms/step - loss: 1642609.2500 - accuracy: 0.6992 - val_loss: 479932.3438 - val_accuracy: 0.2765\n",
            "Epoch 2/150\n",
            "39/39 [==============================] - 0s 2ms/step - loss: 454438.7188 - accuracy: 0.3637 - val_loss: 168107.4688 - val_accuracy: 0.7235\n",
            "Epoch 3/150\n",
            "39/39 [==============================] - 0s 2ms/step - loss: 218574.5625 - accuracy: 0.4742 - val_loss: 160111.3281 - val_accuracy: 0.2605\n",
            "Epoch 4/150\n",
            "39/39 [==============================] - 0s 2ms/step - loss: 149238.2344 - accuracy: 0.6290 - val_loss: 176678.2500 - val_accuracy: 0.7428\n",
            "Epoch 5/150\n",
            "39/39 [==============================] - 0s 2ms/step - loss: 107032.6484 - accuracy: 0.7185 - val_loss: 178315.1719 - val_accuracy: 0.7203\n",
            "Epoch 6/150\n",
            "39/39 [==============================] - 0s 2ms/step - loss: 140630.9219 - accuracy: 0.6984 - val_loss: 106427.8359 - val_accuracy: 0.7203\n",
            "Epoch 7/150\n",
            "39/39 [==============================] - 0s 2ms/step - loss: 108427.8984 - accuracy: 0.6927 - val_loss: 132583.4531 - val_accuracy: 0.7395\n",
            "Epoch 8/150\n",
            "39/39 [==============================] - 0s 2ms/step - loss: 92602.3906 - accuracy: 0.7177 - val_loss: 110858.4844 - val_accuracy: 0.7235\n",
            "Epoch 9/150\n",
            "39/39 [==============================] - 0s 2ms/step - loss: 91933.4375 - accuracy: 0.6968 - val_loss: 149459.7969 - val_accuracy: 0.5659\n",
            "Epoch 10/150\n",
            "39/39 [==============================] - 0s 2ms/step - loss: 105003.8672 - accuracy: 0.6847 - val_loss: 99502.8438 - val_accuracy: 0.7492\n",
            "Epoch 11/150\n",
            "39/39 [==============================] - 0s 2ms/step - loss: 82483.4062 - accuracy: 0.7581 - val_loss: 117998.5469 - val_accuracy: 0.7203\n",
            "Epoch 12/150\n",
            "39/39 [==============================] - 0s 2ms/step - loss: 83378.1875 - accuracy: 0.7137 - val_loss: 104021.5469 - val_accuracy: 0.7460\n",
            "Epoch 13/150\n",
            "39/39 [==============================] - 0s 2ms/step - loss: 64660.4531 - accuracy: 0.7629 - val_loss: 80471.7109 - val_accuracy: 0.7492\n",
            "Epoch 14/150\n",
            "39/39 [==============================] - 0s 2ms/step - loss: 75376.9844 - accuracy: 0.7613 - val_loss: 114243.3438 - val_accuracy: 0.7556\n",
            "Epoch 15/150\n",
            "39/39 [==============================] - 0s 2ms/step - loss: 69389.7812 - accuracy: 0.7056 - val_loss: 79402.8672 - val_accuracy: 0.7492\n",
            "Epoch 16/150\n",
            "39/39 [==============================] - 0s 2ms/step - loss: 63664.4844 - accuracy: 0.7629 - val_loss: 117209.3281 - val_accuracy: 0.2990\n",
            "Epoch 17/150\n",
            "39/39 [==============================] - 0s 2ms/step - loss: 105579.2969 - accuracy: 0.6782 - val_loss: 84117.1172 - val_accuracy: 0.7588\n",
            "Epoch 18/150\n",
            "39/39 [==============================] - 0s 2ms/step - loss: 68151.5703 - accuracy: 0.7476 - val_loss: 100449.9844 - val_accuracy: 0.7781\n",
            "Epoch 19/150\n",
            "39/39 [==============================] - 0s 1ms/step - loss: 58335.9219 - accuracy: 0.7629 - val_loss: 61686.5078 - val_accuracy: 0.7781\n",
            "Epoch 20/150\n",
            "39/39 [==============================] - 0s 2ms/step - loss: 46838.1797 - accuracy: 0.7782 - val_loss: 46390.8516 - val_accuracy: 0.7781\n",
            "Epoch 21/150\n",
            "39/39 [==============================] - 0s 2ms/step - loss: 59907.2773 - accuracy: 0.8081 - val_loss: 77230.1562 - val_accuracy: 0.7910\n",
            "Epoch 22/150\n",
            "39/39 [==============================] - 0s 2ms/step - loss: 73474.9062 - accuracy: 0.7589 - val_loss: 44143.4805 - val_accuracy: 0.4373\n",
            "Epoch 23/150\n",
            "39/39 [==============================] - 0s 2ms/step - loss: 55419.7812 - accuracy: 0.7710 - val_loss: 59884.1367 - val_accuracy: 0.7814\n",
            "Epoch 24/150\n",
            "39/39 [==============================] - 0s 2ms/step - loss: 44674.9727 - accuracy: 0.7540 - val_loss: 33772.9453 - val_accuracy: 0.7942\n",
            "Epoch 25/150\n",
            "39/39 [==============================] - 0s 2ms/step - loss: 76307.5312 - accuracy: 0.7839 - val_loss: 36051.8516 - val_accuracy: 0.7846\n",
            "Epoch 26/150\n",
            "39/39 [==============================] - 0s 2ms/step - loss: 56251.7031 - accuracy: 0.8185 - val_loss: 64266.5156 - val_accuracy: 0.7653\n",
            "Epoch 27/150\n",
            "39/39 [==============================] - 0s 2ms/step - loss: 49181.1719 - accuracy: 0.7532 - val_loss: 80179.1953 - val_accuracy: 0.8103\n",
            "Epoch 28/150\n",
            "39/39 [==============================] - 0s 2ms/step - loss: 58838.2578 - accuracy: 0.7774 - val_loss: 66215.6562 - val_accuracy: 0.8135\n",
            "Epoch 29/150\n",
            "39/39 [==============================] - 0s 2ms/step - loss: 65489.9297 - accuracy: 0.7847 - val_loss: 36251.1719 - val_accuracy: 0.8039\n",
            "Epoch 30/150\n",
            "39/39 [==============================] - 0s 2ms/step - loss: 39239.3164 - accuracy: 0.8395 - val_loss: 27425.8398 - val_accuracy: 0.8392\n",
            "Epoch 31/150\n",
            "39/39 [==============================] - 0s 2ms/step - loss: 40822.2617 - accuracy: 0.7685 - val_loss: 32464.5957 - val_accuracy: 0.8167\n",
            "Epoch 32/150\n",
            "39/39 [==============================] - 0s 2ms/step - loss: 26916.6426 - accuracy: 0.8452 - val_loss: 33012.1523 - val_accuracy: 0.8457\n",
            "Epoch 33/150\n",
            "39/39 [==============================] - 0s 2ms/step - loss: 39010.4531 - accuracy: 0.7871 - val_loss: 23526.7539 - val_accuracy: 0.8264\n",
            "Epoch 34/150\n",
            "39/39 [==============================] - 0s 2ms/step - loss: 23902.2676 - accuracy: 0.8677 - val_loss: 30826.3184 - val_accuracy: 0.7492\n",
            "Epoch 35/150\n",
            "39/39 [==============================] - 0s 2ms/step - loss: 32700.1387 - accuracy: 0.7879 - val_loss: 24898.5840 - val_accuracy: 0.8650\n",
            "Epoch 36/150\n",
            "39/39 [==============================] - 0s 2ms/step - loss: 39645.7969 - accuracy: 0.8073 - val_loss: 33930.3203 - val_accuracy: 0.8135\n",
            "Epoch 37/150\n",
            "39/39 [==============================] - 0s 2ms/step - loss: 57382.2188 - accuracy: 0.7427 - val_loss: 126876.3828 - val_accuracy: 0.7749\n",
            "Epoch 38/150\n",
            "39/39 [==============================] - 0s 2ms/step - loss: 53779.3594 - accuracy: 0.7653 - val_loss: 30870.9141 - val_accuracy: 0.8521\n",
            "Epoch 39/150\n",
            "39/39 [==============================] - 0s 2ms/step - loss: 26885.3281 - accuracy: 0.8645 - val_loss: 39459.6680 - val_accuracy: 0.8328\n",
            "Epoch 40/150\n",
            "39/39 [==============================] - 0s 2ms/step - loss: 31224.2188 - accuracy: 0.8556 - val_loss: 18761.9492 - val_accuracy: 0.8714\n",
            "Epoch 41/150\n",
            "39/39 [==============================] - 0s 2ms/step - loss: 28949.7285 - accuracy: 0.8476 - val_loss: 30505.0684 - val_accuracy: 0.8907\n",
            "Epoch 42/150\n",
            "39/39 [==============================] - 0s 2ms/step - loss: 36049.2305 - accuracy: 0.8395 - val_loss: 18643.9336 - val_accuracy: 0.8585\n",
            "Epoch 43/150\n",
            "39/39 [==============================] - 0s 2ms/step - loss: 22903.1855 - accuracy: 0.8653 - val_loss: 15988.7637 - val_accuracy: 0.8778\n",
            "Epoch 44/150\n",
            "39/39 [==============================] - 0s 2ms/step - loss: 32482.5801 - accuracy: 0.8452 - val_loss: 28510.6973 - val_accuracy: 0.4630\n",
            "Epoch 45/150\n",
            "39/39 [==============================] - 0s 2ms/step - loss: 51481.5195 - accuracy: 0.8315 - val_loss: 28324.4590 - val_accuracy: 0.8778\n",
            "Epoch 46/150\n",
            "39/39 [==============================] - 0s 2ms/step - loss: 23069.4297 - accuracy: 0.8742 - val_loss: 21115.9121 - val_accuracy: 0.8810\n",
            "Epoch 47/150\n",
            "39/39 [==============================] - 0s 2ms/step - loss: 20361.3359 - accuracy: 0.8653 - val_loss: 35626.2969 - val_accuracy: 0.8039\n",
            "Epoch 48/150\n",
            "39/39 [==============================] - 0s 2ms/step - loss: 28454.5098 - accuracy: 0.8629 - val_loss: 18919.8027 - val_accuracy: 0.8907\n",
            "Epoch 49/150\n",
            "39/39 [==============================] - 0s 2ms/step - loss: 27177.5977 - accuracy: 0.8444 - val_loss: 21257.1289 - val_accuracy: 0.8842\n",
            "Epoch 50/150\n",
            "39/39 [==============================] - 0s 2ms/step - loss: 26697.6797 - accuracy: 0.8500 - val_loss: 18696.4531 - val_accuracy: 0.8875\n",
            "Epoch 51/150\n",
            "39/39 [==============================] - 0s 2ms/step - loss: 41675.5078 - accuracy: 0.7992 - val_loss: 62940.3203 - val_accuracy: 0.8875\n",
            "Epoch 52/150\n",
            "39/39 [==============================] - 0s 2ms/step - loss: 25386.6543 - accuracy: 0.8476 - val_loss: 14954.9570 - val_accuracy: 0.8875\n",
            "Epoch 53/150\n",
            "39/39 [==============================] - 0s 2ms/step - loss: 23158.7715 - accuracy: 0.8468 - val_loss: 14072.8428 - val_accuracy: 0.8778\n",
            "Epoch 54/150\n",
            "39/39 [==============================] - 0s 2ms/step - loss: 23852.4707 - accuracy: 0.8702 - val_loss: 38270.5039 - val_accuracy: 0.8939\n",
            "Epoch 55/150\n",
            "39/39 [==============================] - 0s 2ms/step - loss: 29514.3105 - accuracy: 0.8403 - val_loss: 29887.5410 - val_accuracy: 0.8842\n",
            "Epoch 56/150\n",
            "39/39 [==============================] - 0s 2ms/step - loss: 25647.0410 - accuracy: 0.8556 - val_loss: 15944.6748 - val_accuracy: 0.8521\n",
            "Epoch 57/150\n",
            "39/39 [==============================] - 0s 2ms/step - loss: 32060.5742 - accuracy: 0.7984 - val_loss: 14235.7520 - val_accuracy: 0.8971\n",
            "Epoch 58/150\n",
            "39/39 [==============================] - 0s 2ms/step - loss: 37390.9336 - accuracy: 0.8242 - val_loss: 81751.3281 - val_accuracy: 0.4180\n",
            "Epoch 59/150\n",
            "39/39 [==============================] - 0s 2ms/step - loss: 35351.8555 - accuracy: 0.8677 - val_loss: 12815.0068 - val_accuracy: 0.8746\n",
            "Epoch 60/150\n",
            "39/39 [==============================] - 0s 2ms/step - loss: 23125.3008 - accuracy: 0.8718 - val_loss: 23714.0234 - val_accuracy: 0.8971\n",
            "Epoch 61/150\n",
            "39/39 [==============================] - 0s 2ms/step - loss: 19172.3477 - accuracy: 0.8702 - val_loss: 14619.3281 - val_accuracy: 0.8585\n",
            "Epoch 62/150\n",
            "39/39 [==============================] - 0s 2ms/step - loss: 23226.3418 - accuracy: 0.8476 - val_loss: 31219.8770 - val_accuracy: 0.8939\n",
            "Epoch 63/150\n",
            "39/39 [==============================] - 0s 2ms/step - loss: 17011.3496 - accuracy: 0.9040 - val_loss: 16920.8926 - val_accuracy: 0.9035\n",
            "Epoch 64/150\n",
            "39/39 [==============================] - 0s 2ms/step - loss: 22683.4453 - accuracy: 0.8726 - val_loss: 21894.3262 - val_accuracy: 0.8875\n",
            "Epoch 65/150\n",
            "39/39 [==============================] - 0s 2ms/step - loss: 33017.5039 - accuracy: 0.8702 - val_loss: 41425.1914 - val_accuracy: 0.8617\n",
            "Epoch 66/150\n",
            "39/39 [==============================] - 0s 2ms/step - loss: 33069.5547 - accuracy: 0.8194 - val_loss: 130672.1562 - val_accuracy: 0.8424\n",
            "Epoch 67/150\n",
            "39/39 [==============================] - 0s 2ms/step - loss: 83149.4688 - accuracy: 0.8226 - val_loss: 81516.3828 - val_accuracy: 0.9035\n",
            "Epoch 68/150\n",
            "39/39 [==============================] - 0s 2ms/step - loss: 44089.7695 - accuracy: 0.8242 - val_loss: 15468.2979 - val_accuracy: 0.8553\n",
            "Epoch 69/150\n",
            "39/39 [==============================] - 0s 1ms/step - loss: 25552.7871 - accuracy: 0.8242 - val_loss: 32658.6465 - val_accuracy: 0.8971\n",
            "Epoch 70/150\n",
            "39/39 [==============================] - 0s 2ms/step - loss: 79366.7188 - accuracy: 0.7863 - val_loss: 26122.8730 - val_accuracy: 0.8585\n",
            "Epoch 71/150\n",
            "39/39 [==============================] - 0s 2ms/step - loss: 73736.0078 - accuracy: 0.7589 - val_loss: 36277.5938 - val_accuracy: 0.8392\n",
            "Epoch 72/150\n",
            "39/39 [==============================] - 0s 2ms/step - loss: 28223.8926 - accuracy: 0.8387 - val_loss: 9845.7812 - val_accuracy: 0.9132\n",
            "Epoch 73/150\n",
            "39/39 [==============================] - 0s 2ms/step - loss: 18371.9980 - accuracy: 0.9032 - val_loss: 10132.6416 - val_accuracy: 0.9003\n",
            "Epoch 74/150\n",
            "39/39 [==============================] - 0s 2ms/step - loss: 25166.7812 - accuracy: 0.8565 - val_loss: 37589.4336 - val_accuracy: 0.3698\n",
            "Epoch 75/150\n",
            "39/39 [==============================] - 0s 2ms/step - loss: 43572.4023 - accuracy: 0.8105 - val_loss: 22280.9512 - val_accuracy: 0.8264\n",
            "Epoch 76/150\n",
            "39/39 [==============================] - 0s 2ms/step - loss: 19605.7910 - accuracy: 0.8782 - val_loss: 9925.3506 - val_accuracy: 0.8971\n",
            "Epoch 77/150\n",
            "39/39 [==============================] - 0s 2ms/step - loss: 23272.1660 - accuracy: 0.8960 - val_loss: 42885.5000 - val_accuracy: 0.8907\n",
            "Epoch 78/150\n",
            "39/39 [==============================] - 0s 2ms/step - loss: 34881.1523 - accuracy: 0.7887 - val_loss: 23392.1914 - val_accuracy: 0.8650\n",
            "Epoch 79/150\n",
            "39/39 [==============================] - 0s 2ms/step - loss: 28230.9258 - accuracy: 0.8718 - val_loss: 28927.1484 - val_accuracy: 0.8971\n",
            "Epoch 80/150\n",
            "39/39 [==============================] - 0s 2ms/step - loss: 32954.0312 - accuracy: 0.8532 - val_loss: 34483.0859 - val_accuracy: 0.8264\n",
            "Epoch 81/150\n",
            "39/39 [==============================] - 0s 2ms/step - loss: 29647.8066 - accuracy: 0.8331 - val_loss: 14818.7510 - val_accuracy: 0.9035\n",
            "Epoch 82/150\n",
            "39/39 [==============================] - 0s 2ms/step - loss: 17914.1152 - accuracy: 0.8895 - val_loss: 11173.0146 - val_accuracy: 0.9164\n",
            "Epoch 83/150\n",
            "39/39 [==============================] - 0s 2ms/step - loss: 27527.2227 - accuracy: 0.8468 - val_loss: 17774.7109 - val_accuracy: 0.9035\n",
            "Epoch 84/150\n",
            "39/39 [==============================] - 0s 2ms/step - loss: 31420.5605 - accuracy: 0.8306 - val_loss: 24316.2090 - val_accuracy: 0.8199\n",
            "Epoch 85/150\n",
            "39/39 [==============================] - 0s 2ms/step - loss: 15946.5049 - accuracy: 0.8831 - val_loss: 17449.1621 - val_accuracy: 0.8939\n",
            "Epoch 86/150\n",
            "39/39 [==============================] - 0s 2ms/step - loss: 27716.0000 - accuracy: 0.8218 - val_loss: 9222.5547 - val_accuracy: 0.9228\n",
            "Epoch 87/150\n",
            "39/39 [==============================] - 0s 2ms/step - loss: 23649.4453 - accuracy: 0.8694 - val_loss: 9584.8936 - val_accuracy: 0.9164\n",
            "Epoch 88/150\n",
            "39/39 [==============================] - 0s 2ms/step - loss: 18471.4668 - accuracy: 0.8952 - val_loss: 16633.9316 - val_accuracy: 0.8778\n",
            "Epoch 89/150\n",
            "39/39 [==============================] - 0s 2ms/step - loss: 18131.2520 - accuracy: 0.8718 - val_loss: 55897.1055 - val_accuracy: 0.9068\n",
            "Epoch 90/150\n",
            "39/39 [==============================] - 0s 2ms/step - loss: 38067.7031 - accuracy: 0.8476 - val_loss: 20678.1855 - val_accuracy: 0.6141\n",
            "Epoch 91/150\n",
            "39/39 [==============================] - 0s 2ms/step - loss: 22302.4336 - accuracy: 0.8694 - val_loss: 13736.7842 - val_accuracy: 0.8714\n",
            "Epoch 92/150\n",
            "39/39 [==============================] - 0s 2ms/step - loss: 30394.7031 - accuracy: 0.8468 - val_loss: 10826.0508 - val_accuracy: 0.9003\n",
            "Epoch 93/150\n",
            "39/39 [==============================] - 0s 2ms/step - loss: 30985.6250 - accuracy: 0.7911 - val_loss: 21039.1035 - val_accuracy: 0.8971\n",
            "Epoch 94/150\n",
            "39/39 [==============================] - 0s 2ms/step - loss: 24145.9512 - accuracy: 0.8782 - val_loss: 44099.5273 - val_accuracy: 0.9003\n",
            "Epoch 95/150\n",
            "39/39 [==============================] - 0s 2ms/step - loss: 20146.3262 - accuracy: 0.8903 - val_loss: 7711.2852 - val_accuracy: 0.9228\n",
            "Epoch 96/150\n",
            "39/39 [==============================] - 0s 2ms/step - loss: 35055.1016 - accuracy: 0.8702 - val_loss: 40860.9258 - val_accuracy: 0.8264\n",
            "Epoch 97/150\n",
            "39/39 [==============================] - 0s 2ms/step - loss: 22814.5195 - accuracy: 0.8524 - val_loss: 24158.0879 - val_accuracy: 0.9003\n",
            "Epoch 98/150\n",
            "39/39 [==============================] - 0s 2ms/step - loss: 19432.5879 - accuracy: 0.8976 - val_loss: 38955.8633 - val_accuracy: 0.8682\n",
            "Epoch 99/150\n",
            "39/39 [==============================] - 0s 2ms/step - loss: 18510.5957 - accuracy: 0.8758 - val_loss: 7354.1802 - val_accuracy: 0.9260\n",
            "Epoch 100/150\n",
            "39/39 [==============================] - 0s 2ms/step - loss: 12413.1875 - accuracy: 0.9056 - val_loss: 29249.7305 - val_accuracy: 0.9068\n",
            "Epoch 101/150\n",
            "39/39 [==============================] - 0s 2ms/step - loss: 28295.5234 - accuracy: 0.8556 - val_loss: 16188.6289 - val_accuracy: 0.9196\n",
            "Epoch 102/150\n",
            "39/39 [==============================] - 0s 2ms/step - loss: 15910.9102 - accuracy: 0.8476 - val_loss: 32319.2402 - val_accuracy: 0.6752\n",
            "Epoch 103/150\n",
            "39/39 [==============================] - 0s 2ms/step - loss: 27073.7363 - accuracy: 0.8435 - val_loss: 10180.3760 - val_accuracy: 0.8971\n",
            "Epoch 104/150\n",
            "39/39 [==============================] - 0s 2ms/step - loss: 17554.2637 - accuracy: 0.8863 - val_loss: 13832.1934 - val_accuracy: 0.8810\n",
            "Epoch 105/150\n",
            "39/39 [==============================] - 0s 2ms/step - loss: 25864.1895 - accuracy: 0.8960 - val_loss: 14719.7090 - val_accuracy: 0.9196\n",
            "Epoch 106/150\n",
            "39/39 [==============================] - 0s 2ms/step - loss: 24097.6934 - accuracy: 0.8766 - val_loss: 13821.4404 - val_accuracy: 0.8971\n",
            "Epoch 107/150\n",
            "39/39 [==============================] - 0s 2ms/step - loss: 27376.8359 - accuracy: 0.8258 - val_loss: 36051.6797 - val_accuracy: 0.8457\n",
            "Epoch 108/150\n",
            "39/39 [==============================] - 0s 2ms/step - loss: 25725.3477 - accuracy: 0.8597 - val_loss: 11479.9062 - val_accuracy: 0.8617\n",
            "Epoch 109/150\n",
            "39/39 [==============================] - 0s 2ms/step - loss: 20892.6016 - accuracy: 0.8806 - val_loss: 8752.5303 - val_accuracy: 0.9100\n",
            "Epoch 110/150\n",
            "39/39 [==============================] - 0s 2ms/step - loss: 51200.2852 - accuracy: 0.8105 - val_loss: 44144.3672 - val_accuracy: 0.8489\n",
            "Epoch 111/150\n",
            "39/39 [==============================] - 0s 2ms/step - loss: 35230.7695 - accuracy: 0.8347 - val_loss: 28754.6777 - val_accuracy: 0.8682\n",
            "Epoch 112/150\n",
            "39/39 [==============================] - 0s 2ms/step - loss: 69346.7891 - accuracy: 0.8185 - val_loss: 49016.9648 - val_accuracy: 0.8521\n",
            "Epoch 113/150\n",
            "39/39 [==============================] - 0s 2ms/step - loss: 22711.8926 - accuracy: 0.8629 - val_loss: 30067.3086 - val_accuracy: 0.8489\n",
            "Epoch 114/150\n",
            "39/39 [==============================] - 0s 2ms/step - loss: 20469.2070 - accuracy: 0.8871 - val_loss: 15863.5996 - val_accuracy: 0.9132\n",
            "Epoch 115/150\n",
            "39/39 [==============================] - 0s 2ms/step - loss: 42373.1133 - accuracy: 0.8210 - val_loss: 12291.6748 - val_accuracy: 0.8939\n",
            "Epoch 116/150\n",
            "39/39 [==============================] - 0s 3ms/step - loss: 20801.6230 - accuracy: 0.8589 - val_loss: 8697.9150 - val_accuracy: 0.8939\n",
            "Epoch 117/150\n",
            "39/39 [==============================] - 0s 2ms/step - loss: 23392.7578 - accuracy: 0.8637 - val_loss: 30690.7598 - val_accuracy: 0.9035\n",
            "Epoch 118/150\n",
            "39/39 [==============================] - 0s 2ms/step - loss: 17487.1895 - accuracy: 0.8613 - val_loss: 20121.1602 - val_accuracy: 0.8907\n",
            "Epoch 119/150\n",
            "39/39 [==============================] - 0s 2ms/step - loss: 17693.6621 - accuracy: 0.8895 - val_loss: 17898.2871 - val_accuracy: 0.8328\n",
            "Epoch 120/150\n",
            "39/39 [==============================] - 0s 2ms/step - loss: 21205.9180 - accuracy: 0.8798 - val_loss: 6595.6328 - val_accuracy: 0.9196\n",
            "Epoch 121/150\n",
            "39/39 [==============================] - 0s 2ms/step - loss: 28161.9668 - accuracy: 0.8524 - val_loss: 12538.5098 - val_accuracy: 0.9068\n",
            "Epoch 122/150\n",
            "39/39 [==============================] - 0s 2ms/step - loss: 31339.1992 - accuracy: 0.8298 - val_loss: 26431.9941 - val_accuracy: 0.8071\n",
            "Epoch 123/150\n",
            "39/39 [==============================] - 0s 2ms/step - loss: 25995.9414 - accuracy: 0.8218 - val_loss: 18432.3145 - val_accuracy: 0.8714\n",
            "Epoch 124/150\n",
            "39/39 [==============================] - 0s 2ms/step - loss: 30312.8711 - accuracy: 0.8782 - val_loss: 19899.7578 - val_accuracy: 0.9132\n",
            "Epoch 125/150\n",
            "39/39 [==============================] - 0s 2ms/step - loss: 17747.3477 - accuracy: 0.8863 - val_loss: 22495.2148 - val_accuracy: 0.9068\n",
            "Epoch 126/150\n",
            "39/39 [==============================] - 0s 2ms/step - loss: 18080.8301 - accuracy: 0.9000 - val_loss: 7084.3945 - val_accuracy: 0.9068\n",
            "Epoch 127/150\n",
            "39/39 [==============================] - 0s 2ms/step - loss: 14995.7256 - accuracy: 0.8823 - val_loss: 16964.1992 - val_accuracy: 0.8392\n",
            "Epoch 128/150\n",
            "39/39 [==============================] - 0s 2ms/step - loss: 16299.5322 - accuracy: 0.8968 - val_loss: 9280.6572 - val_accuracy: 0.9068\n",
            "Epoch 129/150\n",
            "39/39 [==============================] - 0s 1ms/step - loss: 27807.5645 - accuracy: 0.8839 - val_loss: 48211.0234 - val_accuracy: 0.9164\n",
            "Epoch 130/150\n",
            "39/39 [==============================] - 0s 2ms/step - loss: 13830.3291 - accuracy: 0.9097 - val_loss: 9110.9141 - val_accuracy: 0.9035\n",
            "Epoch 131/150\n",
            "39/39 [==============================] - 0s 2ms/step - loss: 12381.2959 - accuracy: 0.9089 - val_loss: 9249.2705 - val_accuracy: 0.8907\n",
            "Epoch 132/150\n",
            "39/39 [==============================] - 0s 2ms/step - loss: 12522.9014 - accuracy: 0.9016 - val_loss: 15573.8984 - val_accuracy: 0.9132\n",
            "Epoch 133/150\n",
            "39/39 [==============================] - 0s 2ms/step - loss: 21285.3105 - accuracy: 0.8831 - val_loss: 17114.1797 - val_accuracy: 0.9068\n",
            "Epoch 134/150\n",
            "39/39 [==============================] - 0s 2ms/step - loss: 23116.9043 - accuracy: 0.8653 - val_loss: 28697.9609 - val_accuracy: 0.8907\n",
            "Epoch 135/150\n",
            "39/39 [==============================] - 0s 2ms/step - loss: 23473.3906 - accuracy: 0.8758 - val_loss: 17241.2363 - val_accuracy: 0.9228\n",
            "Epoch 136/150\n",
            "39/39 [==============================] - 0s 2ms/step - loss: 12221.3848 - accuracy: 0.9169 - val_loss: 7136.7012 - val_accuracy: 0.9035\n",
            "Epoch 137/150\n",
            "39/39 [==============================] - 0s 2ms/step - loss: 31317.4414 - accuracy: 0.8669 - val_loss: 16995.6074 - val_accuracy: 0.8553\n",
            "Epoch 138/150\n",
            "39/39 [==============================] - 0s 2ms/step - loss: 18084.8848 - accuracy: 0.8984 - val_loss: 6586.4082 - val_accuracy: 0.9260\n",
            "Epoch 139/150\n",
            "39/39 [==============================] - 0s 2ms/step - loss: 31904.3223 - accuracy: 0.8790 - val_loss: 35542.6445 - val_accuracy: 0.8360\n",
            "Epoch 140/150\n",
            "39/39 [==============================] - 0s 2ms/step - loss: 13073.3838 - accuracy: 0.8516 - val_loss: 9495.5127 - val_accuracy: 0.9003\n",
            "Epoch 141/150\n",
            "39/39 [==============================] - 0s 2ms/step - loss: 21310.0430 - accuracy: 0.9016 - val_loss: 24841.7227 - val_accuracy: 0.8328\n",
            "Epoch 142/150\n",
            "39/39 [==============================] - 0s 2ms/step - loss: 19551.7188 - accuracy: 0.8774 - val_loss: 48542.5586 - val_accuracy: 0.8746\n",
            "Epoch 143/150\n",
            "39/39 [==============================] - 0s 2ms/step - loss: 21764.6973 - accuracy: 0.8935 - val_loss: 35036.4336 - val_accuracy: 0.8939\n",
            "Epoch 144/150\n",
            "39/39 [==============================] - 0s 2ms/step - loss: 21262.2676 - accuracy: 0.8806 - val_loss: 15492.4502 - val_accuracy: 0.8714\n",
            "Epoch 145/150\n",
            "39/39 [==============================] - 0s 2ms/step - loss: 40922.6445 - accuracy: 0.8097 - val_loss: 57987.9375 - val_accuracy: 0.8778\n",
            "Epoch 146/150\n",
            "39/39 [==============================] - 0s 2ms/step - loss: 27861.5801 - accuracy: 0.8476 - val_loss: 16479.6582 - val_accuracy: 0.8907\n",
            "Epoch 147/150\n",
            "39/39 [==============================] - 0s 2ms/step - loss: 26401.3418 - accuracy: 0.8790 - val_loss: 59762.3789 - val_accuracy: 0.8714\n",
            "Epoch 148/150\n",
            "39/39 [==============================] - 0s 2ms/step - loss: 20756.2305 - accuracy: 0.9000 - val_loss: 6736.7769 - val_accuracy: 0.9164\n",
            "Epoch 149/150\n",
            "39/39 [==============================] - 0s 2ms/step - loss: 21668.4551 - accuracy: 0.8685 - val_loss: 21187.0586 - val_accuracy: 0.8264\n",
            "Epoch 150/150\n",
            "39/39 [==============================] - 0s 2ms/step - loss: 29798.8105 - accuracy: 0.8427 - val_loss: 17675.7500 - val_accuracy: 0.9164\n",
            "INFO:tensorflow:Assets written to: /content/gdrive/My Drive//model/assets\n"
          ],
          "name": "stdout"
        }
      ]
    },
    {
      "cell_type": "code",
      "metadata": {
        "id": "ZkOit1_g8-s-"
      },
      "source": [
        "def predict(data_path, model_file):\n",
        "    \n",
        "    import pickle\n",
        "    import tensorflow as tf\n",
        "    from tensorflow import keras\n",
        "    import numpy as np\n",
        "    \n",
        "    # Load the saved Keras model\n",
        "    classifier = keras.models.load_model(f'{data_path}/{model_file}')\n",
        "\n",
        "    # Load and unpack the test_data\n",
        "    with open(f'{data_path}/test_data','rb') as f:\n",
        "        test_data = pickle.load(f)\n",
        "    # Separate the X_test from y_test.\n",
        "    X_test,  y_test = test_data\n",
        "\n",
        "    # make predictions.\n",
        "    y_pred = classifier.predict(X_test)\n",
        "\n",
        "    # create a threshold\n",
        "    y_pred=(y_pred>0.5)\n",
        "    \n",
        "    with open(f'{data_path}/result.txt', 'w') as result:\n",
        "        result.write(\" Prediction: {}, Actual: {} \".format(y_pred,y_test.astype(np.bool)))\n",
        "    \n",
        "    print('Prediction has be saved successfully!')"
      ],
      "execution_count": 51,
      "outputs": []
    },
    {
      "cell_type": "code",
      "metadata": {
        "id": "0oqRnMSK-f0F",
        "outputId": "2217414a-0778-4c39-ec52-a0bed7e2261a",
        "colab": {
          "base_uri": "https://localhost:8080/"
        }
      },
      "source": [
        "predict(out_dir, \"model\")"
      ],
      "execution_count": 52,
      "outputs": [
        {
          "output_type": "stream",
          "text": [
            "WARNING:tensorflow:Model was constructed with shape (None, 1, 17) for input Tensor(\"flatten_3_input_1:0\", shape=(None, 1, 17), dtype=float32), but it was called on an input with incompatible shape (None, 17).\n",
            "Prediction has be saved successfully!\n"
          ],
          "name": "stdout"
        }
      ]
    },
    {
      "cell_type": "code",
      "metadata": {
        "id": "uCtZwuin-jsV"
      },
      "source": [
        "# Create train and predict lightweight components.\n",
        "train_op = comp.func_to_container_op(train , base_image = \"tensorflow/tensorflow:latest-gpu-py3\")\n",
        "predict_op = comp.func_to_container_op(predict , base_image = \"tensorflow/tensorflow:latest-gpu-py3\")"
      ],
      "execution_count": 53,
      "outputs": []
    },
    {
      "cell_type": "markdown",
      "metadata": {
        "id": "qipkX0As_cul"
      },
      "source": [
        "#Build a Kubeflow Pipeline"
      ]
    },
    {
      "cell_type": "code",
      "metadata": {
        "id": "lOeXDGFu_W05"
      },
      "source": [
        "import kfp.dsl as dsl\n",
        "@dsl.pipeline(\n",
        "   name='Campaign finance pipeline',\n",
        "   description='A classification pipeline that performs predictions on electoral results.'\n",
        ")\n",
        "def camp_pipeline(\n",
        "  data_path: str,\n",
        "  model_file: str\n",
        "):\n",
        "   # Define volume to share data between components.\n",
        "    vop = dsl.VolumeOp(\n",
        "    name=\"create_volume\",\n",
        "    resource_name=\"data-volume\", \n",
        "    size=\"1Gi\", \n",
        "    modes=dsl.VOLUME_MODE_RWO)\n",
        "    \n",
        "    # Create churn training component.\n",
        "    churn_training_container = train_op(data_path, model_file) \\\n",
        "                                    .add_pvolumes({data_path: vop.volume})\n",
        "\n",
        "    # Create Churn prediction component.\n",
        "    churn_predict_container = predict_op(data_path, model_file) \\\n",
        "                                    .add_pvolumes({data_path: churn_training_container.pvolume})\n",
        "    \n",
        "    # Print the result of the prediction\n",
        "    churn_result_container = dsl.ContainerOp(\n",
        "        name=\"print_prediction\",\n",
        "        image='library/bash:4.4.23',\n",
        "        pvolumes={data_path: churn_predict_container.pvolume},\n",
        "        arguments=['cat', f'{data_path}/result.txt']\n",
        "    )"
      ],
      "execution_count": 54,
      "outputs": []
    },
    {
      "cell_type": "code",
      "metadata": {
        "id": "gPk9TtRfOVgX"
      },
      "source": [
        "DATA_PATH = '/mnt'\n",
        "MODEL_PATH='churn_classifier.h5'"
      ],
      "execution_count": 55,
      "outputs": []
    },
    {
      "cell_type": "code",
      "metadata": {
        "id": "rSC_74fdDot2"
      },
      "source": [
        "pipeline_func = camp_pipeline"
      ],
      "execution_count": 56,
      "outputs": []
    },
    {
      "cell_type": "code",
      "metadata": {
        "id": "GYypERS4Dxq3"
      },
      "source": [
        "experiment_name = 'campaign_finance_kubeflow'\n",
        "run_name = pipeline_func.__name__ + ' run'\n",
        "\n",
        "arguments = {\"data_path\":DATA_PATH,\n",
        "             \"model_file\":MODEL_PATH}\n",
        "\n",
        "# Compile pipeline to generate compressed YAML definition of the pipeline.\n",
        "kfp.compiler.Compiler().compile(pipeline_func,  \n",
        "  '{}.zip'.format(experiment_name))"
      ],
      "execution_count": 57,
      "outputs": []
    },
    {
      "cell_type": "code",
      "metadata": {
        "id": "9ylhmQKSEKuq"
      },
      "source": [
        ""
      ],
      "execution_count": 57,
      "outputs": []
    }
  ]
}